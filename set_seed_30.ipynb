{
 "cells": [
  {
   "cell_type": "code",
   "execution_count": 1,
   "metadata": {},
   "outputs": [],
   "source": [
    "import warnings\n",
    "warnings.filterwarnings('ignore')"
   ]
  },
  {
   "cell_type": "code",
   "execution_count": 2,
   "metadata": {
    "tags": []
   },
   "outputs": [],
   "source": [
    "import ast\n",
    "import matplotlib.pyplot as plt\n",
    "import numpy as np\n",
    "import os\n",
    "import pandas as pd\n",
    "import random\n",
    "from sklearn.ensemble import RandomForestClassifier\n",
    "from sklearn.metrics import accuracy_score\n",
    "from sklearn.metrics import confusion_matrix, ConfusionMatrixDisplay\n",
    "from sklearn.model_selection import train_test_split\n",
    "from sklearn.preprocessing import MultiLabelBinarizer\n",
    "from sklearn.svm import SVC\n",
    "import tensorflow as tf\n",
    "from tensorflow.keras import layers, models\n",
    "import wfdb\n",
    "import random"
   ]
  },
  {
   "cell_type": "markdown",
   "metadata": {},
   "source": [
    "### Load Data"
   ]
  },
  {
   "cell_type": "code",
   "execution_count": 3,
   "metadata": {},
   "outputs": [],
   "source": [
    "def load_raw_data(df, sampling_rate, path):\n",
    "    if sampling_rate == 100:\n",
    "        data = [wfdb.rdsamp(path+f) for f in df.filename_lr]\n",
    "    else:\n",
    "        data = [wfdb.rdsamp(path+f) for f in df.filename_hr]\n",
    "    data = np.array([signal for signal, meta in data])\n",
    "    return data\n",
    "\n",
    "path = \"/Users/danielkim/Documents/MIDS/W207-ML/Final/Data/ptb-xl-a-large-publicly-available-electrocardiography-dataset-1.0.3/\"\n",
    "sampling_rate = 100\n",
    "\n",
    "Y = pd.read_csv(path + \"ptbxl_database.csv\", index_col=\"ecg_id\")\n",
    "Y.scp_codes = Y.scp_codes.apply(lambda x: ast.literal_eval(x))\n",
    "\n",
    "X = load_raw_data(Y, sampling_rate, path)\n",
    "\n",
    "agg_df = pd.read_csv(path + \"scp_statements.csv\", index_col=0)\n",
    "agg_df = agg_df[agg_df.diagnostic == 1]\n",
    "\n",
    "def aggregate_diagnostic(y_dic):\n",
    "    tmp = []\n",
    "    for key in y_dic.keys():\n",
    "        if key in agg_df.index:\n",
    "            tmp.append(agg_df.loc[key].diagnostic_class)\n",
    "    return list(set(tmp))\n",
    "\n",
    "Y['diagnostic_superclass'] = Y.scp_codes.apply(aggregate_diagnostic)\n",
    "Y['diagnostic_superclass'] = Y['diagnostic_superclass'].apply(lambda x: x[0] if len(x) > 0 else 'NORM')"
   ]
  },
  {
   "cell_type": "code",
   "execution_count": 4,
   "metadata": {},
   "outputs": [
    {
     "data": {
      "text/plain": [
       "array([[-0.119, -0.055,  0.064, ..., -0.026, -0.039, -0.079],\n",
       "       [-0.116, -0.051,  0.065, ..., -0.031, -0.034, -0.074],\n",
       "       [-0.12 , -0.044,  0.076, ..., -0.028, -0.029, -0.069],\n",
       "       ...,\n",
       "       [ 0.069,  0.   , -0.069, ...,  0.024, -0.041, -0.058],\n",
       "       [ 0.086,  0.004, -0.081, ...,  0.242, -0.046, -0.098],\n",
       "       [ 0.022, -0.031, -0.054, ...,  0.143, -0.035, -0.12 ]])"
      ]
     },
     "execution_count": 4,
     "metadata": {},
     "output_type": "execute_result"
    }
   ],
   "source": [
    "X[0] # First example"
   ]
  },
  {
   "cell_type": "code",
   "execution_count": 5,
   "metadata": {},
   "outputs": [
    {
     "data": {
      "text/plain": [
       "(array(['CD', 'HYP', 'MI', 'NORM', 'STTC'], dtype=object),\n",
       " array([1708, 1140, 3829, 9887, 5235]))"
      ]
     },
     "execution_count": 5,
     "metadata": {},
     "output_type": "execute_result"
    }
   ],
   "source": [
    "y = Y['diagnostic_superclass'].to_numpy()\n",
    "classes, counts = np.unique(y, return_counts=True)\n",
    "classes, counts # Don't end up with same counts each time - fix?"
   ]
  },
  {
   "cell_type": "code",
   "execution_count": 6,
   "metadata": {},
   "outputs": [],
   "source": [
    "X_train, X_test, y_train, y_test = train_test_split(X, y, test_size=0.20, random_state=42, shuffle=True)"
   ]
  },
  {
   "cell_type": "code",
   "execution_count": 7,
   "metadata": {},
   "outputs": [
    {
     "data": {
      "text/plain": [
       "(17439,)"
      ]
     },
     "execution_count": 7,
     "metadata": {},
     "output_type": "execute_result"
    }
   ],
   "source": [
    "y_train.shape"
   ]
  },
  {
   "cell_type": "code",
   "execution_count": 8,
   "metadata": {},
   "outputs": [
    {
     "data": {
      "image/png": "[encoded data removed]",
      "text/plain": [
       "<Figure size 500x300 with 1 Axes>"
      ]
     },
     "metadata": {},
     "output_type": "display_data"
    }
   ],
   "source": [
    "plt.figure(figsize=(5,3))\n",
    "pd.Series(y_train).value_counts().plot(kind='bar')\n",
    "plt.title('Diagnostic Superclass Distribution')\n",
    "plt.xlabel('Superclass')\n",
    "plt.ylabel('Count')\n",
    "plt.show()"
   ]
  },
  {
   "cell_type": "code",
   "execution_count": 9,
   "metadata": {},
   "outputs": [
    {
     "name": "stdout",
     "output_type": "stream",
     "text": [
      "['CD' 'HYP' 'MI' 'NORM' 'STTC'] [1365  922 3092 7877 4183]\n"
     ]
    }
   ],
   "source": [
    "train_classes, train_counts = np.unique(y_train, return_counts=True)\n",
    "print(train_classes, train_counts)"
   ]
  },
  {
   "cell_type": "markdown",
   "metadata": {},
   "source": [
    "### Correct Data Imbalance"
   ]
  },
  {
   "cell_type": "code",
   "execution_count": 10,
   "metadata": {},
   "outputs": [],
   "source": [
    "#smallest_class_count = min(train_counts)\n",
    "#print(smallest_class_count)"
   ]
  },
  {
   "cell_type": "code",
   "execution_count": 11,
   "metadata": {},
   "outputs": [],
   "source": [
    "#def get_class_subset(ekg_class):\n",
    "#    y_train_class_indices = np.where(y_train == ekg_class)[0]\n",
    "#    y_train_class_subset_indices = np.random.choice(\n",
    "#        y_train_class_indices,\n",
    "#        size=smallest_class_count,\n",
    "#        replace=False\n",
    "#    )\n",
    "#    X_train_class_subset = X_train[y_train_class_subset_indices]\n",
    "#    y_train_class_subset = np.array([ekg_class] * smallest_class_count)\n",
    "#    return X_train_class_subset, y_train_class_subset\n",
    "\n",
    "#X_train_cd, y_train_cd = get_class_subset('CD')\n",
    "#X_train_hyp, y_train_hyp = get_class_subset('HYP')\n",
    "#X_train_mi, y_train_mi = get_class_subset('MI')\n",
    "#X_train_norm, y_train_norm = get_class_subset('NORM')\n",
    "#X_train_sttc, y_train_sttc = get_class_subset('STTC')"
   ]
  },
  {
   "cell_type": "code",
   "execution_count": 12,
   "metadata": {},
   "outputs": [],
   "source": [
    "#print(X_train_cd.shape)\n",
    "#print(X_train_hyp.shape)\n",
    "#print(X_train_mi.shape)\n",
    "#print(X_train_norm.shape)\n",
    "#print(X_train_sttc.shape)"
   ]
  },
  {
   "cell_type": "code",
   "execution_count": 13,
   "metadata": {},
   "outputs": [],
   "source": [
    "#X_train = np.concatenate((X_train_cd, X_train_hyp, X_train_mi, X_train_norm, X_train_sttc))\n",
    "#X_train.shape"
   ]
  },
  {
   "cell_type": "code",
   "execution_count": 14,
   "metadata": {},
   "outputs": [],
   "source": [
    "#print(y_train_cd.shape)\n",
    "#print(y_train_hyp.shape)\n",
    "#print(y_train_mi.shape)\n",
    "#print(y_train_norm.shape)\n",
    "#print(y_train_sttc.shape)"
   ]
  },
  {
   "cell_type": "code",
   "execution_count": 15,
   "metadata": {},
   "outputs": [],
   "source": [
    "#y_train = np.concatenate((y_train_cd, y_train_hyp, y_train_mi, y_train_norm, y_train_sttc))\n",
    "#y_train.shape"
   ]
  },
  {
   "cell_type": "code",
   "execution_count": 16,
   "metadata": {},
   "outputs": [],
   "source": [
    "#plt.figure(figsize=(5,3))\n",
    "#pd.Series(y_train).value_counts().plot(kind='bar')\n",
    "#plt.title('Diagnostic Superclass Distribution')\n",
    "#plt.xlabel('Superclass')\n",
    "#plt.ylabel('Count')\n",
    "#plt.show()"
   ]
  },
  {
   "cell_type": "markdown",
   "metadata": {},
   "source": [
    "### Split Data"
   ]
  },
  {
   "cell_type": "code",
   "execution_count": 17,
   "metadata": {},
   "outputs": [],
   "source": [
    "random.seed(33)\n",
    "    \n",
    "X_train, X_val, y_train, y_val = train_test_split(X_train, y_train, test_size=0.20, random_state=42, shuffle=True)"
   ]
  },
  {
   "cell_type": "code",
   "execution_count": 18,
   "metadata": {},
   "outputs": [
    {
     "name": "stdout",
     "output_type": "stream",
     "text": [
      "Training data shape: (13951, 1000, 12)\n",
      "Training labels shape: (13951,) \n",
      "\n",
      "Validation data shape: (3488, 1000, 12)\n",
      "Validation labels shape: (3488,) \n",
      "\n",
      "Test data shape: (4360, 1000, 12)\n",
      "Test labels shape: (4360,)\n"
     ]
    }
   ],
   "source": [
    "print('Training data shape:', X_train.shape)\n",
    "print('Training labels shape:', y_train.shape, '\\n')\n",
    "print('Validation data shape:', X_val.shape)\n",
    "print('Validation labels shape:', y_val.shape, '\\n')\n",
    "print('Test data shape:', X_test.shape)\n",
    "print('Test labels shape:', y_test.shape)"
   ]
  },
  {
   "cell_type": "markdown",
   "metadata": {},
   "source": [
    "### Normalize Data"
   ]
  },
  {
   "cell_type": "code",
   "execution_count": 19,
   "metadata": {},
   "outputs": [
    {
     "name": "stdout",
     "output_type": "stream",
     "text": [
      "-20.032 17.212\n"
     ]
    }
   ],
   "source": [
    "X_train_extra_flat = np.array([ekg.flatten() for ekg in X_train]).flatten()\n",
    "print(min(X_train_extra_flat), max(X_train_extra_flat))"
   ]
  },
  {
   "cell_type": "code",
   "execution_count": 20,
   "metadata": {},
   "outputs": [],
   "source": [
    "def normalize(data):\n",
    "    data_mean = data.mean()\n",
    "    data_sd = data.std()\n",
    "    return (data - data_mean) / data_sd\n",
    "\n",
    "X_train = normalize(X_train)\n",
    "X_val = normalize(X_val)\n",
    "X_test = normalize(X_test)"
   ]
  },
  {
   "cell_type": "code",
   "execution_count": 21,
   "metadata": {},
   "outputs": [
    {
     "name": "stdout",
     "output_type": "stream",
     "text": [
      "-84.6615727926282 72.74981945746957\n"
     ]
    }
   ],
   "source": [
    "X_train_extra_flat = np.array([ekg.flatten() for ekg in X_train]).flatten()\n",
    "print(min(X_train_extra_flat), max(X_train_extra_flat))"
   ]
  },
  {
   "cell_type": "markdown",
   "metadata": {},
   "source": [
    "### Baseline Models"
   ]
  },
  {
   "cell_type": "code",
   "execution_count": 22,
   "metadata": {},
   "outputs": [
    {
     "name": "stdout",
     "output_type": "stream",
     "text": [
      "Training accuracy: 0.19618665328650275\n",
      "Validation accuracy: 0.20011467889908258\n",
      "Test accuracy: 0.19243119266055045\n"
     ]
    },
    {
     "data": {
      "image/png": "[encoded data removed]",
      "text/plain": [
       "<Figure size 640x480 with 2 Axes>"
      ]
     },
     "metadata": {},
     "output_type": "display_data"
    }
   ],
   "source": [
    "def random_classification(training_data):\n",
    "    return [np.random.choice(classes) for _ in training_data]\n",
    "\n",
    "predictions_train = random_classification(X_train)\n",
    "accuracy_train = accuracy_score(y_train, predictions_train)\n",
    "print('Training accuracy:', accuracy_train)\n",
    "\n",
    "predictions_val = random_classification(X_val)\n",
    "accuracy_val = accuracy_score(y_val, predictions_val)\n",
    "print('Validation accuracy:', accuracy_val)\n",
    "\n",
    "predictions_test = random_classification(X_test)\n",
    "accuracy_test = accuracy_score(y_test, predictions_test)\n",
    "print('Test accuracy:', accuracy_test)\n",
    "\n",
    "random_cm = confusion_matrix(y_test, predictions_test, labels=train_classes)\n",
    "ConfusionMatrixDisplay(confusion_matrix=random_cm, display_labels=train_classes).plot();"
   ]
  },
  {
   "cell_type": "code",
   "execution_count": 23,
   "metadata": {},
   "outputs": [
    {
     "name": "stdout",
     "output_type": "stream",
     "text": [
      "Training accuracy: 0.44943014837646045\n",
      "Validation accuracy: 0.4607224770642202\n",
      "Test accuracy: 0.4610091743119266\n"
     ]
    },
    {
     "data": {
      "image/png": "[encoded data removed]",
      "text/plain": [
       "<Figure size 640x480 with 2 Axes>"
      ]
     },
     "metadata": {},
     "output_type": "display_data"
    }
   ],
   "source": [
    "def always_classify_normal(training_data):\n",
    "    return ['NORM'] * len(training_data)\n",
    "\n",
    "predictions_train = always_classify_normal(X_train)\n",
    "accuracy_train = accuracy_score(y_train, predictions_train)\n",
    "print('Training accuracy:', accuracy_train)\n",
    "\n",
    "predictions_val = always_classify_normal(X_val)\n",
    "accuracy_val = accuracy_score(y_val, predictions_val)\n",
    "print('Validation accuracy:', accuracy_val)\n",
    "\n",
    "predictions_test = always_classify_normal(X_test)\n",
    "accuracy_test = accuracy_score(y_test, predictions_test)\n",
    "print('Test accuracy:', accuracy_test)\n",
    "\n",
    "normal_cm = confusion_matrix(y_test, predictions_test, labels=train_classes)\n",
    "ConfusionMatrixDisplay(confusion_matrix=normal_cm, display_labels=train_classes).plot();"
   ]
  },
  {
   "cell_type": "markdown",
   "metadata": {},
   "source": [
    "### Train Models"
   ]
  },
  {
   "cell_type": "code",
   "execution_count": 24,
   "metadata": {},
   "outputs": [
    {
     "name": "stdout",
     "output_type": "stream",
     "text": [
      "(13951, 12000)\n",
      "(3488, 12000)\n",
      "(4360, 12000)\n"
     ]
    }
   ],
   "source": [
    "X_train_flattened = np.array([ekg.flatten() for ekg in X_train])\n",
    "print(X_train_flattened.shape)\n",
    "\n",
    "X_val_flattened = np.array([ekg.flatten() for ekg in X_val])\n",
    "print(X_val_flattened.shape)\n",
    "\n",
    "X_test_flattened = np.array([ekg.flatten() for ekg in X_test])\n",
    "print(X_test_flattened.shape)"
   ]
  },
  {
   "cell_type": "markdown",
   "metadata": {},
   "source": [
    "**Neural Network**"
   ]
  },
  {
   "cell_type": "code",
   "execution_count": 25,
   "metadata": {},
   "outputs": [],
   "source": [
    "mlb = MultiLabelBinarizer()\n",
    "y_train = mlb.fit_transform(y_train)\n",
    "y_val = mlb.transform(y_val)\n",
    "y_test = mlb.transform(y_test)"
   ]
  },
  {
   "cell_type": "markdown",
   "metadata": {},
   "source": [
    "## Run Model 30x Times"
   ]
  },
  {
   "cell_type": "markdown",
   "metadata": {},
   "source": [
    "### Run with set seed"
   ]
  },
  {
   "cell_type": "code",
   "execution_count": null,
   "metadata": {
    "tags": []
   },
   "outputs": [
    {
     "name": "stdout",
     "output_type": "stream",
     "text": [
      "Epoch 1/10\n"
     ]
    },
    {
     "name": "stderr",
     "output_type": "stream",
     "text": [
      "2024-04-16 23:23:32.373983: W tensorflow/tsl/platform/profile_utils/cpu_utils.cc:128] Failed to get CPU frequency: 0 Hz\n"
     ]
    },
    {
     "name": "stdout",
     "output_type": "stream",
     "text": [
      "436/436 [==============================] - 26s 59ms/step - loss: 7274132706164736.0000 - accuracy: 0.1328 - val_loss: 58135010871345152.0000 - val_accuracy: 0.4607\n",
      "Epoch 2/10\n",
      "436/436 [==============================] - 26s 59ms/step - loss: nan - accuracy: 0.1865 - val_loss: nan - val_accuracy: 0.3254\n",
      "Epoch 3/10\n",
      "436/436 [==============================] - 26s 59ms/step - loss: nan - accuracy: 0.3163 - val_loss: nan - val_accuracy: 0.3254\n",
      "Epoch 4/10\n",
      "436/436 [==============================] - 27s 63ms/step - loss: nan - accuracy: 0.3163 - val_loss: nan - val_accuracy: 0.3254\n",
      "Epoch 5/10\n",
      "436/436 [==============================] - 23s 53ms/step - loss: nan - accuracy: 0.3163 - val_loss: nan - val_accuracy: 0.3254\n",
      "Epoch 6/10\n",
      "436/436 [==============================] - 22s 51ms/step - loss: nan - accuracy: 0.3163 - val_loss: nan - val_accuracy: 0.3254\n",
      "Epoch 7/10\n",
      "436/436 [==============================] - 22s 51ms/step - loss: nan - accuracy: 0.3163 - val_loss: nan - val_accuracy: 0.3254\n",
      "Epoch 8/10\n",
      "436/436 [==============================] - 22s 50ms/step - loss: nan - accuracy: 0.3163 - val_loss: nan - val_accuracy: 0.3254\n",
      "Epoch 9/10\n",
      "436/436 [==============================] - 23s 53ms/step - loss: nan - accuracy: 0.3163 - val_loss: nan - val_accuracy: 0.3254\n",
      "Epoch 10/10\n",
      "436/436 [==============================] - 25s 57ms/step - loss: nan - accuracy: 0.3163 - val_loss: nan - val_accuracy: 0.3254\n",
      "Epoch 1/10\n",
      "436/436 [==============================] - 23s 53ms/step - loss: 131179390825398272.0000 - accuracy: 0.1777 - val_loss: 1121251858875154432.0000 - val_accuracy: 0.4607\n",
      "Epoch 2/10\n",
      "436/436 [==============================] - 24s 54ms/step - loss: nan - accuracy: 0.2532 - val_loss: nan - val_accuracy: 0.3254\n",
      "Epoch 3/10\n",
      "436/436 [==============================] - 23s 54ms/step - loss: nan - accuracy: 0.3163 - val_loss: nan - val_accuracy: 0.3254\n",
      "Epoch 4/10\n",
      "436/436 [==============================] - 22s 50ms/step - loss: nan - accuracy: 0.3163 - val_loss: nan - val_accuracy: 0.3254\n",
      "Epoch 5/10\n",
      "436/436 [==============================] - 24s 56ms/step - loss: nan - accuracy: 0.3163 - val_loss: nan - val_accuracy: 0.3254\n",
      "Epoch 6/10\n",
      "436/436 [==============================] - 24s 56ms/step - loss: nan - accuracy: 0.3163 - val_loss: nan - val_accuracy: 0.3254\n",
      "Epoch 7/10\n",
      "436/436 [==============================] - 21s 49ms/step - loss: nan - accuracy: 0.3163 - val_loss: nan - val_accuracy: 0.3254\n",
      "Epoch 8/10\n",
      "436/436 [==============================] - 22s 51ms/step - loss: nan - accuracy: 0.3163 - val_loss: nan - val_accuracy: 0.3254\n",
      "Epoch 9/10\n",
      "436/436 [==============================] - 21s 48ms/step - loss: nan - accuracy: 0.3163 - val_loss: nan - val_accuracy: 0.3254\n",
      "Epoch 10/10\n",
      "436/436 [==============================] - 21s 49ms/step - loss: nan - accuracy: 0.3163 - val_loss: nan - val_accuracy: 0.3254\n",
      "Epoch 1/10\n",
      "436/436 [==============================] - 25s 56ms/step - loss: 359094934306816.0000 - accuracy: 0.2021 - val_loss: 3147530544087040.0000 - val_accuracy: 0.4607\n",
      "Epoch 2/10\n",
      "436/436 [==============================] - 24s 54ms/step - loss: 10081046082101444608.0000 - accuracy: 0.1598 - val_loss: 45658583737816842240.0000 - val_accuracy: 0.4607\n",
      "Epoch 3/10\n",
      "436/436 [==============================] - 24s 54ms/step - loss: nan - accuracy: 0.3154 - val_loss: nan - val_accuracy: 0.3254\n",
      "Epoch 4/10\n",
      "436/436 [==============================] - 24s 56ms/step - loss: nan - accuracy: 0.3163 - val_loss: nan - val_accuracy: 0.3254\n",
      "Epoch 5/10\n",
      "436/436 [==============================] - 26s 59ms/step - loss: nan - accuracy: 0.3163 - val_loss: nan - val_accuracy: 0.3254\n",
      "Epoch 6/10\n",
      "436/436 [==============================] - 25s 58ms/step - loss: nan - accuracy: 0.3163 - val_loss: nan - val_accuracy: 0.3254\n",
      "Epoch 7/10\n",
      "436/436 [==============================] - 30s 69ms/step - loss: nan - accuracy: 0.3163 - val_loss: nan - val_accuracy: 0.3254\n",
      "Epoch 8/10\n",
      "436/436 [==============================] - 31s 72ms/step - loss: nan - accuracy: 0.3163 - val_loss: nan - val_accuracy: 0.3254\n",
      "Epoch 9/10\n",
      "436/436 [==============================] - 32s 74ms/step - loss: nan - accuracy: 0.3163 - val_loss: nan - val_accuracy: 0.3254\n",
      "Epoch 10/10\n",
      "436/436 [==============================] - 32s 73ms/step - loss: nan - accuracy: 0.3163 - val_loss: nan - val_accuracy: 0.3254\n",
      "Epoch 1/10\n",
      "436/436 [==============================] - 24s 53ms/step - loss: 7371391166840832.0000 - accuracy: 0.1792 - val_loss: 46304149792358400.0000 - val_accuracy: 0.4607\n",
      "Epoch 2/10\n",
      "436/436 [==============================] - 22s 50ms/step - loss: nan - accuracy: 0.1900 - val_loss: nan - val_accuracy: 0.3254\n",
      "Epoch 3/10\n",
      "436/436 [==============================] - 22s 50ms/step - loss: nan - accuracy: 0.3163 - val_loss: nan - val_accuracy: 0.3254\n",
      "Epoch 4/10\n",
      "436/436 [==============================] - 21s 49ms/step - loss: nan - accuracy: 0.3163 - val_loss: nan - val_accuracy: 0.3254\n",
      "Epoch 5/10\n",
      "436/436 [==============================] - 21s 49ms/step - loss: nan - accuracy: 0.3163 - val_loss: nan - val_accuracy: 0.3254\n",
      "Epoch 6/10\n",
      "436/436 [==============================] - 23s 52ms/step - loss: nan - accuracy: 0.3163 - val_loss: nan - val_accuracy: 0.3254\n",
      "Epoch 7/10\n",
      "436/436 [==============================] - 25s 57ms/step - loss: nan - accuracy: 0.3163 - val_loss: nan - val_accuracy: 0.3254\n",
      "Epoch 8/10\n",
      "436/436 [==============================] - 23s 52ms/step - loss: nan - accuracy: 0.3163 - val_loss: nan - val_accuracy: 0.3254\n",
      "Epoch 9/10\n",
      "436/436 [==============================] - 22s 50ms/step - loss: nan - accuracy: 0.3163 - val_loss: nan - val_accuracy: 0.3254\n",
      "Epoch 10/10\n",
      "436/436 [==============================] - 21s 47ms/step - loss: nan - accuracy: 0.3163 - val_loss: nan - val_accuracy: 0.3254\n",
      "Epoch 1/10\n",
      "436/436 [==============================] - 22s 50ms/step - loss: 9996051050135552.0000 - accuracy: 0.1608 - val_loss: 91289057430077440.0000 - val_accuracy: 0.4607\n",
      "Epoch 2/10\n",
      "436/436 [==============================] - 22s 50ms/step - loss: nan - accuracy: 0.2006 - val_loss: nan - val_accuracy: 0.3254\n",
      "Epoch 3/10\n",
      "436/436 [==============================] - 24s 55ms/step - loss: nan - accuracy: 0.3163 - val_loss: nan - val_accuracy: 0.3254\n",
      "Epoch 4/10\n",
      "436/436 [==============================] - 24s 55ms/step - loss: nan - accuracy: 0.3163 - val_loss: nan - val_accuracy: 0.3254\n",
      "Epoch 5/10\n",
      "436/436 [==============================] - 26s 59ms/step - loss: nan - accuracy: 0.3163 - val_loss: nan - val_accuracy: 0.3254\n",
      "Epoch 6/10\n",
      "436/436 [==============================] - 28s 65ms/step - loss: nan - accuracy: 0.3163 - val_loss: nan - val_accuracy: 0.3254\n",
      "Epoch 7/10\n",
      "436/436 [==============================] - 29s 66ms/step - loss: nan - accuracy: 0.3163 - val_loss: nan - val_accuracy: 0.3254\n",
      "Epoch 8/10\n",
      "436/436 [==============================] - 25s 56ms/step - loss: nan - accuracy: 0.3163 - val_loss: nan - val_accuracy: 0.3254\n",
      "Epoch 9/10\n",
      "436/436 [==============================] - 27s 61ms/step - loss: nan - accuracy: 0.3163 - val_loss: nan - val_accuracy: 0.3254\n",
      "Epoch 10/10\n",
      "436/436 [==============================] - 26s 59ms/step - loss: nan - accuracy: 0.3163 - val_loss: nan - val_accuracy: 0.3254\n",
      "Epoch 1/10\n",
      "436/436 [==============================] - 28s 62ms/step - loss: 2754883291709440.0000 - accuracy: 0.1031 - val_loss: 20979798549463040.0000 - val_accuracy: 0.0000e+00\n",
      "Epoch 2/10\n",
      "436/436 [==============================] - 24s 55ms/step - loss: nan - accuracy: 0.1701 - val_loss: nan - val_accuracy: 0.3254\n",
      "Epoch 3/10\n",
      "436/436 [==============================] - 23s 53ms/step - loss: nan - accuracy: 0.3163 - val_loss: nan - val_accuracy: 0.3254\n",
      "Epoch 4/10\n",
      "436/436 [==============================] - 25s 57ms/step - loss: nan - accuracy: 0.3163 - val_loss: nan - val_accuracy: 0.3254\n",
      "Epoch 5/10\n",
      "436/436 [==============================] - 23s 52ms/step - loss: nan - accuracy: 0.3163 - val_loss: nan - val_accuracy: 0.3254\n",
      "Epoch 6/10\n",
      "436/436 [==============================] - 23s 54ms/step - loss: nan - accuracy: 0.3163 - val_loss: nan - val_accuracy: 0.3254\n",
      "Epoch 7/10\n",
      "436/436 [==============================] - 24s 55ms/step - loss: nan - accuracy: 0.3163 - val_loss: nan - val_accuracy: 0.3254\n",
      "Epoch 8/10\n",
      "436/436 [==============================] - 24s 54ms/step - loss: nan - accuracy: 0.3163 - val_loss: nan - val_accuracy: 0.3254\n",
      "Epoch 9/10\n",
      "436/436 [==============================] - 25s 57ms/step - loss: nan - accuracy: 0.3163 - val_loss: nan - val_accuracy: 0.3254\n",
      "Epoch 10/10\n",
      "436/436 [==============================] - 24s 56ms/step - loss: nan - accuracy: 0.3163 - val_loss: nan - val_accuracy: 0.3254\n",
      "Epoch 1/10\n",
      "436/436 [==============================] - 28s 63ms/step - loss: 26991273147629568.0000 - accuracy: 0.1497 - val_loss: 195228941030522880.0000 - val_accuracy: 0.4607\n",
      "Epoch 2/10\n",
      "436/436 [==============================] - 23s 52ms/step - loss: nan - accuracy: 0.2110 - val_loss: nan - val_accuracy: 0.3254\n",
      "Epoch 3/10\n",
      "436/436 [==============================] - 22s 51ms/step - loss: nan - accuracy: 0.3163 - val_loss: nan - val_accuracy: 0.3254\n",
      "Epoch 4/10\n",
      "436/436 [==============================] - 23s 54ms/step - loss: nan - accuracy: 0.3163 - val_loss: nan - val_accuracy: 0.3254\n",
      "Epoch 5/10\n",
      "436/436 [==============================] - 24s 56ms/step - loss: nan - accuracy: 0.3163 - val_loss: nan - val_accuracy: 0.3254\n",
      "Epoch 6/10\n",
      "436/436 [==============================] - 24s 55ms/step - loss: nan - accuracy: 0.3163 - val_loss: nan - val_accuracy: 0.3254\n",
      "Epoch 7/10\n",
      "137/436 [========>.....................] - ETA: 15s - loss: nan - accuracy: 0.3100"
     ]
    }
   ],
   "source": [
    "training_accuracies = []\n",
    "validation_accuracies = []\n",
    "\n",
    "for i in range(30):\n",
    "\n",
    "    np.random.seed(33)\n",
    "    tf.random.set_seed(33)\n",
    "    \n",
    "    model = models.Sequential()\n",
    "    model.add(layers.Conv1D(64, 3, activation='relu', input_shape=(1000, 12)))\n",
    "    model.add(layers.MaxPooling1D(2))\n",
    "    model.add(layers.Conv1D(128, 3, activation='relu'))\n",
    "    model.add(layers.MaxPooling1D(2))\n",
    "    model.add(layers.Conv1D(256, 3, activation='relu'))\n",
    "    model.add(layers.MaxPooling1D(2))\n",
    "    model.add(layers.Flatten())\n",
    "    model.add(layers.Dense(256, activation='relu'))\n",
    "    model.add(layers.Dropout(0.5))\n",
    "    model.add(layers.Dense(128, activation='relu'))\n",
    "    model.add(layers.Dropout(0.5))\n",
    "    model.add(layers.Dense(64, activation='relu'))\n",
    "    model.add(layers.Dropout(0.5))\n",
    "    model.add(layers.Dense(32, activation='relu'))\n",
    "    model.add(layers.Dropout(0.5))\n",
    "    model.add(layers.Dense(16, activation='relu'))\n",
    "    model.add(layers.Dropout(0.5))\n",
    "    model.add(layers.Dense(12, activation='softmax'))\n",
    "\n",
    "    model.compile(optimizer='adam',\n",
    "                  loss='categorical_crossentropy',\n",
    "                  metrics=['accuracy'])\n",
    "\n",
    "    # Train the model\n",
    "    history = model.fit(X_train, y_train,\n",
    "                        epochs=10,\n",
    "                        batch_size=32,\n",
    "                        validation_data=(X_val, y_val))\n",
    "\n",
    "    training_accuracies.append(history.history['accuracy'])\n",
    "    validation_accuracies.append(history.history['val_accuracy'])\n",
    "\n",
    "print(f\"Training accuracies: {training_accuracies}\")\n",
    "print(f\"Validation accuracies: {validation_accuracies}\")"
   ]
  },
  {
   "cell_type": "code",
   "execution_count": null,
   "metadata": {
    "tags": []
   },
   "outputs": [],
   "source": [
    "training_accuracies = np.array(training_accuracies)\n",
    "validation_accuracies = np.array(validation_accuracies)"
   ]
  },
  {
   "cell_type": "code",
   "execution_count": null,
   "metadata": {
    "tags": []
   },
   "outputs": [],
   "source": [
    "training_acc = training_accuracies[:, -1]\n",
    "validation_acc = validation_accuracies[:, -1]"
   ]
  },
  {
   "cell_type": "code",
   "execution_count": null,
   "metadata": {
    "tags": []
   },
   "outputs": [],
   "source": [
    "accuracy = np.stack((training_acc, validation_acc), axis =1)\n",
    "accuracy = pd.DataFrame(accuracy)"
   ]
  },
  {
   "cell_type": "code",
   "execution_count": null,
   "metadata": {
    "tags": []
   },
   "outputs": [],
   "source": [
    "plt.figure(figsize=(9, 5))\n",
    "plt.scatter(training_acc, validation_acc, c='blue', alpha=0.7)\n",
    "\n",
    "plt.title('Scatter Plot of Training vs Validation Accuracies')\n",
    "plt.xlabel('Training Accuracy')\n",
    "plt.ylabel('Validation Accuracy')"
   ]
  },
  {
   "cell_type": "code",
   "execution_count": null,
   "metadata": {},
   "outputs": [],
   "source": [
    "plt.plot(history.history['accuracy'], label='Training Accuracy')\n",
    "plt.plot(history.history['val_accuracy'], label = 'Validation Accuracy')\n",
    "plt.xlabel('Epoch')\n",
    "plt.ylabel('Accuracy')\n",
    "plt.title('Accuracy Accross Epochs')\n",
    "plt.ylim([0, 1])\n",
    "plt.legend(loc='lower right')\n",
    "plt.show();"
   ]
  },
  {
   "cell_type": "code",
   "execution_count": null,
   "metadata": {},
   "outputs": [],
   "source": []
  }
 ],
 "metadata": {
  "kernelspec": {
   "display_name": "Python 3 (ipykernel)",
   "language": "python",
   "name": "python3"
  },
  "language_info": {
   "codemirror_mode": {
    "name": "ipython",
    "version": 3
   },
   "file_extension": ".py",
   "mimetype": "text/x-python",
   "name": "python",
   "nbconvert_exporter": "python",
   "pygments_lexer": "ipython3",
   "version": "3.11.5"
  }
 },
 "nbformat": 4,
 "nbformat_minor": 4
}
