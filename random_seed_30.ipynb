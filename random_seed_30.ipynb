{
 "cells": [
  {
   "cell_type": "code",
   "execution_count": 1,
   "metadata": {},
   "outputs": [],
   "source": [
    "import warnings\n",
    "warnings.filterwarnings('ignore')"
   ]
  },
  {
   "cell_type": "code",
   "execution_count": 2,
   "metadata": {
    "tags": []
   },
   "outputs": [],
   "source": [
    "import ast\n",
    "import matplotlib.pyplot as plt\n",
    "import numpy as np\n",
    "import os\n",
    "import pandas as pd\n",
    "import random\n",
    "from sklearn.ensemble import RandomForestClassifier\n",
    "from sklearn.metrics import accuracy_score\n",
    "from sklearn.metrics import confusion_matrix, ConfusionMatrixDisplay\n",
    "from sklearn.model_selection import train_test_split\n",
    "from sklearn.preprocessing import MultiLabelBinarizer\n",
    "from sklearn.svm import SVC\n",
    "import tensorflow as tf\n",
    "from tensorflow.keras import layers, models\n",
    "import wfdb\n",
    "import random"
   ]
  },
  {
   "cell_type": "markdown",
   "metadata": {},
   "source": [
    "### Load Data"
   ]
  },
  {
   "cell_type": "code",
   "execution_count": 3,
   "metadata": {},
   "outputs": [],
   "source": [
    "def load_raw_data(df, sampling_rate, path):\n",
    "    if sampling_rate == 100:\n",
    "        data = [wfdb.rdsamp(path+f) for f in df.filename_lr]\n",
    "    else:\n",
    "        data = [wfdb.rdsamp(path+f) for f in df.filename_hr]\n",
    "    data = np.array([signal for signal, meta in data])\n",
    "    return data\n",
    "\n",
    "path = \"/Users/danielkim/Documents/MIDS/W207-ML/Final/Data/ptb-xl-a-large-publicly-available-electrocardiography-dataset-1.0.3/\"\n",
    "sampling_rate = 100\n",
    "\n",
    "Y = pd.read_csv(path + \"ptbxl_database.csv\", index_col=\"ecg_id\")\n",
    "Y.scp_codes = Y.scp_codes.apply(lambda x: ast.literal_eval(x))\n",
    "\n",
    "X = load_raw_data(Y, sampling_rate, path)\n",
    "\n",
    "agg_df = pd.read_csv(path + \"scp_statements.csv\", index_col=0)\n",
    "agg_df = agg_df[agg_df.diagnostic == 1]\n",
    "\n",
    "def aggregate_diagnostic(y_dic):\n",
    "    tmp = []\n",
    "    for key in y_dic.keys():\n",
    "        if key in agg_df.index:\n",
    "            tmp.append(agg_df.loc[key].diagnostic_class)\n",
    "    return list(set(tmp))\n",
    "\n",
    "Y['diagnostic_superclass'] = Y.scp_codes.apply(aggregate_diagnostic)\n",
    "Y['diagnostic_superclass'] = Y['diagnostic_superclass'].apply(lambda x: x[0] if len(x) > 0 else 'NORM')"
   ]
  },
  {
   "cell_type": "code",
   "execution_count": 4,
   "metadata": {},
   "outputs": [
    {
     "data": {
      "text/plain": [
       "array([[-0.119, -0.055,  0.064, ..., -0.026, -0.039, -0.079],\n",
       "       [-0.116, -0.051,  0.065, ..., -0.031, -0.034, -0.074],\n",
       "       [-0.12 , -0.044,  0.076, ..., -0.028, -0.029, -0.069],\n",
       "       ...,\n",
       "       [ 0.069,  0.   , -0.069, ...,  0.024, -0.041, -0.058],\n",
       "       [ 0.086,  0.004, -0.081, ...,  0.242, -0.046, -0.098],\n",
       "       [ 0.022, -0.031, -0.054, ...,  0.143, -0.035, -0.12 ]])"
      ]
     },
     "execution_count": 4,
     "metadata": {},
     "output_type": "execute_result"
    }
   ],
   "source": [
    "X[0] # First example"
   ]
  },
  {
   "cell_type": "code",
   "execution_count": 5,
   "metadata": {},
   "outputs": [
    {
     "data": {
      "text/plain": [
       "(array(['CD', 'HYP', 'MI', 'NORM', 'STTC'], dtype=object),\n",
       " array([4898, 1862, 2532, 9508, 2999]))"
      ]
     },
     "execution_count": 5,
     "metadata": {},
     "output_type": "execute_result"
    }
   ],
   "source": [
    "y = Y['diagnostic_superclass'].to_numpy()\n",
    "classes, counts = np.unique(y, return_counts=True)\n",
    "classes, counts # Don't end up with same counts each time - fix?"
   ]
  },
  {
   "cell_type": "code",
   "execution_count": 6,
   "metadata": {},
   "outputs": [],
   "source": [
    "X_train, X_test, y_train, y_test = train_test_split(X, y, test_size=0.20, random_state=42, shuffle=True)"
   ]
  },
  {
   "cell_type": "code",
   "execution_count": 7,
   "metadata": {},
   "outputs": [
    {
     "data": {
      "text/plain": [
       "(17439,)"
      ]
     },
     "execution_count": 7,
     "metadata": {},
     "output_type": "execute_result"
    }
   ],
   "source": [
    "y_train.shape"
   ]
  },
  {
   "cell_type": "code",
   "execution_count": 8,
   "metadata": {},
   "outputs": [
    {
     "data": {
      "image/png": "[encoded data removed]",
      "text/plain": [
       "<Figure size 500x300 with 1 Axes>"
      ]
     },
     "metadata": {},
     "output_type": "display_data"
    }
   ],
   "source": [
    "plt.figure(figsize=(5,3))\n",
    "pd.Series(y_train).value_counts().plot(kind='bar')\n",
    "plt.title('Diagnostic Superclass Distribution')\n",
    "plt.xlabel('Superclass')\n",
    "plt.ylabel('Count')\n",
    "plt.show()"
   ]
  },
  {
   "cell_type": "code",
   "execution_count": 9,
   "metadata": {},
   "outputs": [
    {
     "name": "stdout",
     "output_type": "stream",
     "text": [
      "['CD' 'HYP' 'MI' 'NORM' 'STTC'] [3885 1505 2055 7582 2412]\n"
     ]
    }
   ],
   "source": [
    "train_classes, train_counts = np.unique(y_train, return_counts=True)\n",
    "print(train_classes, train_counts)"
   ]
  },
  {
   "cell_type": "markdown",
   "metadata": {},
   "source": [
    "### Correct Data Imbalance"
   ]
  },
  {
   "cell_type": "code",
   "execution_count": 10,
   "metadata": {},
   "outputs": [],
   "source": [
    "#smallest_class_count = min(train_counts)\n",
    "#print(smallest_class_count)"
   ]
  },
  {
   "cell_type": "code",
   "execution_count": 11,
   "metadata": {},
   "outputs": [],
   "source": [
    "#def get_class_subset(ekg_class):\n",
    "#    y_train_class_indices = np.where(y_train == ekg_class)[0]\n",
    "#    y_train_class_subset_indices = np.random.choice(\n",
    "#        y_train_class_indices,\n",
    "#        size=smallest_class_count,\n",
    "#        replace=False\n",
    "#    )\n",
    "#    X_train_class_subset = X_train[y_train_class_subset_indices]\n",
    "#    y_train_class_subset = np.array([ekg_class] * smallest_class_count)\n",
    "#    return X_train_class_subset, y_train_class_subset\n",
    "\n",
    "#X_train_cd, y_train_cd = get_class_subset('CD')\n",
    "#X_train_hyp, y_train_hyp = get_class_subset('HYP')\n",
    "#X_train_mi, y_train_mi = get_class_subset('MI')\n",
    "#X_train_norm, y_train_norm = get_class_subset('NORM')\n",
    "#X_train_sttc, y_train_sttc = get_class_subset('STTC')"
   ]
  },
  {
   "cell_type": "code",
   "execution_count": 12,
   "metadata": {},
   "outputs": [],
   "source": [
    "#print(X_train_cd.shape)\n",
    "#print(X_train_hyp.shape)\n",
    "#print(X_train_mi.shape)\n",
    "#print(X_train_norm.shape)\n",
    "#print(X_train_sttc.shape)"
   ]
  },
  {
   "cell_type": "code",
   "execution_count": 13,
   "metadata": {},
   "outputs": [],
   "source": [
    "#X_train = np.concatenate((X_train_cd, X_train_hyp, X_train_mi, X_train_norm, X_train_sttc))\n",
    "#X_train.shape"
   ]
  },
  {
   "cell_type": "code",
   "execution_count": 14,
   "metadata": {},
   "outputs": [],
   "source": [
    "#print(y_train_cd.shape)\n",
    "#print(y_train_hyp.shape)\n",
    "#print(y_train_mi.shape)\n",
    "#print(y_train_norm.shape)\n",
    "#print(y_train_sttc.shape)"
   ]
  },
  {
   "cell_type": "code",
   "execution_count": 15,
   "metadata": {},
   "outputs": [],
   "source": [
    "#y_train = np.concatenate((y_train_cd, y_train_hyp, y_train_mi, y_train_norm, y_train_sttc))\n",
    "#y_train.shape"
   ]
  },
  {
   "cell_type": "code",
   "execution_count": 16,
   "metadata": {},
   "outputs": [],
   "source": [
    "#plt.figure(figsize=(5,3))\n",
    "#pd.Series(y_train).value_counts().plot(kind='bar')\n",
    "#plt.title('Diagnostic Superclass Distribution')\n",
    "#plt.xlabel('Superclass')\n",
    "#plt.ylabel('Count')\n",
    "#plt.show()"
   ]
  },
  {
   "cell_type": "markdown",
   "metadata": {},
   "source": [
    "### Split Data"
   ]
  },
  {
   "cell_type": "code",
   "execution_count": 17,
   "metadata": {},
   "outputs": [],
   "source": [
    "X_train, X_val, y_train, y_val = train_test_split(X_train, y_train, test_size=0.20, random_state=42, shuffle=True)"
   ]
  },
  {
   "cell_type": "code",
   "execution_count": 18,
   "metadata": {},
   "outputs": [
    {
     "name": "stdout",
     "output_type": "stream",
     "text": [
      "Training data shape: (13951, 1000, 12)\n",
      "Training labels shape: (13951,) \n",
      "\n",
      "Validation data shape: (3488, 1000, 12)\n",
      "Validation labels shape: (3488,) \n",
      "\n",
      "Test data shape: (4360, 1000, 12)\n",
      "Test labels shape: (4360,)\n"
     ]
    }
   ],
   "source": [
    "print('Training data shape:', X_train.shape)\n",
    "print('Training labels shape:', y_train.shape, '\\n')\n",
    "print('Validation data shape:', X_val.shape)\n",
    "print('Validation labels shape:', y_val.shape, '\\n')\n",
    "print('Test data shape:', X_test.shape)\n",
    "print('Test labels shape:', y_test.shape)"
   ]
  },
  {
   "cell_type": "markdown",
   "metadata": {},
   "source": [
    "### Normalize Data"
   ]
  },
  {
   "cell_type": "code",
   "execution_count": 19,
   "metadata": {},
   "outputs": [
    {
     "name": "stdout",
     "output_type": "stream",
     "text": [
      "-20.032 17.212\n"
     ]
    }
   ],
   "source": [
    "X_train_extra_flat = np.array([ekg.flatten() for ekg in X_train]).flatten()\n",
    "print(min(X_train_extra_flat), max(X_train_extra_flat))"
   ]
  },
  {
   "cell_type": "code",
   "execution_count": 20,
   "metadata": {},
   "outputs": [],
   "source": [
    "def normalize(data):\n",
    "    data_mean = data.mean()\n",
    "    data_sd = data.std()\n",
    "    return (data - data_mean) / data_sd\n",
    "\n",
    "X_train = normalize(X_train)\n",
    "X_val = normalize(X_val)\n",
    "X_test = normalize(X_test)"
   ]
  },
  {
   "cell_type": "code",
   "execution_count": 21,
   "metadata": {},
   "outputs": [
    {
     "name": "stdout",
     "output_type": "stream",
     "text": [
      "-84.6615727926282 72.74981945746957\n"
     ]
    }
   ],
   "source": [
    "X_train_extra_flat = np.array([ekg.flatten() for ekg in X_train]).flatten()\n",
    "print(min(X_train_extra_flat), max(X_train_extra_flat))"
   ]
  },
  {
   "cell_type": "markdown",
   "metadata": {},
   "source": [
    "### Baseline Models"
   ]
  },
  {
   "cell_type": "code",
   "execution_count": 22,
   "metadata": {},
   "outputs": [
    {
     "name": "stdout",
     "output_type": "stream",
     "text": [
      "Training accuracy: 0.2022077270446563\n",
      "Validation accuracy: 0.19208715596330275\n",
      "Test accuracy: 0.19036697247706422\n"
     ]
    },
    {
     "data": {
      "image/png": "[encoded data removed]",
      "text/plain": [
       "<Figure size 640x480 with 2 Axes>"
      ]
     },
     "metadata": {},
     "output_type": "display_data"
    }
   ],
   "source": [
    "def random_classification(training_data):\n",
    "    return [np.random.choice(classes) for _ in training_data]\n",
    "\n",
    "predictions_train = random_classification(X_train)\n",
    "accuracy_train = accuracy_score(y_train, predictions_train)\n",
    "print('Training accuracy:', accuracy_train)\n",
    "\n",
    "predictions_val = random_classification(X_val)\n",
    "accuracy_val = accuracy_score(y_val, predictions_val)\n",
    "print('Validation accuracy:', accuracy_val)\n",
    "\n",
    "predictions_test = random_classification(X_test)\n",
    "accuracy_test = accuracy_score(y_test, predictions_test)\n",
    "print('Test accuracy:', accuracy_test)\n",
    "\n",
    "random_cm = confusion_matrix(y_test, predictions_test, labels=train_classes)\n",
    "ConfusionMatrixDisplay(confusion_matrix=random_cm, display_labels=train_classes).plot();"
   ]
  },
  {
   "cell_type": "code",
   "execution_count": 23,
   "metadata": {},
   "outputs": [
    {
     "name": "stdout",
     "output_type": "stream",
     "text": [
      "Training accuracy: 0.4328721955415382\n",
      "Validation accuracy: 0.4423738532110092\n",
      "Test accuracy: 0.44174311926605503\n"
     ]
    },
    {
     "data": {
      "image/png": "[encoded data removed]",
      "text/plain": [
       "<Figure size 640x480 with 2 Axes>"
      ]
     },
     "metadata": {},
     "output_type": "display_data"
    }
   ],
   "source": [
    "def always_classify_normal(training_data):\n",
    "    return ['NORM'] * len(training_data)\n",
    "\n",
    "predictions_train = always_classify_normal(X_train)\n",
    "accuracy_train = accuracy_score(y_train, predictions_train)\n",
    "print('Training accuracy:', accuracy_train)\n",
    "\n",
    "predictions_val = always_classify_normal(X_val)\n",
    "accuracy_val = accuracy_score(y_val, predictions_val)\n",
    "print('Validation accuracy:', accuracy_val)\n",
    "\n",
    "predictions_test = always_classify_normal(X_test)\n",
    "accuracy_test = accuracy_score(y_test, predictions_test)\n",
    "print('Test accuracy:', accuracy_test)\n",
    "\n",
    "normal_cm = confusion_matrix(y_test, predictions_test, labels=train_classes)\n",
    "ConfusionMatrixDisplay(confusion_matrix=normal_cm, display_labels=train_classes).plot();"
   ]
  },
  {
   "cell_type": "markdown",
   "metadata": {},
   "source": [
    "### Train Models"
   ]
  },
  {
   "cell_type": "code",
   "execution_count": 26,
   "metadata": {},
   "outputs": [
    {
     "name": "stdout",
     "output_type": "stream",
     "text": [
      "(13951, 12000)\n",
      "(3488, 12000)\n",
      "(4360, 12000)\n"
     ]
    }
   ],
   "source": [
    "X_train_flattened = np.array([ekg.flatten() for ekg in X_train])\n",
    "print(X_train_flattened.shape)\n",
    "\n",
    "X_val_flattened = np.array([ekg.flatten() for ekg in X_val])\n",
    "print(X_val_flattened.shape)\n",
    "\n",
    "X_test_flattened = np.array([ekg.flatten() for ekg in X_test])\n",
    "print(X_test_flattened.shape)"
   ]
  },
  {
   "cell_type": "markdown",
   "metadata": {},
   "source": [
    "**Neural Network**"
   ]
  },
  {
   "cell_type": "code",
   "execution_count": 27,
   "metadata": {},
   "outputs": [],
   "source": [
    "mlb = MultiLabelBinarizer()\n",
    "y_train = mlb.fit_transform(y_train)\n",
    "y_val = mlb.transform(y_val)\n",
    "y_test = mlb.transform(y_test)"
   ]
  },
  {
   "cell_type": "code",
   "execution_count": 29,
   "metadata": {
    "tags": []
   },
   "outputs": [
    {
     "name": "stdout",
     "output_type": "stream",
     "text": [
      "Epoch 1/10\n",
      "436/436 [==============================] - 15s 33ms/step - loss: 0.5619 - accuracy: 0.1790 - val_loss: 0.4372 - val_accuracy: 0.4481\n",
      "Epoch 2/10\n",
      "436/436 [==============================] - 15s 35ms/step - loss: 0.4624 - accuracy: 0.4630 - val_loss: 0.3964 - val_accuracy: 0.6451\n",
      "Epoch 3/10\n",
      "436/436 [==============================] - 14s 32ms/step - loss: 0.4314 - accuracy: 0.5706 - val_loss: 0.3826 - val_accuracy: 0.6732\n",
      "Epoch 4/10\n",
      "436/436 [==============================] - 14s 33ms/step - loss: 0.4093 - accuracy: 0.6112 - val_loss: 0.3804 - val_accuracy: 0.6743\n",
      "Epoch 5/10\n",
      "436/436 [==============================] - 14s 32ms/step - loss: 0.3944 - accuracy: 0.6209 - val_loss: 0.3797 - val_accuracy: 0.6763\n",
      "Epoch 6/10\n",
      "436/436 [==============================] - 14s 32ms/step - loss: 0.3863 - accuracy: 0.6403 - val_loss: 0.3747 - val_accuracy: 0.6775\n",
      "Epoch 7/10\n",
      "436/436 [==============================] - 14s 32ms/step - loss: 0.3700 - accuracy: 0.6592 - val_loss: 0.3601 - val_accuracy: 0.6904\n",
      "Epoch 8/10\n",
      "436/436 [==============================] - 14s 32ms/step - loss: 0.3592 - accuracy: 0.6708 - val_loss: 0.3658 - val_accuracy: 0.6852\n",
      "Epoch 9/10\n",
      "436/436 [==============================] - 14s 32ms/step - loss: 0.3481 - accuracy: 0.6824 - val_loss: 0.3654 - val_accuracy: 0.6803\n",
      "Epoch 10/10\n",
      "436/436 [==============================] - 14s 32ms/step - loss: 0.3335 - accuracy: 0.6931 - val_loss: 0.3684 - val_accuracy: 0.6769\n",
      "Epoch 1/10\n",
      "436/436 [==============================] - 15s 33ms/step - loss: 0.5764 - accuracy: 0.2348 - val_loss: 0.4799 - val_accuracy: 0.4424\n",
      "Epoch 2/10\n",
      "436/436 [==============================] - 14s 33ms/step - loss: 0.4838 - accuracy: 0.4303 - val_loss: 0.4164 - val_accuracy: 0.6600\n",
      "Epoch 3/10\n",
      "436/436 [==============================] - 14s 32ms/step - loss: 0.4435 - accuracy: 0.5589 - val_loss: 0.3932 - val_accuracy: 0.6686\n",
      "Epoch 4/10\n",
      "436/436 [==============================] - 14s 32ms/step - loss: 0.4247 - accuracy: 0.6221 - val_loss: 0.3845 - val_accuracy: 0.6723\n",
      "Epoch 5/10\n",
      "436/436 [==============================] - 14s 32ms/step - loss: 0.4051 - accuracy: 0.6366 - val_loss: 0.3846 - val_accuracy: 0.6737\n",
      "Epoch 6/10\n",
      "436/436 [==============================] - 14s 32ms/step - loss: 0.3928 - accuracy: 0.6557 - val_loss: 0.3697 - val_accuracy: 0.6786\n",
      "Epoch 7/10\n",
      "436/436 [==============================] - 14s 32ms/step - loss: 0.3765 - accuracy: 0.6592 - val_loss: 0.3692 - val_accuracy: 0.6821\n",
      "Epoch 8/10\n",
      "436/436 [==============================] - 14s 32ms/step - loss: 0.3659 - accuracy: 0.6503 - val_loss: 0.3703 - val_accuracy: 0.6548\n",
      "Epoch 9/10\n",
      "436/436 [==============================] - 14s 32ms/step - loss: 0.3586 - accuracy: 0.6554 - val_loss: 0.3649 - val_accuracy: 0.6740\n",
      "Epoch 10/10\n",
      "436/436 [==============================] - 14s 32ms/step - loss: 0.3463 - accuracy: 0.6720 - val_loss: 0.3701 - val_accuracy: 0.6643\n",
      "Epoch 1/10\n",
      "436/436 [==============================] - 15s 33ms/step - loss: 0.5897 - accuracy: 0.2533 - val_loss: 0.4620 - val_accuracy: 0.4424\n",
      "Epoch 2/10\n",
      "436/436 [==============================] - 14s 32ms/step - loss: 0.4711 - accuracy: 0.3413 - val_loss: 0.3998 - val_accuracy: 0.6600\n",
      "Epoch 3/10\n",
      "436/436 [==============================] - 15s 33ms/step - loss: 0.4281 - accuracy: 0.5486 - val_loss: 0.3762 - val_accuracy: 0.6729\n",
      "Epoch 4/10\n",
      "436/436 [==============================] - 14s 32ms/step - loss: 0.4059 - accuracy: 0.6200 - val_loss: 0.3791 - val_accuracy: 0.6680\n",
      "Epoch 5/10\n",
      "436/436 [==============================] - 14s 33ms/step - loss: 0.3930 - accuracy: 0.6566 - val_loss: 0.3732 - val_accuracy: 0.6763\n",
      "Epoch 6/10\n",
      "436/436 [==============================] - 14s 33ms/step - loss: 0.3795 - accuracy: 0.6672 - val_loss: 0.3618 - val_accuracy: 0.6795\n",
      "Epoch 7/10\n",
      "436/436 [==============================] - 14s 32ms/step - loss: 0.3686 - accuracy: 0.6703 - val_loss: 0.3689 - val_accuracy: 0.6800\n",
      "Epoch 8/10\n",
      "436/436 [==============================] - 14s 33ms/step - loss: 0.3592 - accuracy: 0.6787 - val_loss: 0.3645 - val_accuracy: 0.6763\n",
      "Epoch 9/10\n",
      "436/436 [==============================] - 14s 32ms/step - loss: 0.3494 - accuracy: 0.6766 - val_loss: 0.3578 - val_accuracy: 0.6732\n",
      "Epoch 10/10\n",
      "436/436 [==============================] - 14s 33ms/step - loss: 0.3369 - accuracy: 0.6799 - val_loss: 0.3701 - val_accuracy: 0.6657\n",
      "Epoch 1/10\n",
      "436/436 [==============================] - 15s 34ms/step - loss: 0.5510 - accuracy: 0.2075 - val_loss: 0.4560 - val_accuracy: 0.4424\n",
      "Epoch 2/10\n",
      "436/436 [==============================] - 15s 33ms/step - loss: 0.4725 - accuracy: 0.4186 - val_loss: 0.4189 - val_accuracy: 0.6508\n",
      "Epoch 3/10\n",
      "436/436 [==============================] - 14s 33ms/step - loss: 0.4277 - accuracy: 0.5896 - val_loss: 0.3807 - val_accuracy: 0.6737\n",
      "Epoch 4/10\n",
      "436/436 [==============================] - 14s 33ms/step - loss: 0.4004 - accuracy: 0.6470 - val_loss: 0.4054 - val_accuracy: 0.6525\n",
      "Epoch 5/10\n",
      "436/436 [==============================] - 14s 33ms/step - loss: 0.3825 - accuracy: 0.6698 - val_loss: 0.3723 - val_accuracy: 0.6852\n",
      "Epoch 6/10\n",
      "436/436 [==============================] - 14s 33ms/step - loss: 0.3715 - accuracy: 0.6720 - val_loss: 0.3614 - val_accuracy: 0.6769\n",
      "Epoch 7/10\n",
      "436/436 [==============================] - 14s 33ms/step - loss: 0.3604 - accuracy: 0.6658 - val_loss: 0.3514 - val_accuracy: 0.6815\n",
      "Epoch 8/10\n",
      "436/436 [==============================] - 14s 33ms/step - loss: 0.3521 - accuracy: 0.6778 - val_loss: 0.3602 - val_accuracy: 0.6732\n",
      "Epoch 9/10\n",
      "436/436 [==============================] - 14s 33ms/step - loss: 0.3399 - accuracy: 0.6785 - val_loss: 0.3706 - val_accuracy: 0.6327\n",
      "Epoch 10/10\n",
      "436/436 [==============================] - 15s 33ms/step - loss: 0.3354 - accuracy: 0.6734 - val_loss: 0.3745 - val_accuracy: 0.6350\n",
      "Epoch 1/10\n",
      "436/436 [==============================] - 15s 34ms/step - loss: 0.5773 - accuracy: 0.1640 - val_loss: 0.4563 - val_accuracy: 0.4424\n",
      "Epoch 2/10\n",
      "436/436 [==============================] - 14s 33ms/step - loss: 0.4846 - accuracy: 0.3888 - val_loss: 0.4104 - val_accuracy: 0.6204\n",
      "Epoch 3/10\n",
      "436/436 [==============================] - 15s 34ms/step - loss: 0.4369 - accuracy: 0.5459 - val_loss: 0.4031 - val_accuracy: 0.6580\n",
      "Epoch 4/10\n",
      "436/436 [==============================] - 14s 32ms/step - loss: 0.4142 - accuracy: 0.6055 - val_loss: 0.3930 - val_accuracy: 0.6628\n",
      "Epoch 5/10\n",
      "436/436 [==============================] - 15s 33ms/step - loss: 0.4050 - accuracy: 0.6353 - val_loss: 0.3727 - val_accuracy: 0.6815\n",
      "Epoch 6/10\n",
      "436/436 [==============================] - 15s 35ms/step - loss: 0.3913 - accuracy: 0.6559 - val_loss: 0.3669 - val_accuracy: 0.6832\n",
      "Epoch 7/10\n",
      "436/436 [==============================] - 14s 32ms/step - loss: 0.3780 - accuracy: 0.6652 - val_loss: 0.3671 - val_accuracy: 0.6838\n",
      "Epoch 8/10\n",
      "436/436 [==============================] - 14s 32ms/step - loss: 0.3693 - accuracy: 0.6738 - val_loss: 0.3642 - val_accuracy: 0.6809\n",
      "Epoch 9/10\n",
      "436/436 [==============================] - 14s 32ms/step - loss: 0.3577 - accuracy: 0.6683 - val_loss: 0.3693 - val_accuracy: 0.6778\n",
      "Epoch 10/10\n",
      "436/436 [==============================] - 14s 32ms/step - loss: 0.3481 - accuracy: 0.6733 - val_loss: 0.3782 - val_accuracy: 0.6737\n",
      "Epoch 1/10\n",
      "436/436 [==============================] - 14s 32ms/step - loss: 0.5858 - accuracy: 0.1401 - val_loss: 0.4632 - val_accuracy: 0.4424\n",
      "Epoch 2/10\n",
      "436/436 [==============================] - 14s 32ms/step - loss: 0.4844 - accuracy: 0.3304 - val_loss: 0.4649 - val_accuracy: 0.6236\n",
      "Epoch 3/10\n",
      "436/436 [==============================] - 14s 32ms/step - loss: 0.4488 - accuracy: 0.5448 - val_loss: 0.3992 - val_accuracy: 0.6631\n",
      "Epoch 4/10\n",
      "436/436 [==============================] - 14s 32ms/step - loss: 0.4233 - accuracy: 0.6293 - val_loss: 0.4043 - val_accuracy: 0.6511\n",
      "Epoch 5/10\n",
      "436/436 [==============================] - 14s 31ms/step - loss: 0.4075 - accuracy: 0.6414 - val_loss: 0.3790 - val_accuracy: 0.6726\n",
      "Epoch 6/10\n",
      "436/436 [==============================] - 14s 32ms/step - loss: 0.3911 - accuracy: 0.6511 - val_loss: 0.3810 - val_accuracy: 0.6583\n",
      "Epoch 7/10\n",
      "436/436 [==============================] - 14s 32ms/step - loss: 0.3785 - accuracy: 0.6515 - val_loss: 0.3744 - val_accuracy: 0.6628\n",
      "Epoch 8/10\n",
      "436/436 [==============================] - 14s 31ms/step - loss: 0.3713 - accuracy: 0.6541 - val_loss: 0.3651 - val_accuracy: 0.6574\n",
      "Epoch 9/10\n",
      "436/436 [==============================] - 14s 31ms/step - loss: 0.3618 - accuracy: 0.6640 - val_loss: 0.3719 - val_accuracy: 0.6577\n",
      "Epoch 10/10\n",
      "436/436 [==============================] - 14s 31ms/step - loss: 0.3507 - accuracy: 0.6667 - val_loss: 0.3655 - val_accuracy: 0.6755\n",
      "Epoch 1/10\n",
      "436/436 [==============================] - 14s 31ms/step - loss: 0.5768 - accuracy: 0.2044 - val_loss: 0.5079 - val_accuracy: 0.4421\n",
      "Epoch 2/10\n",
      "436/436 [==============================] - 14s 31ms/step - loss: 0.4669 - accuracy: 0.4481 - val_loss: 0.3972 - val_accuracy: 0.6368\n",
      "Epoch 3/10\n",
      "436/436 [==============================] - 14s 31ms/step - loss: 0.4260 - accuracy: 0.5826 - val_loss: 0.3875 - val_accuracy: 0.6729\n",
      "Epoch 4/10\n",
      "436/436 [==============================] - 14s 31ms/step - loss: 0.4047 - accuracy: 0.6258 - val_loss: 0.4053 - val_accuracy: 0.6611\n",
      "Epoch 5/10\n",
      "436/436 [==============================] - 14s 32ms/step - loss: 0.3942 - accuracy: 0.6359 - val_loss: 0.3776 - val_accuracy: 0.6709\n",
      "Epoch 6/10\n",
      "436/436 [==============================] - 14s 31ms/step - loss: 0.3840 - accuracy: 0.6502 - val_loss: 0.3621 - val_accuracy: 0.6895\n",
      "Epoch 7/10\n",
      "436/436 [==============================] - 14s 31ms/step - loss: 0.3746 - accuracy: 0.6622 - val_loss: 0.3759 - val_accuracy: 0.6823\n",
      "Epoch 8/10\n",
      "436/436 [==============================] - 14s 31ms/step - loss: 0.3659 - accuracy: 0.6636 - val_loss: 0.3681 - val_accuracy: 0.6878\n",
      "Epoch 9/10\n",
      "436/436 [==============================] - 14s 31ms/step - loss: 0.3572 - accuracy: 0.6722 - val_loss: 0.3598 - val_accuracy: 0.6720\n",
      "Epoch 10/10\n",
      "436/436 [==============================] - 14s 31ms/step - loss: 0.3446 - accuracy: 0.6805 - val_loss: 0.3646 - val_accuracy: 0.6574\n",
      "Epoch 1/10\n",
      "436/436 [==============================] - 14s 32ms/step - loss: 0.5660 - accuracy: 0.1873 - val_loss: 0.4527 - val_accuracy: 0.4424\n",
      "Epoch 2/10\n",
      "436/436 [==============================] - 14s 31ms/step - loss: 0.4715 - accuracy: 0.3866 - val_loss: 0.4084 - val_accuracy: 0.6299\n",
      "Epoch 3/10\n",
      "436/436 [==============================] - 14s 31ms/step - loss: 0.4321 - accuracy: 0.5643 - val_loss: 0.3819 - val_accuracy: 0.6720\n",
      "Epoch 4/10\n",
      "436/436 [==============================] - 14s 31ms/step - loss: 0.4075 - accuracy: 0.6281 - val_loss: 0.3682 - val_accuracy: 0.6829\n",
      "Epoch 5/10\n",
      "436/436 [==============================] - 14s 31ms/step - loss: 0.3897 - accuracy: 0.6448 - val_loss: 0.3694 - val_accuracy: 0.6795\n",
      "Epoch 6/10\n",
      "436/436 [==============================] - 14s 31ms/step - loss: 0.3836 - accuracy: 0.6486 - val_loss: 0.3611 - val_accuracy: 0.6846\n",
      "Epoch 7/10\n",
      "436/436 [==============================] - 14s 32ms/step - loss: 0.3654 - accuracy: 0.6645 - val_loss: 0.3594 - val_accuracy: 0.6907\n",
      "Epoch 8/10\n",
      "436/436 [==============================] - 14s 31ms/step - loss: 0.3563 - accuracy: 0.6713 - val_loss: 0.3703 - val_accuracy: 0.6746\n",
      "Epoch 9/10\n",
      "436/436 [==============================] - 14s 32ms/step - loss: 0.3492 - accuracy: 0.6685 - val_loss: 0.3675 - val_accuracy: 0.6654\n",
      "Epoch 10/10\n",
      "436/436 [==============================] - 14s 32ms/step - loss: 0.3356 - accuracy: 0.6822 - val_loss: 0.3645 - val_accuracy: 0.6729\n",
      "Epoch 1/10\n",
      "436/436 [==============================] - 14s 32ms/step - loss: 0.5790 - accuracy: 0.1479 - val_loss: 0.4549 - val_accuracy: 0.4424\n",
      "Epoch 2/10\n",
      "436/436 [==============================] - 14s 31ms/step - loss: 0.4793 - accuracy: 0.3849 - val_loss: 0.4188 - val_accuracy: 0.6396\n",
      "Epoch 3/10\n",
      "436/436 [==============================] - 14s 32ms/step - loss: 0.4389 - accuracy: 0.5462 - val_loss: 0.4062 - val_accuracy: 0.6597\n",
      "Epoch 4/10\n",
      "436/436 [==============================] - 14s 31ms/step - loss: 0.4184 - accuracy: 0.6207 - val_loss: 0.3872 - val_accuracy: 0.6683\n",
      "Epoch 5/10\n",
      "436/436 [==============================] - 14s 31ms/step - loss: 0.4005 - accuracy: 0.6501 - val_loss: 0.3734 - val_accuracy: 0.6821\n",
      "Epoch 6/10\n",
      "436/436 [==============================] - 14s 32ms/step - loss: 0.3830 - accuracy: 0.6640 - val_loss: 0.3663 - val_accuracy: 0.6815\n",
      "Epoch 7/10\n",
      "436/436 [==============================] - 14s 32ms/step - loss: 0.3745 - accuracy: 0.6716 - val_loss: 0.3711 - val_accuracy: 0.6740\n",
      "Epoch 8/10\n",
      "436/436 [==============================] - 14s 31ms/step - loss: 0.3703 - accuracy: 0.6648 - val_loss: 0.3696 - val_accuracy: 0.6821\n",
      "Epoch 9/10\n",
      "436/436 [==============================] - 14s 31ms/step - loss: 0.3594 - accuracy: 0.6749 - val_loss: 0.3696 - val_accuracy: 0.6780\n",
      "Epoch 10/10\n",
      "436/436 [==============================] - 14s 31ms/step - loss: 0.3465 - accuracy: 0.6686 - val_loss: 0.3789 - val_accuracy: 0.6694\n",
      "Epoch 1/10\n",
      "436/436 [==============================] - 14s 32ms/step - loss: 0.5774 - accuracy: 0.2168 - val_loss: 0.4752 - val_accuracy: 0.4424\n",
      "Epoch 2/10\n",
      "436/436 [==============================] - 14s 31ms/step - loss: 0.4753 - accuracy: 0.3828 - val_loss: 0.3964 - val_accuracy: 0.6416\n",
      "Epoch 3/10\n",
      "436/436 [==============================] - 14s 31ms/step - loss: 0.4292 - accuracy: 0.5549 - val_loss: 0.3858 - val_accuracy: 0.6772\n",
      "Epoch 4/10\n",
      "436/436 [==============================] - 14s 31ms/step - loss: 0.4120 - accuracy: 0.6124 - val_loss: 0.3762 - val_accuracy: 0.6723\n",
      "Epoch 5/10\n",
      "436/436 [==============================] - 14s 31ms/step - loss: 0.3928 - accuracy: 0.6295 - val_loss: 0.3647 - val_accuracy: 0.6760\n",
      "Epoch 6/10\n",
      "436/436 [==============================] - 14s 31ms/step - loss: 0.3780 - accuracy: 0.6435 - val_loss: 0.3582 - val_accuracy: 0.6852\n",
      "Epoch 7/10\n",
      "436/436 [==============================] - 14s 31ms/step - loss: 0.3702 - accuracy: 0.6493 - val_loss: 0.3605 - val_accuracy: 0.6826\n",
      "Epoch 8/10\n",
      "436/436 [==============================] - 14s 31ms/step - loss: 0.3586 - accuracy: 0.6458 - val_loss: 0.3633 - val_accuracy: 0.6864\n",
      "Epoch 9/10\n",
      "436/436 [==============================] - 14s 32ms/step - loss: 0.3481 - accuracy: 0.6668 - val_loss: 0.3649 - val_accuracy: 0.6812\n",
      "Epoch 10/10\n",
      "436/436 [==============================] - 14s 31ms/step - loss: 0.3395 - accuracy: 0.6566 - val_loss: 0.3805 - val_accuracy: 0.6611\n",
      "Epoch 1/10\n",
      "436/436 [==============================] - 15s 31ms/step - loss: 0.5752 - accuracy: 0.2241 - val_loss: 0.4773 - val_accuracy: 0.4427\n",
      "Epoch 2/10\n",
      "436/436 [==============================] - 14s 31ms/step - loss: 0.4730 - accuracy: 0.3737 - val_loss: 0.4155 - val_accuracy: 0.6173\n",
      "Epoch 3/10\n",
      "436/436 [==============================] - 13s 31ms/step - loss: 0.4286 - accuracy: 0.5296 - val_loss: 0.3897 - val_accuracy: 0.6207\n",
      "Epoch 4/10\n",
      "436/436 [==============================] - 13s 31ms/step - loss: 0.4033 - accuracy: 0.6076 - val_loss: 0.3690 - val_accuracy: 0.6769\n",
      "Epoch 5/10\n",
      "436/436 [==============================] - 14s 31ms/step - loss: 0.3901 - accuracy: 0.6450 - val_loss: 0.3697 - val_accuracy: 0.6743\n",
      "Epoch 6/10\n",
      "436/436 [==============================] - 14s 31ms/step - loss: 0.3766 - accuracy: 0.6589 - val_loss: 0.3801 - val_accuracy: 0.6597\n",
      "Epoch 7/10\n",
      "436/436 [==============================] - 14s 31ms/step - loss: 0.3687 - accuracy: 0.6643 - val_loss: 0.3704 - val_accuracy: 0.6852\n",
      "Epoch 8/10\n",
      "436/436 [==============================] - 14s 31ms/step - loss: 0.3520 - accuracy: 0.6797 - val_loss: 0.3937 - val_accuracy: 0.6634\n",
      "Epoch 9/10\n",
      "436/436 [==============================] - 14s 33ms/step - loss: 0.3412 - accuracy: 0.6855 - val_loss: 0.3658 - val_accuracy: 0.6743\n",
      "Epoch 10/10\n",
      "436/436 [==============================] - 14s 33ms/step - loss: 0.3311 - accuracy: 0.6820 - val_loss: 0.3793 - val_accuracy: 0.6571\n",
      "Epoch 1/10\n",
      "436/436 [==============================] - 15s 33ms/step - loss: 0.5841 - accuracy: 0.2306 - val_loss: 0.4732 - val_accuracy: 0.4424\n",
      "Epoch 2/10\n",
      "436/436 [==============================] - 14s 33ms/step - loss: 0.4932 - accuracy: 0.4074 - val_loss: 0.4447 - val_accuracy: 0.5843\n",
      "Epoch 3/10\n",
      "436/436 [==============================] - 14s 32ms/step - loss: 0.4441 - accuracy: 0.5446 - val_loss: 0.3879 - val_accuracy: 0.6752\n",
      "Epoch 4/10\n",
      "436/436 [==============================] - 14s 32ms/step - loss: 0.4189 - accuracy: 0.6032 - val_loss: 0.4011 - val_accuracy: 0.6597\n",
      "Epoch 5/10\n",
      "436/436 [==============================] - 14s 32ms/step - loss: 0.3976 - accuracy: 0.6286 - val_loss: 0.3652 - val_accuracy: 0.6872\n",
      "Epoch 6/10\n",
      "436/436 [==============================] - 14s 32ms/step - loss: 0.3846 - accuracy: 0.6474 - val_loss: 0.3586 - val_accuracy: 0.6795\n",
      "Epoch 7/10\n",
      "436/436 [==============================] - 14s 31ms/step - loss: 0.3721 - accuracy: 0.6512 - val_loss: 0.3638 - val_accuracy: 0.6746\n",
      "Epoch 8/10\n",
      "436/436 [==============================] - 14s 32ms/step - loss: 0.3630 - accuracy: 0.6587 - val_loss: 0.3585 - val_accuracy: 0.6709\n",
      "Epoch 9/10\n",
      "436/436 [==============================] - 14s 32ms/step - loss: 0.3552 - accuracy: 0.6572 - val_loss: 0.3740 - val_accuracy: 0.6626\n",
      "Epoch 10/10\n",
      "436/436 [==============================] - 14s 32ms/step - loss: 0.3476 - accuracy: 0.6635 - val_loss: 0.3711 - val_accuracy: 0.6583\n",
      "Epoch 1/10\n",
      "436/436 [==============================] - 14s 32ms/step - loss: 0.5680 - accuracy: 0.1808 - val_loss: 0.4787 - val_accuracy: 0.4636\n",
      "Epoch 2/10\n",
      "436/436 [==============================] - 14s 32ms/step - loss: 0.4772 - accuracy: 0.3803 - val_loss: 0.4058 - val_accuracy: 0.6239\n",
      "Epoch 3/10\n",
      "436/436 [==============================] - 14s 32ms/step - loss: 0.4288 - accuracy: 0.5519 - val_loss: 0.3784 - val_accuracy: 0.6347\n",
      "Epoch 4/10\n",
      "436/436 [==============================] - 14s 32ms/step - loss: 0.4030 - accuracy: 0.5984 - val_loss: 0.3925 - val_accuracy: 0.6574\n",
      "Epoch 5/10\n",
      "436/436 [==============================] - 14s 31ms/step - loss: 0.3839 - accuracy: 0.6219 - val_loss: 0.3665 - val_accuracy: 0.6772\n",
      "Epoch 6/10\n",
      "436/436 [==============================] - 14s 32ms/step - loss: 0.3770 - accuracy: 0.6429 - val_loss: 0.3603 - val_accuracy: 0.6714\n",
      "Epoch 7/10\n",
      "436/436 [==============================] - 14s 32ms/step - loss: 0.3658 - accuracy: 0.6514 - val_loss: 0.3705 - val_accuracy: 0.6700\n",
      "Epoch 8/10\n",
      "436/436 [==============================] - 14s 32ms/step - loss: 0.3570 - accuracy: 0.6639 - val_loss: 0.3692 - val_accuracy: 0.6720\n",
      "Epoch 9/10\n",
      "436/436 [==============================] - 14s 32ms/step - loss: 0.3496 - accuracy: 0.6589 - val_loss: 0.3684 - val_accuracy: 0.6588\n",
      "Epoch 10/10\n",
      "436/436 [==============================] - 14s 32ms/step - loss: 0.3448 - accuracy: 0.6627 - val_loss: 0.3666 - val_accuracy: 0.6901\n",
      "Epoch 1/10\n",
      "436/436 [==============================] - 14s 32ms/step - loss: 0.5822 - accuracy: 0.1993 - val_loss: 0.4525 - val_accuracy: 0.3879\n",
      "Epoch 2/10\n",
      "436/436 [==============================] - 14s 32ms/step - loss: 0.4789 - accuracy: 0.4211 - val_loss: 0.4025 - val_accuracy: 0.6611\n",
      "Epoch 3/10\n",
      "436/436 [==============================] - 14s 32ms/step - loss: 0.4273 - accuracy: 0.5554 - val_loss: 0.3803 - val_accuracy: 0.6757\n",
      "Epoch 4/10\n",
      "436/436 [==============================] - 14s 32ms/step - loss: 0.4056 - accuracy: 0.6177 - val_loss: 0.3826 - val_accuracy: 0.6749\n",
      "Epoch 5/10\n",
      "436/436 [==============================] - 14s 32ms/step - loss: 0.3920 - accuracy: 0.6416 - val_loss: 0.3900 - val_accuracy: 0.6703\n",
      "Epoch 6/10\n",
      "436/436 [==============================] - 14s 32ms/step - loss: 0.3795 - accuracy: 0.6584 - val_loss: 0.3677 - val_accuracy: 0.6861\n",
      "Epoch 7/10\n",
      "436/436 [==============================] - 14s 32ms/step - loss: 0.3769 - accuracy: 0.6610 - val_loss: 0.3650 - val_accuracy: 0.6846\n",
      "Epoch 8/10\n",
      "436/436 [==============================] - 14s 31ms/step - loss: 0.3583 - accuracy: 0.6823 - val_loss: 0.3750 - val_accuracy: 0.6772\n",
      "Epoch 9/10\n",
      "436/436 [==============================] - 14s 31ms/step - loss: 0.3512 - accuracy: 0.6747 - val_loss: 0.3909 - val_accuracy: 0.6760\n",
      "Epoch 10/10\n",
      "436/436 [==============================] - 14s 32ms/step - loss: 0.3407 - accuracy: 0.6812 - val_loss: 0.3892 - val_accuracy: 0.6594\n",
      "Epoch 1/10\n",
      "436/436 [==============================] - 14s 32ms/step - loss: 0.5788 - accuracy: 0.2161 - val_loss: 0.4750 - val_accuracy: 0.4424\n",
      "Epoch 2/10\n",
      "436/436 [==============================] - 13s 31ms/step - loss: 0.4952 - accuracy: 0.4120 - val_loss: 0.4262 - val_accuracy: 0.6485\n",
      "Epoch 3/10\n",
      "436/436 [==============================] - 14s 31ms/step - loss: 0.4359 - accuracy: 0.5959 - val_loss: 0.3884 - val_accuracy: 0.6606\n",
      "Epoch 4/10\n",
      "436/436 [==============================] - 14s 31ms/step - loss: 0.4083 - accuracy: 0.6216 - val_loss: 0.3802 - val_accuracy: 0.6803\n",
      "Epoch 5/10\n",
      "436/436 [==============================] - 14s 31ms/step - loss: 0.3923 - accuracy: 0.6320 - val_loss: 0.3717 - val_accuracy: 0.6783\n",
      "Epoch 6/10\n",
      "436/436 [==============================] - 14s 31ms/step - loss: 0.3783 - accuracy: 0.6409 - val_loss: 0.3701 - val_accuracy: 0.6829\n",
      "Epoch 7/10\n",
      "436/436 [==============================] - 14s 31ms/step - loss: 0.3665 - accuracy: 0.6411 - val_loss: 0.3596 - val_accuracy: 0.6646\n",
      "Epoch 8/10\n",
      "436/436 [==============================] - 14s 31ms/step - loss: 0.3563 - accuracy: 0.6504 - val_loss: 0.3702 - val_accuracy: 0.6511\n",
      "Epoch 9/10\n",
      "436/436 [==============================] - 14s 31ms/step - loss: 0.3437 - accuracy: 0.6553 - val_loss: 0.3811 - val_accuracy: 0.6459\n",
      "Epoch 10/10\n",
      "436/436 [==============================] - 14s 31ms/step - loss: 0.3435 - accuracy: 0.6727 - val_loss: 0.3643 - val_accuracy: 0.6588\n",
      "Epoch 1/10\n",
      "436/436 [==============================] - 14s 32ms/step - loss: 0.5805 - accuracy: 0.2226 - val_loss: 0.4829 - val_accuracy: 0.4424\n",
      "Epoch 2/10\n",
      "436/436 [==============================] - 14s 31ms/step - loss: 0.4944 - accuracy: 0.3749 - val_loss: 0.4269 - val_accuracy: 0.5470\n",
      "Epoch 3/10\n",
      "436/436 [==============================] - 14s 31ms/step - loss: 0.4401 - accuracy: 0.5616 - val_loss: 0.3894 - val_accuracy: 0.6646\n",
      "Epoch 4/10\n",
      "436/436 [==============================] - 14s 31ms/step - loss: 0.4166 - accuracy: 0.6079 - val_loss: 0.3837 - val_accuracy: 0.6628\n",
      "Epoch 5/10\n",
      "436/436 [==============================] - 14s 31ms/step - loss: 0.3944 - accuracy: 0.6319 - val_loss: 0.3746 - val_accuracy: 0.6846\n",
      "Epoch 6/10\n",
      "436/436 [==============================] - 14s 31ms/step - loss: 0.3857 - accuracy: 0.6468 - val_loss: 0.3788 - val_accuracy: 0.6735\n",
      "Epoch 7/10\n",
      "436/436 [==============================] - 14s 31ms/step - loss: 0.3736 - accuracy: 0.6474 - val_loss: 0.3656 - val_accuracy: 0.6835\n",
      "Epoch 8/10\n",
      "436/436 [==============================] - 14s 31ms/step - loss: 0.3642 - accuracy: 0.6520 - val_loss: 0.3656 - val_accuracy: 0.6717\n",
      "Epoch 9/10\n",
      "436/436 [==============================] - 14s 31ms/step - loss: 0.3571 - accuracy: 0.6362 - val_loss: 0.3646 - val_accuracy: 0.6488\n",
      "Epoch 10/10\n",
      "436/436 [==============================] - 14s 31ms/step - loss: 0.3475 - accuracy: 0.6425 - val_loss: 0.3629 - val_accuracy: 0.6826\n",
      "Epoch 1/10\n",
      "436/436 [==============================] - 14s 32ms/step - loss: 0.5607 - accuracy: 0.2394 - val_loss: 0.4798 - val_accuracy: 0.4315\n",
      "Epoch 2/10\n",
      "436/436 [==============================] - 14s 31ms/step - loss: 0.4953 - accuracy: 0.3309 - val_loss: 0.4328 - val_accuracy: 0.3122\n",
      "Epoch 3/10\n",
      "436/436 [==============================] - 14s 31ms/step - loss: 0.4574 - accuracy: 0.4773 - val_loss: 0.3977 - val_accuracy: 0.6585\n",
      "Epoch 4/10\n",
      "436/436 [==============================] - 14s 31ms/step - loss: 0.4286 - accuracy: 0.6031 - val_loss: 0.3951 - val_accuracy: 0.6752\n",
      "Epoch 5/10\n",
      "436/436 [==============================] - 14s 31ms/step - loss: 0.4130 - accuracy: 0.6361 - val_loss: 0.4218 - val_accuracy: 0.6405\n",
      "Epoch 6/10\n",
      "436/436 [==============================] - 14s 31ms/step - loss: 0.4020 - accuracy: 0.6412 - val_loss: 0.3824 - val_accuracy: 0.6720\n",
      "Epoch 7/10\n",
      "436/436 [==============================] - 13s 31ms/step - loss: 0.3896 - accuracy: 0.6525 - val_loss: 0.3796 - val_accuracy: 0.6706\n",
      "Epoch 8/10\n",
      "436/436 [==============================] - 14s 31ms/step - loss: 0.3773 - accuracy: 0.6636 - val_loss: 0.3681 - val_accuracy: 0.6821\n",
      "Epoch 9/10\n",
      "436/436 [==============================] - 14s 31ms/step - loss: 0.3679 - accuracy: 0.6810 - val_loss: 0.3682 - val_accuracy: 0.6795\n",
      "Epoch 10/10\n",
      "436/436 [==============================] - 14s 31ms/step - loss: 0.3612 - accuracy: 0.6884 - val_loss: 0.3638 - val_accuracy: 0.6806\n",
      "Epoch 1/10\n",
      "436/436 [==============================] - 14s 32ms/step - loss: 0.5806 - accuracy: 0.1940 - val_loss: 0.4813 - val_accuracy: 0.4424\n",
      "Epoch 2/10\n",
      "436/436 [==============================] - 13s 31ms/step - loss: 0.4778 - accuracy: 0.3403 - val_loss: 0.4322 - val_accuracy: 0.6393\n",
      "Epoch 3/10\n",
      "436/436 [==============================] - 14s 31ms/step - loss: 0.4407 - accuracy: 0.4868 - val_loss: 0.4003 - val_accuracy: 0.6643\n",
      "Epoch 4/10\n",
      "436/436 [==============================] - 14s 31ms/step - loss: 0.4207 - accuracy: 0.5662 - val_loss: 0.4009 - val_accuracy: 0.6531\n",
      "Epoch 5/10\n",
      "436/436 [==============================] - 13s 31ms/step - loss: 0.4048 - accuracy: 0.6215 - val_loss: 0.3841 - val_accuracy: 0.6726\n",
      "Epoch 6/10\n",
      "436/436 [==============================] - 14s 31ms/step - loss: 0.3900 - accuracy: 0.6478 - val_loss: 0.3739 - val_accuracy: 0.6737\n",
      "Epoch 7/10\n",
      "436/436 [==============================] - 14s 32ms/step - loss: 0.3741 - accuracy: 0.6721 - val_loss: 0.3679 - val_accuracy: 0.6823\n",
      "Epoch 8/10\n",
      "436/436 [==============================] - 14s 31ms/step - loss: 0.3634 - accuracy: 0.6828 - val_loss: 0.3606 - val_accuracy: 0.6832\n",
      "Epoch 9/10\n",
      "436/436 [==============================] - 14s 31ms/step - loss: 0.3544 - accuracy: 0.6805 - val_loss: 0.3681 - val_accuracy: 0.6757\n",
      "Epoch 10/10\n",
      "436/436 [==============================] - 14s 31ms/step - loss: 0.3490 - accuracy: 0.6792 - val_loss: 0.3694 - val_accuracy: 0.6654\n",
      "Epoch 1/10\n",
      "436/436 [==============================] - 14s 32ms/step - loss: 0.5917 - accuracy: 0.2794 - val_loss: 0.5082 - val_accuracy: 0.4424\n",
      "Epoch 2/10\n",
      "436/436 [==============================] - 14s 31ms/step - loss: 0.5018 - accuracy: 0.3644 - val_loss: 0.4246 - val_accuracy: 0.6101\n",
      "Epoch 3/10\n",
      "436/436 [==============================] - 13s 31ms/step - loss: 0.4463 - accuracy: 0.5704 - val_loss: 0.3863 - val_accuracy: 0.6651\n",
      "Epoch 4/10\n",
      "436/436 [==============================] - 13s 31ms/step - loss: 0.4109 - accuracy: 0.6186 - val_loss: 0.3756 - val_accuracy: 0.6821\n",
      "Epoch 5/10\n",
      "436/436 [==============================] - 13s 31ms/step - loss: 0.3959 - accuracy: 0.6383 - val_loss: 0.3685 - val_accuracy: 0.6789\n",
      "Epoch 6/10\n",
      "436/436 [==============================] - 13s 31ms/step - loss: 0.3838 - accuracy: 0.6493 - val_loss: 0.3701 - val_accuracy: 0.6669\n",
      "Epoch 7/10\n",
      "436/436 [==============================] - 14s 31ms/step - loss: 0.3736 - accuracy: 0.6464 - val_loss: 0.3696 - val_accuracy: 0.6786\n",
      "Epoch 8/10\n",
      "436/436 [==============================] - 14s 31ms/step - loss: 0.3628 - accuracy: 0.6582 - val_loss: 0.3612 - val_accuracy: 0.6846\n",
      "Epoch 9/10\n",
      "436/436 [==============================] - 14s 31ms/step - loss: 0.3550 - accuracy: 0.6703 - val_loss: 0.3723 - val_accuracy: 0.6752\n",
      "Epoch 10/10\n",
      "436/436 [==============================] - 14s 31ms/step - loss: 0.3466 - accuracy: 0.6675 - val_loss: 0.3651 - val_accuracy: 0.6700\n",
      "Epoch 1/10\n",
      "436/436 [==============================] - 14s 32ms/step - loss: 0.5811 - accuracy: 0.2049 - val_loss: 0.4963 - val_accuracy: 0.4424\n",
      "Epoch 2/10\n",
      "436/436 [==============================] - 14s 31ms/step - loss: 0.4881 - accuracy: 0.3625 - val_loss: 0.4288 - val_accuracy: 0.5499\n",
      "Epoch 3/10\n",
      "436/436 [==============================] - 14s 31ms/step - loss: 0.4374 - accuracy: 0.5516 - val_loss: 0.3891 - val_accuracy: 0.6674\n",
      "Epoch 4/10\n",
      "436/436 [==============================] - 14s 31ms/step - loss: 0.4109 - accuracy: 0.6268 - val_loss: 0.4008 - val_accuracy: 0.6439\n",
      "Epoch 5/10\n",
      "436/436 [==============================] - 14s 31ms/step - loss: 0.3934 - accuracy: 0.6455 - val_loss: 0.3720 - val_accuracy: 0.6591\n",
      "Epoch 6/10\n",
      "436/436 [==============================] - 14s 31ms/step - loss: 0.3865 - accuracy: 0.6535 - val_loss: 0.3679 - val_accuracy: 0.6542\n",
      "Epoch 7/10\n",
      "436/436 [==============================] - 13s 31ms/step - loss: 0.3680 - accuracy: 0.6653 - val_loss: 0.3624 - val_accuracy: 0.6775\n",
      "Epoch 8/10\n",
      "436/436 [==============================] - 13s 31ms/step - loss: 0.3569 - accuracy: 0.6722 - val_loss: 0.3612 - val_accuracy: 0.6726\n",
      "Epoch 9/10\n",
      "436/436 [==============================] - 13s 31ms/step - loss: 0.3475 - accuracy: 0.6672 - val_loss: 0.3799 - val_accuracy: 0.6479\n",
      "Epoch 10/10\n",
      "436/436 [==============================] - 14s 31ms/step - loss: 0.3405 - accuracy: 0.6719 - val_loss: 0.3715 - val_accuracy: 0.6502\n",
      "Epoch 1/10\n",
      "436/436 [==============================] - 14s 32ms/step - loss: 0.5715 - accuracy: 0.2256 - val_loss: 0.4524 - val_accuracy: 0.4424\n",
      "Epoch 2/10\n",
      "436/436 [==============================] - 14s 31ms/step - loss: 0.4804 - accuracy: 0.3615 - val_loss: 0.4202 - val_accuracy: 0.6476\n",
      "Epoch 3/10\n",
      "436/436 [==============================] - 13s 31ms/step - loss: 0.4435 - accuracy: 0.5526 - val_loss: 0.4062 - val_accuracy: 0.6674\n",
      "Epoch 4/10\n",
      "436/436 [==============================] - 13s 31ms/step - loss: 0.4205 - accuracy: 0.6147 - val_loss: 0.3960 - val_accuracy: 0.6597\n",
      "Epoch 5/10\n",
      "436/436 [==============================] - 13s 31ms/step - loss: 0.4014 - accuracy: 0.6414 - val_loss: 0.3735 - val_accuracy: 0.6806\n",
      "Epoch 6/10\n",
      "436/436 [==============================] - 13s 31ms/step - loss: 0.3871 - accuracy: 0.6567 - val_loss: 0.4191 - val_accuracy: 0.6674\n",
      "Epoch 7/10\n",
      "436/436 [==============================] - 14s 31ms/step - loss: 0.3740 - accuracy: 0.6656 - val_loss: 0.3582 - val_accuracy: 0.6760\n",
      "Epoch 8/10\n",
      "436/436 [==============================] - 13s 31ms/step - loss: 0.3616 - accuracy: 0.6635 - val_loss: 0.3780 - val_accuracy: 0.6671\n",
      "Epoch 9/10\n",
      "436/436 [==============================] - 13s 31ms/step - loss: 0.3496 - accuracy: 0.6680 - val_loss: 0.3644 - val_accuracy: 0.6737\n",
      "Epoch 10/10\n",
      "436/436 [==============================] - 13s 31ms/step - loss: 0.3386 - accuracy: 0.6784 - val_loss: 0.3872 - val_accuracy: 0.6651\n",
      "Epoch 1/10\n",
      "436/436 [==============================] - 14s 31ms/step - loss: 0.5932 - accuracy: 0.1876 - val_loss: 0.4831 - val_accuracy: 0.4424\n",
      "Epoch 2/10\n",
      "436/436 [==============================] - 14s 31ms/step - loss: 0.4841 - accuracy: 0.3984 - val_loss: 0.4194 - val_accuracy: 0.5645\n",
      "Epoch 3/10\n",
      "436/436 [==============================] - 14s 31ms/step - loss: 0.4398 - accuracy: 0.5637 - val_loss: 0.3870 - val_accuracy: 0.6468\n",
      "Epoch 4/10\n",
      "436/436 [==============================] - 13s 31ms/step - loss: 0.4204 - accuracy: 0.6083 - val_loss: 0.3949 - val_accuracy: 0.6580\n",
      "Epoch 5/10\n",
      "436/436 [==============================] - 14s 31ms/step - loss: 0.4026 - accuracy: 0.6022 - val_loss: 0.3756 - val_accuracy: 0.6534\n",
      "Epoch 6/10\n",
      "436/436 [==============================] - 14s 31ms/step - loss: 0.3890 - accuracy: 0.6307 - val_loss: 0.3645 - val_accuracy: 0.6726\n",
      "Epoch 7/10\n",
      "436/436 [==============================] - 13s 31ms/step - loss: 0.3722 - accuracy: 0.6454 - val_loss: 0.3671 - val_accuracy: 0.6772\n",
      "Epoch 8/10\n",
      "436/436 [==============================] - 14s 31ms/step - loss: 0.3622 - accuracy: 0.6524 - val_loss: 0.3641 - val_accuracy: 0.6703\n",
      "Epoch 9/10\n",
      "436/436 [==============================] - 14s 31ms/step - loss: 0.3501 - accuracy: 0.6642 - val_loss: 0.3792 - val_accuracy: 0.6703\n",
      "Epoch 10/10\n",
      "436/436 [==============================] - 14s 31ms/step - loss: 0.3393 - accuracy: 0.6596 - val_loss: 0.3653 - val_accuracy: 0.6697\n",
      "Epoch 1/10\n",
      "436/436 [==============================] - 14s 32ms/step - loss: 0.5638 - accuracy: 0.1462 - val_loss: 0.4540 - val_accuracy: 0.4424\n",
      "Epoch 2/10\n",
      "436/436 [==============================] - 14s 31ms/step - loss: 0.4818 - accuracy: 0.3552 - val_loss: 0.4139 - val_accuracy: 0.6393\n",
      "Epoch 3/10\n",
      "436/436 [==============================] - 14s 31ms/step - loss: 0.4365 - accuracy: 0.5791 - val_loss: 0.3922 - val_accuracy: 0.6611\n",
      "Epoch 4/10\n",
      "436/436 [==============================] - 14s 31ms/step - loss: 0.4118 - accuracy: 0.6253 - val_loss: 0.3884 - val_accuracy: 0.6700\n",
      "Epoch 5/10\n",
      "436/436 [==============================] - 14s 32ms/step - loss: 0.3982 - accuracy: 0.6282 - val_loss: 0.4214 - val_accuracy: 0.6606\n",
      "Epoch 6/10\n",
      "436/436 [==============================] - 13s 31ms/step - loss: 0.3854 - accuracy: 0.6252 - val_loss: 0.3727 - val_accuracy: 0.6766\n",
      "Epoch 7/10\n",
      "436/436 [==============================] - 14s 31ms/step - loss: 0.3698 - accuracy: 0.6606 - val_loss: 0.3661 - val_accuracy: 0.6875\n",
      "Epoch 8/10\n",
      "436/436 [==============================] - 14s 31ms/step - loss: 0.3543 - accuracy: 0.6689 - val_loss: 0.3647 - val_accuracy: 0.6614\n",
      "Epoch 9/10\n",
      "436/436 [==============================] - 13s 31ms/step - loss: 0.3456 - accuracy: 0.6589 - val_loss: 0.3683 - val_accuracy: 0.6525\n",
      "Epoch 10/10\n",
      "436/436 [==============================] - 14s 31ms/step - loss: 0.3367 - accuracy: 0.6521 - val_loss: 0.3899 - val_accuracy: 0.6422\n",
      "Epoch 1/10\n",
      "436/436 [==============================] - 14s 32ms/step - loss: 0.5740 - accuracy: 0.1922 - val_loss: 0.5006 - val_accuracy: 0.4424\n",
      "Epoch 2/10\n",
      "436/436 [==============================] - 14s 31ms/step - loss: 0.4788 - accuracy: 0.3622 - val_loss: 0.4170 - val_accuracy: 0.6390\n",
      "Epoch 3/10\n",
      "436/436 [==============================] - 13s 31ms/step - loss: 0.4339 - accuracy: 0.4744 - val_loss: 0.3929 - val_accuracy: 0.6531\n",
      "Epoch 4/10\n",
      "436/436 [==============================] - 13s 31ms/step - loss: 0.4085 - accuracy: 0.5796 - val_loss: 0.3783 - val_accuracy: 0.6583\n",
      "Epoch 5/10\n",
      "436/436 [==============================] - 13s 31ms/step - loss: 0.3942 - accuracy: 0.6208 - val_loss: 0.3693 - val_accuracy: 0.6783\n",
      "Epoch 6/10\n",
      "436/436 [==============================] - 14s 32ms/step - loss: 0.3856 - accuracy: 0.6446 - val_loss: 0.3657 - val_accuracy: 0.6826\n",
      "Epoch 7/10\n",
      "436/436 [==============================] - 14s 31ms/step - loss: 0.3701 - accuracy: 0.6509 - val_loss: 0.3685 - val_accuracy: 0.6823\n",
      "Epoch 8/10\n",
      "436/436 [==============================] - 14s 31ms/step - loss: 0.3594 - accuracy: 0.6640 - val_loss: 0.3699 - val_accuracy: 0.6686\n",
      "Epoch 9/10\n",
      "436/436 [==============================] - 13s 31ms/step - loss: 0.3514 - accuracy: 0.6671 - val_loss: 0.3693 - val_accuracy: 0.6717\n",
      "Epoch 10/10\n",
      "436/436 [==============================] - 14s 31ms/step - loss: 0.3417 - accuracy: 0.6622 - val_loss: 0.4081 - val_accuracy: 0.6405\n",
      "Epoch 1/10\n",
      "436/436 [==============================] - 16s 36ms/step - loss: 0.6000 - accuracy: 0.2094 - val_loss: 0.4752 - val_accuracy: 0.4424\n",
      "Epoch 2/10\n",
      "436/436 [==============================] - 16s 37ms/step - loss: 0.4919 - accuracy: 0.4175 - val_loss: 0.4269 - val_accuracy: 0.6388\n",
      "Epoch 3/10\n",
      "436/436 [==============================] - 14s 33ms/step - loss: 0.4423 - accuracy: 0.5456 - val_loss: 0.3917 - val_accuracy: 0.6683\n",
      "Epoch 4/10\n",
      "436/436 [==============================] - 14s 33ms/step - loss: 0.4111 - accuracy: 0.6144 - val_loss: 0.3742 - val_accuracy: 0.6792\n",
      "Epoch 5/10\n",
      "436/436 [==============================] - 14s 33ms/step - loss: 0.3935 - accuracy: 0.6568 - val_loss: 0.3651 - val_accuracy: 0.6829\n",
      "Epoch 6/10\n",
      "436/436 [==============================] - 14s 33ms/step - loss: 0.3834 - accuracy: 0.6617 - val_loss: 0.3749 - val_accuracy: 0.6849\n",
      "Epoch 7/10\n",
      "436/436 [==============================] - 14s 33ms/step - loss: 0.3728 - accuracy: 0.6727 - val_loss: 0.3590 - val_accuracy: 0.6855\n",
      "Epoch 8/10\n",
      "436/436 [==============================] - 14s 33ms/step - loss: 0.3535 - accuracy: 0.6782 - val_loss: 0.3597 - val_accuracy: 0.6878\n",
      "Epoch 9/10\n",
      "436/436 [==============================] - 14s 33ms/step - loss: 0.3486 - accuracy: 0.6873 - val_loss: 0.3728 - val_accuracy: 0.6907\n",
      "Epoch 10/10\n",
      "436/436 [==============================] - 14s 33ms/step - loss: 0.3423 - accuracy: 0.6841 - val_loss: 0.3707 - val_accuracy: 0.6660\n",
      "Epoch 1/10\n",
      "436/436 [==============================] - 15s 33ms/step - loss: 0.5653 - accuracy: 0.1682 - val_loss: 0.4813 - val_accuracy: 0.4292\n",
      "Epoch 2/10\n",
      "436/436 [==============================] - 14s 33ms/step - loss: 0.4709 - accuracy: 0.3499 - val_loss: 0.4112 - val_accuracy: 0.6436\n",
      "Epoch 3/10\n",
      "436/436 [==============================] - 14s 33ms/step - loss: 0.4292 - accuracy: 0.5354 - val_loss: 0.3832 - val_accuracy: 0.6657\n",
      "Epoch 4/10\n",
      "436/436 [==============================] - 14s 33ms/step - loss: 0.4147 - accuracy: 0.6217 - val_loss: 0.3707 - val_accuracy: 0.6838\n",
      "Epoch 5/10\n",
      "436/436 [==============================] - 14s 33ms/step - loss: 0.3915 - accuracy: 0.6516 - val_loss: 0.3695 - val_accuracy: 0.6843\n",
      "Epoch 6/10\n",
      "436/436 [==============================] - 14s 33ms/step - loss: 0.3764 - accuracy: 0.6615 - val_loss: 0.3629 - val_accuracy: 0.6892\n",
      "Epoch 7/10\n",
      "436/436 [==============================] - 14s 33ms/step - loss: 0.3685 - accuracy: 0.6633 - val_loss: 0.3746 - val_accuracy: 0.6815\n",
      "Epoch 8/10\n",
      "436/436 [==============================] - 14s 33ms/step - loss: 0.3620 - accuracy: 0.6562 - val_loss: 0.3663 - val_accuracy: 0.6792\n",
      "Epoch 9/10\n",
      "436/436 [==============================] - 14s 33ms/step - loss: 0.3484 - accuracy: 0.6638 - val_loss: 0.3719 - val_accuracy: 0.6841\n",
      "Epoch 10/10\n",
      "436/436 [==============================] - 14s 33ms/step - loss: 0.3405 - accuracy: 0.6726 - val_loss: 0.3999 - val_accuracy: 0.6465\n",
      "Epoch 1/10\n",
      "436/436 [==============================] - 15s 34ms/step - loss: 0.5614 - accuracy: 0.1662 - val_loss: 0.5041 - val_accuracy: 0.4450\n",
      "Epoch 2/10\n",
      "436/436 [==============================] - 15s 34ms/step - loss: 0.4714 - accuracy: 0.4447 - val_loss: 0.4032 - val_accuracy: 0.6657\n",
      "Epoch 3/10\n",
      "436/436 [==============================] - 15s 34ms/step - loss: 0.4313 - accuracy: 0.5696 - val_loss: 0.3913 - val_accuracy: 0.6597\n",
      "Epoch 4/10\n",
      "436/436 [==============================] - 15s 34ms/step - loss: 0.4108 - accuracy: 0.6150 - val_loss: 0.3757 - val_accuracy: 0.6717\n",
      "Epoch 5/10\n",
      "436/436 [==============================] - 15s 35ms/step - loss: 0.3940 - accuracy: 0.6362 - val_loss: 0.3700 - val_accuracy: 0.6835\n",
      "Epoch 6/10\n",
      "436/436 [==============================] - 15s 34ms/step - loss: 0.3784 - accuracy: 0.6443 - val_loss: 0.3558 - val_accuracy: 0.6858\n",
      "Epoch 7/10\n",
      "436/436 [==============================] - 15s 34ms/step - loss: 0.3691 - accuracy: 0.6545 - val_loss: 0.3606 - val_accuracy: 0.6709\n",
      "Epoch 8/10\n",
      "436/436 [==============================] - 15s 33ms/step - loss: 0.3628 - accuracy: 0.6645 - val_loss: 0.3662 - val_accuracy: 0.6829\n",
      "Epoch 9/10\n",
      "436/436 [==============================] - 15s 33ms/step - loss: 0.3529 - accuracy: 0.6691 - val_loss: 0.3598 - val_accuracy: 0.6660\n",
      "Epoch 10/10\n",
      "436/436 [==============================] - 14s 33ms/step - loss: 0.3424 - accuracy: 0.6642 - val_loss: 0.3694 - val_accuracy: 0.6643\n",
      "Epoch 1/10\n",
      "436/436 [==============================] - 15s 33ms/step - loss: 0.5719 - accuracy: 0.2558 - val_loss: 0.4797 - val_accuracy: 0.4424\n",
      "Epoch 2/10\n",
      "436/436 [==============================] - 14s 33ms/step - loss: 0.4780 - accuracy: 0.3319 - val_loss: 0.4104 - val_accuracy: 0.6362\n",
      "Epoch 3/10\n",
      "436/436 [==============================] - 14s 33ms/step - loss: 0.4388 - accuracy: 0.5118 - val_loss: 0.4078 - val_accuracy: 0.6548\n",
      "Epoch 4/10\n",
      "436/436 [==============================] - 14s 33ms/step - loss: 0.4132 - accuracy: 0.6070 - val_loss: 0.3746 - val_accuracy: 0.6792\n",
      "Epoch 5/10\n",
      "436/436 [==============================] - 14s 33ms/step - loss: 0.3983 - accuracy: 0.6446 - val_loss: 0.3671 - val_accuracy: 0.6798\n",
      "Epoch 6/10\n",
      "436/436 [==============================] - 15s 33ms/step - loss: 0.3868 - accuracy: 0.6625 - val_loss: 0.3694 - val_accuracy: 0.6841\n",
      "Epoch 7/10\n",
      "436/436 [==============================] - 15s 34ms/step - loss: 0.3730 - accuracy: 0.6705 - val_loss: 0.3813 - val_accuracy: 0.6666\n",
      "Epoch 8/10\n",
      "436/436 [==============================] - 15s 34ms/step - loss: 0.3619 - accuracy: 0.6713 - val_loss: 0.3655 - val_accuracy: 0.6663\n",
      "Epoch 9/10\n",
      "436/436 [==============================] - 15s 35ms/step - loss: 0.3488 - accuracy: 0.6743 - val_loss: 0.3698 - val_accuracy: 0.6603\n",
      "Epoch 10/10\n",
      "436/436 [==============================] - 15s 34ms/step - loss: 0.3388 - accuracy: 0.6819 - val_loss: 0.3700 - val_accuracy: 0.6482\n",
      "Epoch 1/10\n",
      "436/436 [==============================] - 15s 34ms/step - loss: 0.5771 - accuracy: 0.1795 - val_loss: 0.4578 - val_accuracy: 0.4424\n",
      "Epoch 2/10\n",
      "436/436 [==============================] - 14s 33ms/step - loss: 0.4816 - accuracy: 0.4197 - val_loss: 0.4349 - val_accuracy: 0.5995\n",
      "Epoch 3/10\n",
      "436/436 [==============================] - 14s 33ms/step - loss: 0.4367 - accuracy: 0.5362 - val_loss: 0.3839 - val_accuracy: 0.6726\n",
      "Epoch 4/10\n",
      "436/436 [==============================] - 15s 34ms/step - loss: 0.4142 - accuracy: 0.5954 - val_loss: 0.3747 - val_accuracy: 0.6729\n",
      "Epoch 5/10\n",
      "436/436 [==============================] - 15s 34ms/step - loss: 0.3929 - accuracy: 0.6320 - val_loss: 0.3808 - val_accuracy: 0.6780\n",
      "Epoch 6/10\n",
      "436/436 [==============================] - 14s 33ms/step - loss: 0.3820 - accuracy: 0.6356 - val_loss: 0.3723 - val_accuracy: 0.6740\n",
      "Epoch 7/10\n",
      "436/436 [==============================] - 14s 31ms/step - loss: 0.3700 - accuracy: 0.6471 - val_loss: 0.3707 - val_accuracy: 0.6729\n",
      "Epoch 8/10\n",
      "436/436 [==============================] - 14s 31ms/step - loss: 0.3549 - accuracy: 0.6318 - val_loss: 0.3734 - val_accuracy: 0.6626\n",
      "Epoch 9/10\n",
      "436/436 [==============================] - 14s 31ms/step - loss: 0.3538 - accuracy: 0.6567 - val_loss: 0.3643 - val_accuracy: 0.6772\n",
      "Epoch 10/10\n",
      "436/436 [==============================] - 14s 31ms/step - loss: 0.3325 - accuracy: 0.6667 - val_loss: 0.3679 - val_accuracy: 0.6603\n",
      "Epoch 1/10\n",
      "436/436 [==============================] - 14s 32ms/step - loss: 0.5629 - accuracy: 0.1955 - val_loss: 0.4599 - val_accuracy: 0.4424\n",
      "Epoch 2/10\n",
      "436/436 [==============================] - 14s 31ms/step - loss: 0.4825 - accuracy: 0.3543 - val_loss: 0.4260 - val_accuracy: 0.5820\n",
      "Epoch 3/10\n",
      "436/436 [==============================] - 14s 31ms/step - loss: 0.4419 - accuracy: 0.5825 - val_loss: 0.4181 - val_accuracy: 0.6302\n",
      "Epoch 4/10\n",
      "436/436 [==============================] - 14s 31ms/step - loss: 0.4170 - accuracy: 0.6301 - val_loss: 0.3801 - val_accuracy: 0.6726\n",
      "Epoch 5/10\n",
      "436/436 [==============================] - 14s 32ms/step - loss: 0.4045 - accuracy: 0.6400 - val_loss: 0.3715 - val_accuracy: 0.6703\n",
      "Epoch 6/10\n",
      "436/436 [==============================] - 14s 31ms/step - loss: 0.3862 - accuracy: 0.6554 - val_loss: 0.3753 - val_accuracy: 0.6766\n",
      "Epoch 7/10\n",
      "436/436 [==============================] - 14s 31ms/step - loss: 0.3837 - accuracy: 0.6564 - val_loss: 0.3732 - val_accuracy: 0.6772\n",
      "Epoch 8/10\n",
      "436/436 [==============================] - 14s 31ms/step - loss: 0.3670 - accuracy: 0.6673 - val_loss: 0.3655 - val_accuracy: 0.6872\n",
      "Epoch 9/10\n",
      "436/436 [==============================] - 14s 31ms/step - loss: 0.3620 - accuracy: 0.6774 - val_loss: 0.3692 - val_accuracy: 0.6714\n",
      "Epoch 10/10\n",
      "436/436 [==============================] - 14s 31ms/step - loss: 0.3556 - accuracy: 0.6715 - val_loss: 0.3710 - val_accuracy: 0.6674\n",
      "Training accuracies: [[0.17898358404636383, 0.4630492329597473, 0.5706400871276855, 0.6112106442451477, 0.6208873987197876, 0.6403124928474426, 0.6592358946800232, 0.6707763075828552, 0.6823883652687073, 0.6931402683258057], [0.2348218709230423, 0.4302917420864105, 0.5588846802711487, 0.6221059560775757, 0.6365851759910583, 0.6557236313819885, 0.6592358946800232, 0.6502759456634521, 0.6553652286529541, 0.6719948649406433], [0.25331518054008484, 0.34133753180503845, 0.5485628247261047, 0.6199555397033691, 0.6565837860107422, 0.6671923398971558, 0.670274555683136, 0.678732693195343, 0.6765823364257812, 0.6798796057701111], [0.2075120061635971, 0.4186079800128937, 0.5896351337432861, 0.6469787359237671, 0.6697728037834167, 0.6719948649406433, 0.6657587289810181, 0.6778008937835693, 0.6785176396369934, 0.6734284162521362], [0.16400258243083954, 0.3887893259525299, 0.5459107160568237, 0.6055479645729065, 0.6352949738502502, 0.6558669805526733, 0.665185272693634, 0.6737868189811707, 0.668339192867279, 0.6732850670814514], [0.1400616466999054, 0.33044224977493286, 0.5447638034820557, 0.6292738914489746, 0.6413877010345459, 0.6510644555091858, 0.6514945030212402, 0.654146671295166, 0.663966715335846, 0.6666905879974365], [0.20435811579227448, 0.44813990592956543, 0.582610547542572, 0.6257615685462952, 0.6358683705329895, 0.6502043008804321, 0.6622464060783386, 0.6636083722114563, 0.6722098588943481, 0.6805247068405151], [0.18729840219020844, 0.38663893938064575, 0.5643323063850403, 0.6281270384788513, 0.6448283195495605, 0.6485556364059448, 0.6644684672355652, 0.6712780594825745, 0.6684825420379639, 0.6821733117103577], [0.14794638752937317, 0.3849186301231384, 0.5461974143981934, 0.620672345161438, 0.6500609517097473, 0.663966715335846, 0.6715647578239441, 0.6648268699645996, 0.674933671951294, 0.6686258912086487], [0.2168303281068802, 0.38283994793891907, 0.55487060546875, 0.6124292016029358, 0.6294889450073242, 0.6434664130210876, 0.6492724418640137, 0.645831823348999, 0.6668339371681213, 0.6565837860107422], [0.22406995296478271, 0.3736649751663208, 0.5295677781105042, 0.6075550317764282, 0.6449716687202454, 0.6588774919509888, 0.6642534732818604, 0.6796645522117615, 0.6854705810546875, 0.6820299625396729], [0.2305927872657776, 0.40742599964141846, 0.5446204543113708, 0.6031825542449951, 0.6285570859909058, 0.6474087834358215, 0.6512078046798706, 0.658734142780304, 0.6572288870811462, 0.6635366678237915], [0.18077556788921356, 0.3802594840526581, 0.5518600940704346, 0.5983800292015076, 0.6218909025192261, 0.6428929567337036, 0.6514228582382202, 0.6638950705528259, 0.6588774919509888, 0.6626765131950378], [0.1992688626050949, 0.42111676931381226, 0.555444061756134, 0.6177334785461426, 0.6416027545928955, 0.6583757400512695, 0.6609562039375305, 0.6823166608810425, 0.6747186779975891, 0.681241512298584], [0.21611353754997253, 0.4120134711265564, 0.5959429144859314, 0.6216042041778564, 0.6319977045059204, 0.6408859491348267, 0.6411010026931763, 0.6504193544387817, 0.6552935242652893, 0.6727116107940674], [0.222564697265625, 0.3748835325241089, 0.5616084933280945, 0.6079134345054626, 0.6318543553352356, 0.6468353271484375, 0.6474087834358215, 0.6519962549209595, 0.6362267732620239, 0.642534613609314], [0.23940935730934143, 0.3308723270893097, 0.47731345891952515, 0.6031109094619751, 0.6360834240913391, 0.6412443518638611, 0.6524980068206787, 0.6636083722114563, 0.6810264587402344, 0.6884094476699829], [0.19403627514839172, 0.3403340280056, 0.48677513003349304, 0.5661959648132324, 0.6215324997901917, 0.647767186164856, 0.6720665097236633, 0.6828184127807617, 0.6805247068405151, 0.6792344450950623], [0.27940648794174194, 0.3644183278083801, 0.5704250335693359, 0.6185936331748962, 0.6383054852485657, 0.6493441462516785, 0.6464052796363831, 0.6581606864929199, 0.670346200466156, 0.6674790382385254], [0.2048598676919937, 0.3624829649925232, 0.5515733361244202, 0.6267651319503784, 0.6454734206199646, 0.653501570224762, 0.6653286218643188, 0.6722098588943481, 0.6671923398971558, 0.6718514561653137], [0.22557522356510162, 0.3614794611930847, 0.5525768995285034, 0.6146512627601624, 0.6413877010345459, 0.656727135181427, 0.6656153798103333, 0.6635366678237915, 0.6679807901382446, 0.6783742904663086], [0.18758511543273926, 0.398394376039505, 0.5636872053146362, 0.6083434820175171, 0.6021790504455566, 0.6307075023651123, 0.6454017758369446, 0.6524263620376587, 0.6641817688941956, 0.6595942974090576], [0.14622607827186584, 0.35517168045043945, 0.5790982842445374, 0.6252598166465759, 0.6281986832618713, 0.6251881718635559, 0.6605978012084961, 0.6689126491546631, 0.6589491963386536, 0.6521396040916443], [0.1921726018190384, 0.36219626665115356, 0.47444626688957214, 0.5796000361442566, 0.6208156943321228, 0.6446132659912109, 0.650921106338501, 0.6640384197235107, 0.667120635509491, 0.6621747612953186], [0.20937566459178925, 0.4174611270427704, 0.5456239581108093, 0.6144362688064575, 0.656798779964447, 0.6617446541786194, 0.6727116107940674, 0.6782309412956238, 0.6872625350952148, 0.6841086745262146], [0.16823166608810425, 0.34986740350723267, 0.535445511341095, 0.6216758489608765, 0.651637852191925, 0.6614579558372498, 0.6633216142654419, 0.656153678894043, 0.6637517213821411, 0.6726399660110474], [0.1662246435880661, 0.44469931721687317, 0.5695648789405823, 0.6150096654891968, 0.6362267732620239, 0.6442548632621765, 0.6545050740242004, 0.66454017162323, 0.6691276431083679, 0.6641817688941956], [0.2558239698410034, 0.33187586069107056, 0.5117912888526917, 0.6069815754890442, 0.6446132659912109, 0.662533164024353, 0.6704895496368408, 0.6712780594825745, 0.6742885708808899, 0.681886613368988], [0.17948533594608307, 0.41968318819999695, 0.5362339615821838, 0.5954411625862122, 0.6319977045059204, 0.6355816721916199, 0.6471220850944519, 0.6317826509475708, 0.656727135181427, 0.6666905879974365], [0.19546985626220703, 0.3543115258216858, 0.5824671983718872, 0.6300623416900635, 0.639954149723053, 0.6553652286529541, 0.6563687324523926, 0.6672639846801758, 0.6773707866668701, 0.6714930534362793]]\n",
      "Validation accuracies: [[0.4481078088283539, 0.6450688242912292, 0.6731651425361633, 0.6743119359016418, 0.6763188242912292, 0.6774656176567078, 0.6903669834136963, 0.685206413269043, 0.6803325414657593, 0.6768922209739685], [0.4423738420009613, 0.6599770784378052, 0.6685779690742493, 0.6723050475120544, 0.6737385392189026, 0.6786124110221863, 0.682052731513977, 0.6548165082931519, 0.6740252375602722, 0.6642774939537048], [0.4423738420009613, 0.6599770784378052, 0.6728784441947937, 0.66800457239151, 0.6763188242912292, 0.6794725060462952, 0.6800458431243896, 0.6763188242912292, 0.6731651425361633, 0.665710985660553], [0.4423738420009613, 0.650802731513977, 0.6737385392189026, 0.6525229215621948, 0.685206413269043, 0.6768922209739685, 0.6814793348312378, 0.6731651425361633, 0.63274085521698, 0.6350343823432922], [0.4423738420009613, 0.6204128265380859, 0.6579701900482178, 0.6628440618515015, 0.6814793348312378, 0.6831995248794556, 0.6837729215621948, 0.6809059381484985, 0.6777523159980774, 0.6737385392189026], [0.4423738420009613, 0.6235665082931519, 0.6631307601928711, 0.6510894298553467, 0.6725917458534241, 0.6582568883895874, 0.6628440618515015, 0.6573967933654785, 0.6576834917068481, 0.6754587292671204], [0.4420871436595917, 0.63675457239151, 0.6728784441947937, 0.6611238718032837, 0.6708715558052063, 0.6895068883895874, 0.6823394298553467, 0.6877866983413696, 0.6720183491706848, 0.6573967933654785], [0.4423738420009613, 0.6298738718032837, 0.6720183491706848, 0.6829128265380859, 0.6794725060462952, 0.6846330165863037, 0.6906536817550659, 0.6745986342430115, 0.6654242873191833, 0.6728784441947937], [0.4423738420009613, 0.6396215558052063, 0.6596903800964355, 0.6682912707328796, 0.682052731513977, 0.6814793348312378, 0.6740252375602722, 0.682052731513977, 0.678039014339447, 0.6694380640983582], [0.4423738420009613, 0.6416284441947937, 0.6771789193153381, 0.6723050475120544, 0.6760321259498596, 0.685206413269043, 0.6826261281967163, 0.6863532066345215, 0.6811926364898682, 0.6611238718032837], [0.44266054034233093, 0.61725914478302, 0.6206995248794556, 0.6768922209739685, 0.6743119359016418, 0.6596903800964355, 0.685206413269043, 0.6634174585342407, 0.6743119359016418, 0.6571100950241089], [0.4423738420009613, 0.584289014339447, 0.6751720309257507, 0.6596903800964355, 0.6872133016586304, 0.6794725060462952, 0.6745986342430115, 0.6708715558052063, 0.6625573635101318, 0.6582568883895874], [0.46358945965766907, 0.6238532066345215, 0.6347476840019226, 0.6573967933654785, 0.6771789193153381, 0.6714449524879456, 0.6700114607810974, 0.6720183491706848, 0.6588302850723267, 0.6900802850723267], [0.3879013657569885, 0.6611238718032837, 0.67574542760849, 0.6748853325843811, 0.670298159122467, 0.6860665082931519, 0.6846330165863037, 0.6771789193153381, 0.6760321259498596, 0.6594036817550659], [0.4423738420009613, 0.64850914478302, 0.6605504751205444, 0.6803325414657593, 0.6783257126808167, 0.6829128265380859, 0.6645641922950745, 0.6510894298553467, 0.6459289193153381, 0.6588302850723267], [0.4423738420009613, 0.5470183491706848, 0.6645641922950745, 0.6628440618515015, 0.6846330165863037, 0.673451840877533, 0.6834862232208252, 0.6717316508293152, 0.6487958431243896, 0.6826261281967163], [0.4314793646335602, 0.31221330165863037, 0.658543586730957, 0.6751720309257507, 0.6404816508293152, 0.6720183491706848, 0.6705848574638367, 0.682052731513977, 0.6794725060462952, 0.6806192398071289], [0.4423738420009613, 0.6393348574638367, 0.6642774939537048, 0.6530963182449341, 0.6725917458534241, 0.6737385392189026, 0.6823394298553467, 0.6831995248794556, 0.67574542760849, 0.6654242873191833], [0.4423738420009613, 0.6100917458534241, 0.6651375889778137, 0.682052731513977, 0.6788991093635559, 0.6668577790260315, 0.6786124110221863, 0.6846330165863037, 0.6751720309257507, 0.6700114607810974], [0.4423738420009613, 0.5498853325843811, 0.6674311757087708, 0.6439220309257507, 0.6591169834136963, 0.6542431116104126, 0.6774656176567078, 0.6725917458534241, 0.6479358077049255, 0.6502293348312378], [0.4423738420009613, 0.6476491093635559, 0.6674311757087708, 0.6596903800964355, 0.6806192398071289, 0.6674311757087708, 0.6760321259498596, 0.6671444773674011, 0.6737385392189026, 0.6651375889778137], [0.4423738420009613, 0.5645068883895874, 0.646789014339447, 0.6579701900482178, 0.6533830165863037, 0.6725917458534241, 0.6771789193153381, 0.670298159122467, 0.670298159122467, 0.6697247624397278], [0.4423738420009613, 0.6393348574638367, 0.6611238718032837, 0.6700114607810974, 0.6605504751205444, 0.6766055226325989, 0.6875, 0.6614105701446533, 0.6525229215621948, 0.642201840877533], [0.4423738420009613, 0.639048159122467, 0.6530963182449341, 0.6582568883895874, 0.6783257126808167, 0.6826261281967163, 0.6823394298553467, 0.6685779690742493, 0.6717316508293152, 0.6404816508293152], [0.4423738420009613, 0.6387614607810974, 0.6682912707328796, 0.6791858077049255, 0.6829128265380859, 0.6849197149276733, 0.6854931116104126, 0.6877866983413696, 0.6906536817550659, 0.6659976840019226], [0.42918577790260315, 0.6436353325843811, 0.665710985660553, 0.6837729215621948, 0.6843463182449341, 0.6892201900482178, 0.6814793348312378, 0.6791858077049255, 0.6840596199035645, 0.6465023159980774], [0.44495412707328796, 0.665710985660553, 0.6596903800964355, 0.6717316508293152, 0.6834862232208252, 0.6857798099517822, 0.6708715558052063, 0.6829128265380859, 0.6659976840019226, 0.6642774939537048], [0.4423738420009613, 0.6361811757087708, 0.6548165082931519, 0.6791858077049255, 0.67975914478302, 0.6840596199035645, 0.6665710806846619, 0.6662843823432922, 0.6602637767791748, 0.6482225060462952], [0.4423738420009613, 0.5994839668273926, 0.6725917458534241, 0.6728784441947937, 0.678039014339447, 0.6740252375602722, 0.6728784441947937, 0.6625573635101318, 0.6771789193153381, 0.6602637767791748], [0.4423738420009613, 0.58199542760849, 0.6301605701446533, 0.6725917458534241, 0.670298159122467, 0.6766055226325989, 0.6771789193153381, 0.6872133016586304, 0.6714449524879456, 0.6674311757087708]]\n"
     ]
    }
   ],
   "source": [
    "training_accuracies = []\n",
    "validation_accuracies = []\n",
    "\n",
    "for i in range(30):\n",
    "\n",
    "    seed = np.random.randint(1, 999999)\n",
    "    np.random.seed(seed)\n",
    "    tf.random.set_seed(seed)\n",
    "    random.seed(seed)\n",
    "    \n",
    "    model = models.Sequential()\n",
    "    model.add(layers.Conv1D(64, 3, activation='relu', input_shape=(1000, 12)))\n",
    "    model.add(layers.MaxPooling1D(2))\n",
    "    model.add(layers.Conv1D(128, 3, activation='relu'))\n",
    "    model.add(layers.MaxPooling1D(2))\n",
    "    model.add(layers.Conv1D(256, 3, activation='relu'))\n",
    "    model.add(layers.MaxPooling1D(2))\n",
    "    model.add(layers.Flatten())\n",
    "    model.add(layers.Dense(256, activation='relu'))\n",
    "    model.add(layers.Dropout(0.5))\n",
    "    model.add(layers.Dense(128, activation='relu'))\n",
    "    model.add(layers.Dropout(0.5))\n",
    "    model.add(layers.Dense(64, activation='relu'))\n",
    "    model.add(layers.Dropout(0.5))\n",
    "    model.add(layers.Dense(32, activation='relu'))\n",
    "    model.add(layers.Dropout(0.5))\n",
    "    model.add(layers.Dense(16, activation='relu'))\n",
    "    model.add(layers.Dropout(0.5))\n",
    "    model.add(layers.Dense(12, activation='softmax'))\n",
    "\n",
    "    model.compile(optimizer='adam',\n",
    "                  loss='binary_crossentropy',\n",
    "                  metrics=['accuracy'])\n",
    "\n",
    "    history = model.fit(X_train, y_train,\n",
    "                        epochs=10,\n",
    "                        batch_size=32,\n",
    "                        validation_data=(X_val, y_val))\n",
    "\n",
    "    training_accuracies.append(history.history['accuracy'])\n",
    "    validation_accuracies.append(history.history['val_accuracy'])\n",
    "\n",
    "print(f\"Training accuracies: {training_accuracies}\")\n",
    "print(f\"Validation accuracies: {validation_accuracies}\")"
   ]
  },
  {
   "cell_type": "code",
   "execution_count": 35,
   "metadata": {
    "tags": []
   },
   "outputs": [],
   "source": [
    "training_accuracies = np.array(training_accuracies)\n",
    "validation_accuracies = np.array(validation_accuracies)"
   ]
  },
  {
   "cell_type": "code",
   "execution_count": 36,
   "metadata": {
    "tags": []
   },
   "outputs": [],
   "source": [
    "training_acc = training_accuracies[:, -1]\n",
    "validation_acc = validation_accuracies[:, -1]"
   ]
  },
  {
   "cell_type": "code",
   "execution_count": 46,
   "metadata": {
    "tags": []
   },
   "outputs": [],
   "source": [
    "accuracy = np.stack((training_acc, validation_acc), axis =1)\n",
    "accuracy = pd.DataFrame(accuracy)"
   ]
  },
  {
   "cell_type": "code",
   "execution_count": 51,
   "metadata": {
    "tags": []
   },
   "outputs": [
    {
     "data": {
      "text/plain": [
       "Text(0, 0.5, 'Validation Accuracy')"
      ]
     },
     "execution_count": 51,
     "metadata": {},
     "output_type": "execute_result"
    },
    {
     "data": {
      "image/png": "[encoded data removed]",
      "text/plain": [
       "<Figure size 900x500 with 1 Axes>"
      ]
     },
     "metadata": {},
     "output_type": "display_data"
    }
   ],
   "source": [
    "plt.figure(figsize=(9, 5))\n",
    "plt.scatter(training_acc, validation_acc)\n",
    "\n",
    "plt.title('Training vs Validation Accuracy')\n",
    "plt.xlabel('Training Accuracy')\n",
    "plt.ylabel('Validation Accuracy')"
   ]
  },
  {
   "cell_type": "code",
   "execution_count": null,
   "metadata": {},
   "outputs": [],
   "source": [
    "plt.plot(history.history['accuracy'], label='Training Accuracy')\n",
    "plt.plot(history.history['val_accuracy'], label = 'Validation Accuracy')\n",
    "plt.xlabel('Epoch')\n",
    "plt.ylabel('Accuracy')\n",
    "plt.title('Accuracy Accross Epochs')\n",
    "plt.ylim([0, 1])\n",
    "plt.legend(loc='lower right')\n",
    "plt.show();"
   ]
  },
  {
   "cell_type": "code",
   "execution_count": null,
   "metadata": {},
   "outputs": [],
   "source": []
  }
 ],
 "metadata": {
  "kernelspec": {
   "display_name": "Python 3 (ipykernel)",
   "language": "python",
   "name": "python3"
  },
  "language_info": {
   "codemirror_mode": {
    "name": "ipython",
    "version": 3
   },
   "file_extension": ".py",
   "mimetype": "text/x-python",
   "name": "python",
   "nbconvert_exporter": "python",
   "pygments_lexer": "ipython3",
   "version": "3.11.5"
  }
 },
 "nbformat": 4,
 "nbformat_minor": 4
}
