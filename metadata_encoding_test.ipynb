{
 "cells": [
  {
   "cell_type": "code",
   "execution_count": 1,
   "metadata": {},
   "outputs": [],
   "source": [
    "import warnings\n",
    "warnings.filterwarnings('ignore')"
   ]
  },
  {
   "cell_type": "code",
   "execution_count": 2,
   "metadata": {
    "tags": []
   },
   "outputs": [],
   "source": [
    "import ast\n",
    "import matplotlib.pyplot as plt\n",
    "import numpy as np\n",
    "import os\n",
    "import pandas as pd\n",
    "import random\n",
    "from sklearn.ensemble import RandomForestClassifier\n",
    "from sklearn.metrics import accuracy_score\n",
    "from sklearn.metrics import confusion_matrix, ConfusionMatrixDisplay\n",
    "from sklearn.model_selection import train_test_split\n",
    "from sklearn.preprocessing import MultiLabelBinarizer\n",
    "from sklearn.preprocessing import OneHotEncoder\n",
    "import keras_tuner as kt\n",
    "from sklearn.svm import SVC\n",
    "import tensorflow as tf\n",
    "from tensorflow import keras\n",
    "from tensorflow.keras import layers, models\n",
    "import wfdb\n",
    "import random"
   ]
  },
  {
   "cell_type": "markdown",
   "metadata": {},
   "source": [
    "### Load Data"
   ]
  },
  {
   "cell_type": "code",
   "execution_count": 3,
   "metadata": {},
   "outputs": [],
   "source": [
    "def load_raw_data(df, sampling_rate, path):\n",
    "    if sampling_rate == 100:\n",
    "        data = [wfdb.rdsamp(path+f) for f in df.filename_lr]\n",
    "    else:\n",
    "        data = [wfdb.rdsamp(path+f) for f in df.filename_hr]\n",
    "    data = np.array([signal for signal, meta in data])\n",
    "    return data\n",
    "\n",
    "path = \"/Users/danielkim/Documents/MIDS/W207-ML/Final/Data/ptb-xl-a-large-publicly-available-electrocardiography-dataset-1.0.3/\"\n",
    "sampling_rate = 100\n",
    "\n",
    "Y = pd.read_csv(path + \"ptbxl_database.csv\", index_col=\"ecg_id\")\n",
    "Y.scp_codes = Y.scp_codes.apply(lambda x: ast.literal_eval(x))\n",
    "\n",
    "X = load_raw_data(Y, sampling_rate, path)\n",
    "\n",
    "agg_df = pd.read_csv(path + \"scp_statements.csv\", index_col=0)\n",
    "agg_df = agg_df[agg_df.diagnostic == 1]\n",
    "\n",
    "def aggregate_diagnostic(y_dic):\n",
    "    tmp = []\n",
    "    for key in y_dic.keys():\n",
    "        if key in agg_df.index:\n",
    "            tmp.append(agg_df.loc[key].diagnostic_class)\n",
    "    return list(set(tmp))\n",
    "\n",
    "Y['diagnostic_superclass'] = Y.scp_codes.apply(aggregate_diagnostic)\n",
    "Y['diagnostic_superclass'] = Y['diagnostic_superclass'].apply(lambda x: x[0] if len(x) > 0 else 'NORM')"
   ]
  },
  {
   "cell_type": "code",
   "execution_count": 4,
   "metadata": {},
   "outputs": [
    {
     "data": {
      "text/plain": [
       "array([-0.115, -0.028,  0.086,  0.071, -0.1  ,  0.029, -0.059, -0.011,\n",
       "        0.018,  0.015,  0.01 , -0.058])"
      ]
     },
     "execution_count": 4,
     "metadata": {},
     "output_type": "execute_result"
    }
   ],
   "source": [
    "X[0][13] # First example"
   ]
  },
  {
   "cell_type": "code",
   "execution_count": 5,
   "metadata": {},
   "outputs": [
    {
     "data": {
      "text/plain": [
       "(array(['CD', 'HYP', 'MI', 'NORM', 'STTC'], dtype=object),\n",
       " array([2036, 1618, 5469, 9917, 2759]))"
      ]
     },
     "execution_count": 5,
     "metadata": {},
     "output_type": "execute_result"
    }
   ],
   "source": [
    "y = Y['diagnostic_superclass'].to_numpy()\n",
    "classes, counts = np.unique(y, return_counts=True)\n",
    "classes, counts # Don't end up with same counts each time - fix?"
   ]
  },
  {
   "cell_type": "code",
   "execution_count": 6,
   "metadata": {},
   "outputs": [],
   "source": [
    "X_train, X_test, y_train, y_test = train_test_split(X, y, test_size=0.20, random_state=42, shuffle=True)"
   ]
  },
  {
   "cell_type": "code",
   "execution_count": 7,
   "metadata": {},
   "outputs": [
    {
     "data": {
      "text/plain": [
       "(17439,)"
      ]
     },
     "execution_count": 7,
     "metadata": {},
     "output_type": "execute_result"
    }
   ],
   "source": [
    "y_train.shape"
   ]
  },
  {
   "cell_type": "code",
   "execution_count": 8,
   "metadata": {},
   "outputs": [
    {
     "data": {
      "image/png": "[encoded data removed]",
      "text/plain": [
       "<Figure size 500x300 with 1 Axes>"
      ]
     },
     "metadata": {},
     "output_type": "display_data"
    }
   ],
   "source": [
    "plt.figure(figsize=(5,3))\n",
    "pd.Series(y_train).value_counts().plot(kind='bar')\n",
    "plt.title('Diagnostic Superclass Distribution')\n",
    "plt.xlabel('Superclass')\n",
    "plt.ylabel('Count')\n",
    "plt.show()"
   ]
  },
  {
   "cell_type": "code",
   "execution_count": 9,
   "metadata": {},
   "outputs": [
    {
     "name": "stdout",
     "output_type": "stream",
     "text": [
      "['CD' 'HYP' 'MI' 'NORM' 'STTC'] [1620 1294 4422 7902 2201]\n"
     ]
    }
   ],
   "source": [
    "train_classes, train_counts = np.unique(y_train, return_counts=True)\n",
    "print(train_classes, train_counts)"
   ]
  },
  {
   "cell_type": "markdown",
   "metadata": {},
   "source": [
    "### Correct Data Imbalance"
   ]
  },
  {
   "cell_type": "code",
   "execution_count": 10,
   "metadata": {},
   "outputs": [
    {
     "name": "stdout",
     "output_type": "stream",
     "text": [
      "1294\n"
     ]
    }
   ],
   "source": [
    "smallest_class_count = min(train_counts)\n",
    "print(smallest_class_count)"
   ]
  },
  {
   "cell_type": "code",
   "execution_count": 11,
   "metadata": {},
   "outputs": [],
   "source": [
    "def get_class_subset(ekg_class):\n",
    "    y_train_class_indices = np.where(y_train == ekg_class)[0]\n",
    "    y_train_class_subset_indices = np.random.choice(\n",
    "        y_train_class_indices,\n",
    "        size=smallest_class_count,\n",
    "        replace=False\n",
    "    )\n",
    "    X_train_class_subset = X_train[y_train_class_subset_indices]\n",
    "    y_train_class_subset = np.array([ekg_class] * smallest_class_count)\n",
    "    return X_train_class_subset, y_train_class_subset\n",
    "\n",
    "X_train_cd, y_train_cd = get_class_subset('CD')\n",
    "X_train_hyp, y_train_hyp = get_class_subset('HYP')\n",
    "X_train_mi, y_train_mi = get_class_subset('MI')\n",
    "X_train_norm, y_train_norm = get_class_subset('NORM')\n",
    "X_train_sttc, y_train_sttc = get_class_subset('STTC')"
   ]
  },
  {
   "cell_type": "code",
   "execution_count": 12,
   "metadata": {},
   "outputs": [
    {
     "name": "stdout",
     "output_type": "stream",
     "text": [
      "(1294, 1000, 12)\n"
     ]
    }
   ],
   "source": [
    "print(X_train_cd.shape)\n",
    "#print(X_train_hyp.shape)\n",
    "#print(X_train_mi.shape)\n",
    "#print(X_train_norm.shape)\n",
    "#print(X_train_sttc.shape)"
   ]
  },
  {
   "cell_type": "code",
   "execution_count": 13,
   "metadata": {},
   "outputs": [
    {
     "data": {
      "text/plain": [
       "(6470, 1000, 12)"
      ]
     },
     "execution_count": 13,
     "metadata": {},
     "output_type": "execute_result"
    }
   ],
   "source": [
    "X_train = np.concatenate((X_train_cd, X_train_hyp, X_train_mi, X_train_norm, X_train_sttc))\n",
    "X_train.shape"
   ]
  },
  {
   "cell_type": "code",
   "execution_count": 14,
   "metadata": {},
   "outputs": [],
   "source": [
    "#print(y_train_cd.shape)\n",
    "#print(y_train_hyp.shape)\n",
    "#print(y_train_mi.shape)\n",
    "#print(y_train_norm.shape)\n",
    "#print(y_train_sttc.shape)"
   ]
  },
  {
   "cell_type": "code",
   "execution_count": 15,
   "metadata": {},
   "outputs": [
    {
     "data": {
      "text/plain": [
       "(6470,)"
      ]
     },
     "execution_count": 15,
     "metadata": {},
     "output_type": "execute_result"
    }
   ],
   "source": [
    "y_train = np.concatenate((y_train_cd, y_train_hyp, y_train_mi, y_train_norm, y_train_sttc))\n",
    "y_train.shape"
   ]
  },
  {
   "cell_type": "code",
   "execution_count": 16,
   "metadata": {},
   "outputs": [
    {
     "data": {
      "image/png": "[encoded data removed]",
      "text/plain": [
       "<Figure size 500x300 with 1 Axes>"
      ]
     },
     "metadata": {},
     "output_type": "display_data"
    }
   ],
   "source": [
    "plt.figure(figsize=(5,3))\n",
    "pd.Series(y_train).value_counts().plot(kind='bar')\n",
    "plt.title('Diagnostic Superclass Distribution')\n",
    "plt.xlabel('Superclass')\n",
    "plt.ylabel('Count')\n",
    "plt.show()"
   ]
  },
  {
   "cell_type": "markdown",
   "metadata": {},
   "source": [
    "### Split Data"
   ]
  },
  {
   "cell_type": "code",
   "execution_count": 17,
   "metadata": {},
   "outputs": [],
   "source": [
    "X_train, X_val, y_train, y_val = train_test_split(X_train, y_train, test_size=0.20, random_state=42, shuffle=True)"
   ]
  },
  {
   "cell_type": "code",
   "execution_count": 18,
   "metadata": {},
   "outputs": [
    {
     "name": "stdout",
     "output_type": "stream",
     "text": [
      "Training data shape: (5176, 1000, 12)\n",
      "Training labels shape: (5176,) \n",
      "\n",
      "Validation data shape: (1294, 1000, 12)\n",
      "Validation labels shape: (1294,) \n",
      "\n",
      "Test data shape: (4360, 1000, 12)\n",
      "Test labels shape: (4360,)\n"
     ]
    }
   ],
   "source": [
    "print('Training data shape:', X_train.shape)\n",
    "print('Training labels shape:', y_train.shape, '\\n')\n",
    "print('Validation data shape:', X_val.shape)\n",
    "print('Validation labels shape:', y_val.shape, '\\n')\n",
    "print('Test data shape:', X_test.shape)\n",
    "print('Test labels shape:', y_test.shape)"
   ]
  },
  {
   "cell_type": "markdown",
   "metadata": {},
   "source": [
    "### Normalize Data"
   ]
  },
  {
   "cell_type": "code",
   "execution_count": 19,
   "metadata": {},
   "outputs": [
    {
     "name": "stdout",
     "output_type": "stream",
     "text": [
      "-20.032 10.24\n"
     ]
    }
   ],
   "source": [
    "X_train_extra_flat = np.array([ekg.flatten() for ekg in X_train]).flatten()\n",
    "print(min(X_train_extra_flat), max(X_train_extra_flat))"
   ]
  },
  {
   "cell_type": "code",
   "execution_count": 20,
   "metadata": {},
   "outputs": [],
   "source": [
    "#def normalize(data):\n",
    "#    data_mean = data.mean()\n",
    "#    data_sd = data.std()\n",
    "#    return (data - data_mean) / data_sd\n",
    "\n",
    "#X_train = normalize(X_train)\n",
    "#X_val = normalize(X_val)\n",
    "#X_test = normalize(X_test)"
   ]
  },
  {
   "cell_type": "code",
   "execution_count": 21,
   "metadata": {},
   "outputs": [
    {
     "name": "stdout",
     "output_type": "stream",
     "text": [
      "-20.032 10.24\n"
     ]
    }
   ],
   "source": [
    "X_train_extra_flat = np.array([ekg.flatten() for ekg in X_train]).flatten()\n",
    "print(min(X_train_extra_flat), max(X_train_extra_flat))"
   ]
  },
  {
   "cell_type": "markdown",
   "metadata": {},
   "source": [
    "### Baseline Models"
   ]
  },
  {
   "cell_type": "code",
   "execution_count": 22,
   "metadata": {},
   "outputs": [
    {
     "name": "stdout",
     "output_type": "stream",
     "text": [
      "Training accuracy: 0.18875579598145287\n",
      "Validation accuracy: 0.18856259659969088\n",
      "Test accuracy: 0.20229357798165137\n"
     ]
    },
    {
     "data": {
      "image/png": "[encoded data removed]",
      "text/plain": [
       "<Figure size 640x480 with 2 Axes>"
      ]
     },
     "metadata": {},
     "output_type": "display_data"
    }
   ],
   "source": [
    "def random_classification(training_data):\n",
    "    return [np.random.choice(classes) for _ in training_data]\n",
    "\n",
    "predictions_train = random_classification(X_train)\n",
    "accuracy_train = accuracy_score(y_train, predictions_train)\n",
    "print('Training accuracy:', accuracy_train)\n",
    "\n",
    "predictions_val = random_classification(X_val)\n",
    "accuracy_val = accuracy_score(y_val, predictions_val)\n",
    "print('Validation accuracy:', accuracy_val)\n",
    "\n",
    "predictions_test = random_classification(X_test)\n",
    "accuracy_test = accuracy_score(y_test, predictions_test)\n",
    "print('Test accuracy:', accuracy_test)\n",
    "\n",
    "random_cm = confusion_matrix(y_test, predictions_test, labels=train_classes)\n",
    "ConfusionMatrixDisplay(confusion_matrix=random_cm, display_labels=train_classes).plot();"
   ]
  },
  {
   "cell_type": "code",
   "execution_count": 23,
   "metadata": {},
   "outputs": [
    {
     "name": "stdout",
     "output_type": "stream",
     "text": [
      "Training accuracy: 0.19938176197836166\n",
      "Validation accuracy: 0.20247295208655333\n",
      "Test accuracy: 0.46215596330275227\n"
     ]
    },
    {
     "data": {
      "image/png": "[encoded data removed]",
      "text/plain": [
       "<Figure size 640x480 with 2 Axes>"
      ]
     },
     "metadata": {},
     "output_type": "display_data"
    }
   ],
   "source": [
    "def always_classify_normal(training_data):\n",
    "    return ['NORM'] * len(training_data)\n",
    "\n",
    "predictions_train = always_classify_normal(X_train)\n",
    "accuracy_train = accuracy_score(y_train, predictions_train)\n",
    "print('Training accuracy:', accuracy_train)\n",
    "\n",
    "predictions_val = always_classify_normal(X_val)\n",
    "accuracy_val = accuracy_score(y_val, predictions_val)\n",
    "print('Validation accuracy:', accuracy_val)\n",
    "\n",
    "predictions_test = always_classify_normal(X_test)\n",
    "accuracy_test = accuracy_score(y_test, predictions_test)\n",
    "print('Test accuracy:', accuracy_test)\n",
    "\n",
    "normal_cm = confusion_matrix(y_test, predictions_test, labels=train_classes)\n",
    "ConfusionMatrixDisplay(confusion_matrix=normal_cm, display_labels=train_classes).plot();"
   ]
  },
  {
   "cell_type": "markdown",
   "metadata": {},
   "source": [
    "### Train Models"
   ]
  },
  {
   "cell_type": "code",
   "execution_count": 24,
   "metadata": {},
   "outputs": [
    {
     "name": "stdout",
     "output_type": "stream",
     "text": [
      "(5176, 12000)\n",
      "(1294, 12000)\n",
      "(4360, 12000)\n"
     ]
    }
   ],
   "source": [
    "X_train_flattened = np.array([ekg.flatten() for ekg in X_train])\n",
    "print(X_train_flattened.shape)\n",
    "\n",
    "X_val_flattened = np.array([ekg.flatten() for ekg in X_val])\n",
    "print(X_val_flattened.shape)\n",
    "\n",
    "X_test_flattened = np.array([ekg.flatten() for ekg in X_test])\n",
    "print(X_test_flattened.shape)"
   ]
  },
  {
   "cell_type": "markdown",
   "metadata": {},
   "source": [
    "**Neural Network**"
   ]
  },
  {
   "cell_type": "code",
   "execution_count": 25,
   "metadata": {},
   "outputs": [],
   "source": [
    "mlb = MultiLabelBinarizer()\n",
    "y_train = mlb.fit_transform(y_train)\n",
    "y_val = mlb.transform(y_val)\n",
    "y_test = mlb.transform(y_test)"
   ]
  },
  {
   "cell_type": "code",
   "execution_count": 26,
   "metadata": {
    "tags": []
   },
   "outputs": [
    {
     "name": "stdout",
     "output_type": "stream",
     "text": [
      "Epoch 1/10\n"
     ]
    },
    {
     "name": "stderr",
     "output_type": "stream",
     "text": [
      "2024-04-16 23:34:00.869742: W tensorflow/tsl/platform/profile_utils/cpu_utils.cc:128] Failed to get CPU frequency: 0 Hz\n"
     ]
    },
    {
     "name": "stdout",
     "output_type": "stream",
     "text": [
      "162/162 [==============================] - 13s 77ms/step - loss: nan - categorical_accuracy: 0.3823 - val_loss: nan - val_categorical_accuracy: 0.4034\n",
      "Epoch 2/10\n",
      "162/162 [==============================] - 11s 71ms/step - loss: nan - categorical_accuracy: 0.3991 - val_loss: nan - val_categorical_accuracy: 0.4034\n",
      "Epoch 3/10\n",
      "162/162 [==============================] - 12s 72ms/step - loss: nan - categorical_accuracy: 0.3991 - val_loss: nan - val_categorical_accuracy: 0.4034\n",
      "Epoch 4/10\n",
      "162/162 [==============================] - 12s 76ms/step - loss: nan - categorical_accuracy: 0.3991 - val_loss: nan - val_categorical_accuracy: 0.4034\n",
      "Epoch 5/10\n",
      "162/162 [==============================] - 12s 75ms/step - loss: nan - categorical_accuracy: 0.3991 - val_loss: nan - val_categorical_accuracy: 0.4034\n",
      "Epoch 6/10\n",
      "162/162 [==============================] - 12s 77ms/step - loss: nan - categorical_accuracy: 0.3991 - val_loss: nan - val_categorical_accuracy: 0.4034\n",
      "Epoch 7/10\n",
      "162/162 [==============================] - 12s 74ms/step - loss: nan - categorical_accuracy: 0.3991 - val_loss: nan - val_categorical_accuracy: 0.4034\n",
      "Epoch 8/10\n",
      "162/162 [==============================] - 12s 76ms/step - loss: nan - categorical_accuracy: 0.3991 - val_loss: nan - val_categorical_accuracy: 0.4034\n",
      "Epoch 9/10\n",
      "162/162 [==============================] - 12s 75ms/step - loss: nan - categorical_accuracy: 0.3991 - val_loss: nan - val_categorical_accuracy: 0.4034\n",
      "Epoch 10/10\n",
      "162/162 [==============================] - 11s 66ms/step - loss: nan - categorical_accuracy: 0.3991 - val_loss: nan - val_categorical_accuracy: 0.4034\n",
      "137/137 - 3s - loss: nan - categorical_accuracy: 0.2234 - 3s/epoch - 20ms/step\n"
     ]
    },
    {
     "data": {
      "text/plain": [
       "0.2233944982290268"
      ]
     },
     "execution_count": 26,
     "metadata": {},
     "output_type": "execute_result"
    }
   ],
   "source": [
    "model = models.Sequential()\n",
    "model.add(layers.Normalization(axis=-1))\n",
    "model.add(layers.Conv1D(64, 3, activation='relu', input_shape=(1000, 13)))\n",
    "model.add(layers.MaxPooling1D(2))\n",
    "model.add(layers.Conv1D(128, 3, activation='relu'))\n",
    "model.add(layers.MaxPooling1D(2))\n",
    "model.add(layers.Conv1D(256, 3, activation='relu'))\n",
    "model.add(layers.MaxPooling1D(2))\n",
    "model.add(layers.Flatten())\n",
    "model.add(layers.Dense(256, activation='relu'))\n",
    "model.add(layers.Dropout(0.5))\n",
    "model.add(layers.Dense(128, activation='relu'))\n",
    "model.add(layers.Dropout(0.5))\n",
    "model.add(layers.Dense(64, activation='relu'))\n",
    "model.add(layers.Dropout(0.5))\n",
    "model.add(layers.Dense(32, activation='relu'))\n",
    "model.add(layers.Dropout(0.5))\n",
    "model.add(layers.Dense(16, activation='relu'))\n",
    "model.add(layers.Dropout(0.5))\n",
    "model.add(layers.Dense(12, activation='softmax'))\n",
    "\n",
    "optimizer = tf.keras.optimizers.legacy.Adam(learning_rate=1)\n",
    "\n",
    "model.compile(optimizer=optimizer,\n",
    "                loss='categorical_crossentropy',\n",
    "                metrics=['categorical_accuracy'])\n",
    "# model.summary()\n",
    "\n",
    "history = model.fit(X_train, y_train, epochs=10, validation_data=(X_val, y_val))\n",
    "\n",
    "test_loss, test_accuracy = model.evaluate(X_test, y_test, verbose=2)\n",
    "test_accuracy"
   ]
  }
 ],
 "metadata": {
  "kernelspec": {
   "display_name": "Python 3 (ipykernel)",
   "language": "python",
   "name": "python3"
  },
  "language_info": {
   "codemirror_mode": {
    "name": "ipython",
    "version": 3
   },
   "file_extension": ".py",
   "mimetype": "text/x-python",
   "name": "python",
   "nbconvert_exporter": "python",
   "pygments_lexer": "ipython3",
   "version": "3.11.5"
  }
 },
 "nbformat": 4,
 "nbformat_minor": 4
}
