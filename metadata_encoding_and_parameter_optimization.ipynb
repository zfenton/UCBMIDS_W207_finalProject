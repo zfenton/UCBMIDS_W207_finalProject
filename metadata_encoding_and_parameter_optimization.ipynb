{
 "cells": [
  {
   "cell_type": "code",
   "execution_count": 1,
   "metadata": {},
   "outputs": [],
   "source": [
    "import warnings\n",
    "warnings.filterwarnings('ignore')"
   ]
  },
  {
   "cell_type": "code",
   "execution_count": 2,
   "metadata": {
    "tags": []
   },
   "outputs": [],
   "source": [
    "import ast\n",
    "import matplotlib.pyplot as plt\n",
    "import numpy as np\n",
    "import os\n",
    "import pandas as pd\n",
    "import random\n",
    "from sklearn.ensemble import RandomForestClassifier\n",
    "from sklearn.metrics import accuracy_score\n",
    "from sklearn.metrics import confusion_matrix, ConfusionMatrixDisplay\n",
    "from sklearn.model_selection import train_test_split\n",
    "from sklearn.preprocessing import MultiLabelBinarizer\n",
    "from sklearn.preprocessing import OneHotEncoder\n",
    "from sklearn.svm import SVC\n",
    "import tensorflow as tf\n",
    "from tensorflow.keras import layers, models\n",
    "import wfdb\n",
    "import random"
   ]
  },
  {
   "cell_type": "markdown",
   "metadata": {},
   "source": [
    "### Load Data"
   ]
  },
  {
   "cell_type": "code",
   "execution_count": 3,
   "metadata": {},
   "outputs": [],
   "source": [
    "def load_raw_data(df, sampling_rate, path):\n",
    "    if sampling_rate == 100:\n",
    "        data = [wfdb.rdsamp(path+f) for f in df.filename_lr]\n",
    "    else:\n",
    "        data = [wfdb.rdsamp(path+f) for f in df.filename_hr]\n",
    "    data = np.array([signal for signal, meta in data])\n",
    "    return data\n",
    "\n",
    "path = \"/Users/danielkim/Documents/MIDS/W207-ML/Final/Data/ptb-xl-a-large-publicly-available-electrocardiography-dataset-1.0.3/\"\n",
    "sampling_rate = 100\n",
    "\n",
    "Y = pd.read_csv(path + \"ptbxl_database.csv\", index_col=\"ecg_id\")\n",
    "Y.scp_codes = Y.scp_codes.apply(lambda x: ast.literal_eval(x))\n",
    "\n",
    "X = load_raw_data(Y, sampling_rate, path)\n",
    "\n",
    "agg_df = pd.read_csv(path + \"scp_statements.csv\", index_col=0)\n",
    "agg_df = agg_df[agg_df.diagnostic == 1]\n",
    "\n",
    "def aggregate_diagnostic(y_dic):\n",
    "    tmp = []\n",
    "    for key in y_dic.keys():\n",
    "        if key in agg_df.index:\n",
    "            tmp.append(agg_df.loc[key].diagnostic_class)\n",
    "    return list(set(tmp))\n",
    "\n",
    "Y['diagnostic_superclass'] = Y.scp_codes.apply(aggregate_diagnostic)\n",
    "Y['diagnostic_superclass'] = Y['diagnostic_superclass'].apply(lambda x: x[0] if len(x) > 0 else 'NORM')"
   ]
  },
  {
   "cell_type": "markdown",
   "metadata": {},
   "source": [
    "# One Hot Encoding Meta Data"
   ]
  },
  {
   "cell_type": "code",
   "execution_count": 4,
   "metadata": {
    "tags": []
   },
   "outputs": [],
   "source": [
    "df = Y[['age', 'sex', 'height', 'weight', 'device']]"
   ]
  },
  {
   "cell_type": "code",
   "execution_count": 5,
   "metadata": {
    "tags": []
   },
   "outputs": [],
   "source": [
    "df = df.reset_index(drop=True, inplace=False)"
   ]
  },
  {
   "cell_type": "code",
   "execution_count": 6,
   "metadata": {
    "tags": []
   },
   "outputs": [],
   "source": [
    "meta = df.to_numpy()"
   ]
  },
  {
   "cell_type": "code",
   "execution_count": 7,
   "metadata": {
    "tags": []
   },
   "outputs": [],
   "source": [
    "enc = OneHotEncoder(handle_unknown='ignore')"
   ]
  },
  {
   "cell_type": "code",
   "execution_count": 8,
   "metadata": {
    "tags": []
   },
   "outputs": [
    {
     "data": {
      "text/html": [
       "<style>#sk-container-id-1 {color: black;}#sk-container-id-1 pre{padding: 0;}#sk-container-id-1 div.sk-toggleable {background-color: white;}#sk-container-id-1 label.sk-toggleable__label {cursor: pointer;display: block;width: 100%;margin-bottom: 0;padding: 0.3em;box-sizing: border-box;text-align: center;}#sk-container-id-1 label.sk-toggleable__label-arrow:before {content: \"▸\";float: left;margin-right: 0.25em;color: #696969;}#sk-container-id-1 label.sk-toggleable__label-arrow:hover:before {color: black;}#sk-container-id-1 div.sk-estimator:hover label.sk-toggleable__label-arrow:before {color: black;}#sk-container-id-1 div.sk-toggleable__content {max-height: 0;max-width: 0;overflow: hidden;text-align: left;background-color: #f0f8ff;}#sk-container-id-1 div.sk-toggleable__content pre {margin: 0.2em;color: black;border-radius: 0.25em;background-color: #f0f8ff;}#sk-container-id-1 input.sk-toggleable__control:checked~div.sk-toggleable__content {max-height: 200px;max-width: 100%;overflow: auto;}#sk-container-id-1 input.sk-toggleable__control:checked~label.sk-toggleable__label-arrow:before {content: \"▾\";}#sk-container-id-1 div.sk-estimator input.sk-toggleable__control:checked~label.sk-toggleable__label {background-color: #d4ebff;}#sk-container-id-1 div.sk-label input.sk-toggleable__control:checked~label.sk-toggleable__label {background-color: #d4ebff;}#sk-container-id-1 input.sk-hidden--visually {border: 0;clip: rect(1px 1px 1px 1px);clip: rect(1px, 1px, 1px, 1px);height: 1px;margin: -1px;overflow: hidden;padding: 0;position: absolute;width: 1px;}#sk-container-id-1 div.sk-estimator {font-family: monospace;background-color: #f0f8ff;border: 1px dotted black;border-radius: 0.25em;box-sizing: border-box;margin-bottom: 0.5em;}#sk-container-id-1 div.sk-estimator:hover {background-color: #d4ebff;}#sk-container-id-1 div.sk-parallel-item::after {content: \"\";width: 100%;border-bottom: 1px solid gray;flex-grow: 1;}#sk-container-id-1 div.sk-label:hover label.sk-toggleable__label {background-color: #d4ebff;}#sk-container-id-1 div.sk-serial::before {content: \"\";position: absolute;border-left: 1px solid gray;box-sizing: border-box;top: 0;bottom: 0;left: 50%;z-index: 0;}#sk-container-id-1 div.sk-serial {display: flex;flex-direction: column;align-items: center;background-color: white;padding-right: 0.2em;padding-left: 0.2em;position: relative;}#sk-container-id-1 div.sk-item {position: relative;z-index: 1;}#sk-container-id-1 div.sk-parallel {display: flex;align-items: stretch;justify-content: center;background-color: white;position: relative;}#sk-container-id-1 div.sk-item::before, #sk-container-id-1 div.sk-parallel-item::before {content: \"\";position: absolute;border-left: 1px solid gray;box-sizing: border-box;top: 0;bottom: 0;left: 50%;z-index: -1;}#sk-container-id-1 div.sk-parallel-item {display: flex;flex-direction: column;z-index: 1;position: relative;background-color: white;}#sk-container-id-1 div.sk-parallel-item:first-child::after {align-self: flex-end;width: 50%;}#sk-container-id-1 div.sk-parallel-item:last-child::after {align-self: flex-start;width: 50%;}#sk-container-id-1 div.sk-parallel-item:only-child::after {width: 0;}#sk-container-id-1 div.sk-dashed-wrapped {border: 1px dashed gray;margin: 0 0.4em 0.5em 0.4em;box-sizing: border-box;padding-bottom: 0.4em;background-color: white;}#sk-container-id-1 div.sk-label label {font-family: monospace;font-weight: bold;display: inline-block;line-height: 1.2em;}#sk-container-id-1 div.sk-label-container {text-align: center;}#sk-container-id-1 div.sk-container {/* jupyter's `normalize.less` sets `[hidden] { display: none; }` but bootstrap.min.css set `[hidden] { display: none !important; }` so we also need the `!important` here to be able to override the default hidden behavior on the sphinx rendered scikit-learn.org. See: https://github.com/scikit-learn/scikit-learn/issues/21755 */display: inline-block !important;position: relative;}#sk-container-id-1 div.sk-text-repr-fallback {display: none;}</style><div id=\"sk-container-id-1\" class=\"sk-top-container\"><div class=\"sk-text-repr-fallback\"><pre>OneHotEncoder(handle_unknown=&#x27;ignore&#x27;)</pre><b>In a Jupyter environment, please rerun this cell to show the HTML representation or trust the notebook. <br />On GitHub, the HTML representation is unable to render, please try loading this page with nbviewer.org.</b></div><div class=\"sk-container\" hidden><div class=\"sk-item\"><div class=\"sk-estimator sk-toggleable\"><input class=\"sk-toggleable__control sk-hidden--visually\" id=\"sk-estimator-id-1\" type=\"checkbox\" checked><label for=\"sk-estimator-id-1\" class=\"sk-toggleable__label sk-toggleable__label-arrow\">OneHotEncoder</label><div class=\"sk-toggleable__content\"><pre>OneHotEncoder(handle_unknown=&#x27;ignore&#x27;)</pre></div></div></div></div></div>"
      ],
      "text/plain": [
       "OneHotEncoder(handle_unknown='ignore')"
      ]
     },
     "execution_count": 8,
     "metadata": {},
     "output_type": "execute_result"
    }
   ],
   "source": [
    "enc.fit(meta)"
   ]
  },
  {
   "cell_type": "code",
   "execution_count": 9,
   "metadata": {
    "tags": []
   },
   "outputs": [
    {
     "data": {
      "text/plain": [
       "[array([2.0, 3.0, 4.0, 5.0, 6.0, 7.0, 8.0, 9.0, 10.0, 11.0, 12.0, 13.0,\n",
       "        14.0, 15.0, 16.0, 17.0, 18.0, 19.0, 20.0, 21.0, 22.0, 23.0, 24.0,\n",
       "        25.0, 26.0, 27.0, 28.0, 29.0, 30.0, 31.0, 32.0, 33.0, 34.0, 35.0,\n",
       "        36.0, 37.0, 38.0, 39.0, 40.0, 41.0, 42.0, 43.0, 44.0, 45.0, 46.0,\n",
       "        47.0, 48.0, 49.0, 50.0, 51.0, 52.0, 53.0, 54.0, 55.0, 56.0, 57.0,\n",
       "        58.0, 59.0, 60.0, 61.0, 62.0, 63.0, 64.0, 65.0, 66.0, 67.0, 68.0,\n",
       "        69.0, 70.0, 71.0, 72.0, 73.0, 74.0, 75.0, 76.0, 77.0, 78.0, 79.0,\n",
       "        80.0, 81.0, 82.0, 83.0, 84.0, 85.0, 86.0, 87.0, 88.0, 89.0, 300.0],\n",
       "       dtype=object),\n",
       " array([0, 1], dtype=object),\n",
       " array([6.0, 66.0, 67.0, 80.0, 85.0, 90.0, 93.0, 95.0, 97.0, 100.0, 104.0,\n",
       "        109.0, 116.0, 120.0, 135.0, 136.0, 137.0, 139.0, 140.0, 142.0,\n",
       "        143.0, 144.0, 145.0, 146.0, 147.0, 148.0, 149.0, 150.0, 151.0,\n",
       "        152.0, 153.0, 154.0, 155.0, 156.0, 157.0, 158.0, 159.0, 160.0,\n",
       "        161.0, 162.0, 163.0, 164.0, 165.0, 166.0, 167.0, 168.0, 169.0,\n",
       "        170.0, 171.0, 172.0, 173.0, 174.0, 175.0, 176.0, 177.0, 178.0,\n",
       "        179.0, 180.0, 181.0, 182.0, 183.0, 184.0, 185.0, 186.0, 187.0,\n",
       "        188.0, 189.0, 190.0, 191.0, 192.0, 193.0, 194.0, 195.0, 196.0,\n",
       "        197.0, 200.0, 209.0, nan], dtype=object),\n",
       " array([5.0, 12.0, 15.0, 16.0, 17.0, 19.0, 20.0, 25.0, 31.0, 32.0, 33.0,\n",
       "        35.0, 36.0, 37.0, 38.0, 39.0, 40.0, 41.0, 42.0, 43.0, 44.0, 45.0,\n",
       "        46.0, 47.0, 48.0, 49.0, 50.0, 51.0, 52.0, 53.0, 54.0, 55.0, 56.0,\n",
       "        57.0, 58.0, 59.0, 60.0, 61.0, 62.0, 63.0, 64.0, 65.0, 66.0, 67.0,\n",
       "        68.0, 69.0, 70.0, 71.0, 72.0, 73.0, 74.0, 75.0, 76.0, 77.0, 78.0,\n",
       "        79.0, 80.0, 81.0, 82.0, 83.0, 84.0, 85.0, 86.0, 87.0, 88.0, 89.0,\n",
       "        90.0, 91.0, 92.0, 93.0, 94.0, 95.0, 96.0, 97.0, 98.0, 99.0, 100.0,\n",
       "        101.0, 102.0, 103.0, 104.0, 105.0, 106.0, 107.0, 108.0, 109.0,\n",
       "        110.0, 111.0, 112.0, 113.0, 114.0, 115.0, 116.0, 117.0, 118.0,\n",
       "        119.0, 120.0, 121.0, 124.0, 125.0, 128.0, 130.0, 131.0, 132.0,\n",
       "        134.0, 135.0, 137.0, 139.0, 140.0, 142.0, 150.0, 158.0, 160.0,\n",
       "        162.0, 163.0, 164.0, 165.0, 169.0, 170.0, 178.0, 179.0, 180.0,\n",
       "        183.0, 185.0, 200.0, 210.0, 250.0, nan], dtype=object),\n",
       " array(['AT-6     6', 'AT-6 C', 'AT-6 C 5.0', 'AT-6 C 5.3', 'AT-6 C 5.5',\n",
       "        'AT-6 C 5.6', 'AT-6 C 5.8', 'AT-60    3', 'CS-12', 'CS-12   E',\n",
       "        'CS100    3'], dtype=object)]"
      ]
     },
     "execution_count": 9,
     "metadata": {},
     "output_type": "execute_result"
    }
   ],
   "source": [
    "enc.categories_"
   ]
  },
  {
   "cell_type": "code",
   "execution_count": 10,
   "metadata": {
    "tags": []
   },
   "outputs": [],
   "source": [
    "meta_enc = enc.transform(meta).toarray()"
   ]
  },
  {
   "cell_type": "code",
   "execution_count": 11,
   "metadata": {
    "tags": []
   },
   "outputs": [],
   "source": [
    "meta_enc_pad = tf.keras.utils.pad_sequences(\n",
    "    meta_enc,\n",
    "    maxlen=1000,\n",
    "    dtype='int32',\n",
    "    padding='post',\n",
    "    truncating='post',\n",
    "    value=0.0\n",
    ")"
   ]
  },
  {
   "cell_type": "code",
   "execution_count": 12,
   "metadata": {
    "tags": []
   },
   "outputs": [],
   "source": [
    "meta_enc_reshaped = meta_enc_pad[..., np.newaxis]"
   ]
  },
  {
   "cell_type": "code",
   "execution_count": 13,
   "metadata": {
    "tags": []
   },
   "outputs": [],
   "source": [
    "X = meta_enc_final = np.concatenate((X, meta_enc_reshaped), axis=2)"
   ]
  },
  {
   "cell_type": "code",
   "execution_count": 14,
   "metadata": {},
   "outputs": [
    {
     "data": {
      "text/plain": [
       "array([[-0.119, -0.055,  0.064, ..., -0.039, -0.079,  0.   ],\n",
       "       [-0.116, -0.051,  0.065, ..., -0.034, -0.074,  0.   ],\n",
       "       [-0.12 , -0.044,  0.076, ..., -0.029, -0.069,  0.   ],\n",
       "       ...,\n",
       "       [ 0.069,  0.   , -0.069, ..., -0.041, -0.058,  0.   ],\n",
       "       [ 0.086,  0.004, -0.081, ..., -0.046, -0.098,  0.   ],\n",
       "       [ 0.022, -0.031, -0.054, ..., -0.035, -0.12 ,  0.   ]])"
      ]
     },
     "execution_count": 14,
     "metadata": {},
     "output_type": "execute_result"
    }
   ],
   "source": [
    "X[0] # First example"
   ]
  },
  {
   "cell_type": "code",
   "execution_count": 15,
   "metadata": {},
   "outputs": [
    {
     "data": {
      "text/plain": [
       "(array(['CD', 'HYP', 'MI', 'NORM', 'STTC'], dtype=object),\n",
       " array([3942, 2371, 3162, 9924, 2400]))"
      ]
     },
     "execution_count": 15,
     "metadata": {},
     "output_type": "execute_result"
    }
   ],
   "source": [
    "y = Y['diagnostic_superclass'].to_numpy()\n",
    "classes, counts = np.unique(y, return_counts=True)\n",
    "classes, counts # Don't end up with same counts each time - fix?"
   ]
  },
  {
   "cell_type": "code",
   "execution_count": 16,
   "metadata": {},
   "outputs": [],
   "source": [
    "X_train, X_test, y_train, y_test = train_test_split(X, y, test_size=0.20, random_state=42, shuffle=True)"
   ]
  },
  {
   "cell_type": "code",
   "execution_count": 17,
   "metadata": {},
   "outputs": [
    {
     "data": {
      "text/plain": [
       "(17439,)"
      ]
     },
     "execution_count": 17,
     "metadata": {},
     "output_type": "execute_result"
    }
   ],
   "source": [
    "y_train.shape"
   ]
  },
  {
   "cell_type": "code",
   "execution_count": 18,
   "metadata": {},
   "outputs": [
    {
     "data": {
      "image/png": "[encoded data removed]",
      "text/plain": [
       "<Figure size 500x300 with 1 Axes>"
      ]
     },
     "metadata": {},
     "output_type": "display_data"
    }
   ],
   "source": [
    "plt.figure(figsize=(5,3))\n",
    "pd.Series(y_train).value_counts().plot(kind='bar')\n",
    "plt.title('Diagnostic Superclass Distribution')\n",
    "plt.xlabel('Superclass')\n",
    "plt.ylabel('Count')\n",
    "plt.show()"
   ]
  },
  {
   "cell_type": "code",
   "execution_count": 19,
   "metadata": {},
   "outputs": [
    {
     "name": "stdout",
     "output_type": "stream",
     "text": [
      "['CD' 'HYP' 'MI' 'NORM' 'STTC'] [3134 1906 2567 7907 1925]\n"
     ]
    }
   ],
   "source": [
    "train_classes, train_counts = np.unique(y_train, return_counts=True)\n",
    "print(train_classes, train_counts)"
   ]
  },
  {
   "cell_type": "markdown",
   "metadata": {},
   "source": [
    "### Correct Data Imbalance"
   ]
  },
  {
   "cell_type": "code",
   "execution_count": 20,
   "metadata": {},
   "outputs": [
    {
     "name": "stdout",
     "output_type": "stream",
     "text": [
      "1906\n"
     ]
    }
   ],
   "source": [
    "smallest_class_count = min(train_counts)\n",
    "print(smallest_class_count)"
   ]
  },
  {
   "cell_type": "code",
   "execution_count": 21,
   "metadata": {},
   "outputs": [],
   "source": [
    "def get_class_subset(ekg_class):\n",
    "    y_train_class_indices = np.where(y_train == ekg_class)[0]\n",
    "    y_train_class_subset_indices = np.random.choice(\n",
    "        y_train_class_indices,\n",
    "        size=smallest_class_count,\n",
    "        replace=False\n",
    "    )\n",
    "    X_train_class_subset = X_train[y_train_class_subset_indices]\n",
    "    y_train_class_subset = np.array([ekg_class] * smallest_class_count)\n",
    "    return X_train_class_subset, y_train_class_subset\n",
    "\n",
    "X_train_cd, y_train_cd = get_class_subset('CD')\n",
    "X_train_hyp, y_train_hyp = get_class_subset('HYP')\n",
    "X_train_mi, y_train_mi = get_class_subset('MI')\n",
    "X_train_norm, y_train_norm = get_class_subset('NORM')\n",
    "X_train_sttc, y_train_sttc = get_class_subset('STTC')"
   ]
  },
  {
   "cell_type": "code",
   "execution_count": 22,
   "metadata": {},
   "outputs": [
    {
     "name": "stdout",
     "output_type": "stream",
     "text": [
      "(1906, 1000, 13)\n"
     ]
    }
   ],
   "source": [
    "print(X_train_cd.shape)\n",
    "#print(X_train_hyp.shape)\n",
    "#print(X_train_mi.shape)\n",
    "#print(X_train_norm.shape)\n",
    "#print(X_train_sttc.shape)"
   ]
  },
  {
   "cell_type": "code",
   "execution_count": 23,
   "metadata": {},
   "outputs": [
    {
     "data": {
      "text/plain": [
       "(9530, 1000, 13)"
      ]
     },
     "execution_count": 23,
     "metadata": {},
     "output_type": "execute_result"
    }
   ],
   "source": [
    "X_train = np.concatenate((X_train_cd, X_train_hyp, X_train_mi, X_train_norm, X_train_sttc))\n",
    "X_train.shape"
   ]
  },
  {
   "cell_type": "code",
   "execution_count": 24,
   "metadata": {},
   "outputs": [],
   "source": [
    "#print(y_train_cd.shape)\n",
    "#print(y_train_hyp.shape)\n",
    "#print(y_train_mi.shape)\n",
    "#print(y_train_norm.shape)\n",
    "#print(y_train_sttc.shape)"
   ]
  },
  {
   "cell_type": "code",
   "execution_count": 25,
   "metadata": {},
   "outputs": [
    {
     "data": {
      "text/plain": [
       "(9530,)"
      ]
     },
     "execution_count": 25,
     "metadata": {},
     "output_type": "execute_result"
    }
   ],
   "source": [
    "y_train = np.concatenate((y_train_cd, y_train_hyp, y_train_mi, y_train_norm, y_train_sttc))\n",
    "y_train.shape"
   ]
  },
  {
   "cell_type": "code",
   "execution_count": 26,
   "metadata": {},
   "outputs": [
    {
     "data": {
      "image/png": "[encoded data removed]",
      "text/plain": [
       "<Figure size 500x300 with 1 Axes>"
      ]
     },
     "metadata": {},
     "output_type": "display_data"
    }
   ],
   "source": [
    "plt.figure(figsize=(5,3))\n",
    "pd.Series(y_train).value_counts().plot(kind='bar')\n",
    "plt.title('Diagnostic Superclass Distribution')\n",
    "plt.xlabel('Superclass')\n",
    "plt.ylabel('Count')\n",
    "plt.show()"
   ]
  },
  {
   "cell_type": "markdown",
   "metadata": {},
   "source": [
    "### Split Data"
   ]
  },
  {
   "cell_type": "code",
   "execution_count": 27,
   "metadata": {},
   "outputs": [],
   "source": [
    "X_train, X_val, y_train, y_val = train_test_split(X_train, y_train, test_size=0.20, random_state=42, shuffle=True)"
   ]
  },
  {
   "cell_type": "code",
   "execution_count": 28,
   "metadata": {},
   "outputs": [
    {
     "name": "stdout",
     "output_type": "stream",
     "text": [
      "Training data shape: (7624, 1000, 13)\n",
      "Training labels shape: (7624,) \n",
      "\n",
      "Validation data shape: (1906, 1000, 13)\n",
      "Validation labels shape: (1906,) \n",
      "\n",
      "Test data shape: (4360, 1000, 13)\n",
      "Test labels shape: (4360,)\n"
     ]
    }
   ],
   "source": [
    "print('Training data shape:', X_train.shape)\n",
    "print('Training labels shape:', y_train.shape, '\\n')\n",
    "print('Validation data shape:', X_val.shape)\n",
    "print('Validation labels shape:', y_val.shape, '\\n')\n",
    "print('Test data shape:', X_test.shape)\n",
    "print('Test labels shape:', y_test.shape)"
   ]
  },
  {
   "cell_type": "markdown",
   "metadata": {},
   "source": [
    "### Normalize Data"
   ]
  },
  {
   "cell_type": "code",
   "execution_count": 29,
   "metadata": {},
   "outputs": [
    {
     "name": "stdout",
     "output_type": "stream",
     "text": [
      "-16.32 9.39\n"
     ]
    }
   ],
   "source": [
    "X_train_extra_flat = np.array([ekg.flatten() for ekg in X_train]).flatten()\n",
    "print(min(X_train_extra_flat), max(X_train_extra_flat))"
   ]
  },
  {
   "cell_type": "code",
   "execution_count": 30,
   "metadata": {},
   "outputs": [],
   "source": [
    "def normalize(data):\n",
    "    data_mean = data.mean()\n",
    "    data_sd = data.std()\n",
    "    return (data - data_mean) / data_sd\n",
    "\n",
    "X_train = normalize(X_train)\n",
    "X_val = normalize(X_val)\n",
    "X_test = normalize(X_test)"
   ]
  },
  {
   "cell_type": "code",
   "execution_count": 31,
   "metadata": {},
   "outputs": [
    {
     "name": "stdout",
     "output_type": "stream",
     "text": [
      "-70.22010719813565 40.40483801213132\n"
     ]
    }
   ],
   "source": [
    "X_train_extra_flat = np.array([ekg.flatten() for ekg in X_train]).flatten()\n",
    "print(min(X_train_extra_flat), max(X_train_extra_flat))"
   ]
  },
  {
   "cell_type": "markdown",
   "metadata": {},
   "source": [
    "### Baseline Models"
   ]
  },
  {
   "cell_type": "code",
   "execution_count": 32,
   "metadata": {},
   "outputs": [
    {
     "name": "stdout",
     "output_type": "stream",
     "text": [
      "Training accuracy: 0.19530430220356768\n",
      "Validation accuracy: 0.20199370409233997\n",
      "Test accuracy: 0.1974770642201835\n"
     ]
    },
    {
     "data": {
      "image/png": "[encoded data removed]",
      "text/plain": [
       "<Figure size 640x480 with 2 Axes>"
      ]
     },
     "metadata": {},
     "output_type": "display_data"
    }
   ],
   "source": [
    "def random_classification(training_data):\n",
    "    return [np.random.choice(classes) for _ in training_data]\n",
    "\n",
    "predictions_train = random_classification(X_train)\n",
    "accuracy_train = accuracy_score(y_train, predictions_train)\n",
    "print('Training accuracy:', accuracy_train)\n",
    "\n",
    "predictions_val = random_classification(X_val)\n",
    "accuracy_val = accuracy_score(y_val, predictions_val)\n",
    "print('Validation accuracy:', accuracy_val)\n",
    "\n",
    "predictions_test = random_classification(X_test)\n",
    "accuracy_test = accuracy_score(y_test, predictions_test)\n",
    "print('Test accuracy:', accuracy_test)\n",
    "\n",
    "random_cm = confusion_matrix(y_test, predictions_test, labels=train_classes)\n",
    "ConfusionMatrixDisplay(confusion_matrix=random_cm, display_labels=train_classes).plot();"
   ]
  },
  {
   "cell_type": "code",
   "execution_count": 33,
   "metadata": {},
   "outputs": [
    {
     "name": "stdout",
     "output_type": "stream",
     "text": [
      "Training accuracy: 0.20120671563483736\n",
      "Validation accuracy: 0.19517313746065057\n",
      "Test accuracy: 0.4626146788990826\n"
     ]
    },
    {
     "data": {
      "image/png": "[encoded data removed]",
      "text/plain": [
       "<Figure size 640x480 with 2 Axes>"
      ]
     },
     "metadata": {},
     "output_type": "display_data"
    }
   ],
   "source": [
    "def always_classify_normal(training_data):\n",
    "    return ['NORM'] * len(training_data)\n",
    "\n",
    "predictions_train = always_classify_normal(X_train)\n",
    "accuracy_train = accuracy_score(y_train, predictions_train)\n",
    "print('Training accuracy:', accuracy_train)\n",
    "\n",
    "predictions_val = always_classify_normal(X_val)\n",
    "accuracy_val = accuracy_score(y_val, predictions_val)\n",
    "print('Validation accuracy:', accuracy_val)\n",
    "\n",
    "predictions_test = always_classify_normal(X_test)\n",
    "accuracy_test = accuracy_score(y_test, predictions_test)\n",
    "print('Test accuracy:', accuracy_test)\n",
    "\n",
    "normal_cm = confusion_matrix(y_test, predictions_test, labels=train_classes)\n",
    "ConfusionMatrixDisplay(confusion_matrix=normal_cm, display_labels=train_classes).plot();"
   ]
  },
  {
   "cell_type": "markdown",
   "metadata": {},
   "source": [
    "### Train Models"
   ]
  },
  {
   "cell_type": "code",
   "execution_count": 34,
   "metadata": {},
   "outputs": [
    {
     "name": "stdout",
     "output_type": "stream",
     "text": [
      "(7624, 13000)\n",
      "(1906, 13000)\n",
      "(4360, 13000)\n"
     ]
    }
   ],
   "source": [
    "X_train_flattened = np.array([ekg.flatten() for ekg in X_train])\n",
    "print(X_train_flattened.shape)\n",
    "\n",
    "X_val_flattened = np.array([ekg.flatten() for ekg in X_val])\n",
    "print(X_val_flattened.shape)\n",
    "\n",
    "X_test_flattened = np.array([ekg.flatten() for ekg in X_test])\n",
    "print(X_test_flattened.shape)"
   ]
  },
  {
   "cell_type": "markdown",
   "metadata": {},
   "source": [
    "**Neural Network**"
   ]
  },
  {
   "cell_type": "code",
   "execution_count": 35,
   "metadata": {},
   "outputs": [],
   "source": [
    "mlb = MultiLabelBinarizer()\n",
    "y_train = mlb.fit_transform(y_train)\n",
    "y_val = mlb.transform(y_val)\n",
    "y_test = mlb.transform(y_test)"
   ]
  },
  {
   "cell_type": "code",
   "execution_count": 45,
   "metadata": {
    "tags": []
   },
   "outputs": [
    {
     "name": "stdout",
     "output_type": "stream",
     "text": [
      "Epoch 1/5\n",
      "239/239 [==============================] - 8s 32ms/step - loss: nan - categorical_accuracy: 0.3641 - val_loss: nan - val_categorical_accuracy: 0.3919\n",
      "Epoch 2/5\n",
      "239/239 [==============================] - 8s 32ms/step - loss: nan - categorical_accuracy: 0.4020 - val_loss: nan - val_categorical_accuracy: 0.3919\n",
      "Epoch 3/5\n",
      "239/239 [==============================] - 8s 31ms/step - loss: nan - categorical_accuracy: 0.4020 - val_loss: nan - val_categorical_accuracy: 0.3919\n",
      "Epoch 4/5\n",
      "239/239 [==============================] - 8s 35ms/step - loss: nan - categorical_accuracy: 0.4020 - val_loss: nan - val_categorical_accuracy: 0.3919\n",
      "Epoch 5/5\n",
      "239/239 [==============================] - 8s 33ms/step - loss: nan - categorical_accuracy: 0.4020 - val_loss: nan - val_categorical_accuracy: 0.3919\n",
      "137/137 - 1s - loss: nan - categorical_accuracy: 0.2943 - 1s/epoch - 9ms/step\n"
     ]
    },
    {
     "data": {
      "text/plain": [
       "0.2942660450935364"
      ]
     },
     "execution_count": 45,
     "metadata": {},
     "output_type": "execute_result"
    }
   ],
   "source": [
    "model = models.Sequential()\n",
    "model.add(layers.Conv1D(64, 3, activation='relu', input_shape=(1000, 13)))\n",
    "model.add(layers.MaxPooling1D(2))\n",
    "model.add(layers.Conv1D(128, 3, activation='relu'))\n",
    "model.add(layers.MaxPooling1D(2))\n",
    "model.add(layers.Conv1D(256, 3, activation='relu'))\n",
    "model.add(layers.MaxPooling1D(2))\n",
    "model.add(layers.Flatten())\n",
    "model.add(layers.Dense(256, activation='relu'))\n",
    "model.add(layers.Dropout(0.5))\n",
    "model.add(layers.Dense(128, activation='relu'))\n",
    "model.add(layers.Dropout(0.5))\n",
    "model.add(layers.Dense(64, activation='relu'))\n",
    "model.add(layers.Dropout(0.5))\n",
    "model.add(layers.Dense(32, activation='relu'))\n",
    "model.add(layers.Dropout(0.5))\n",
    "model.add(layers.Dense(16, activation='relu'))\n",
    "model.add(layers.Dropout(0.5))\n",
    "model.add(layers.Dense(12, activation='softmax'))\n",
    "\n",
    "optimizer = tf.keras.optimizers.legacy.Adam(learning_rate=0.1)\n",
    "\n",
    "model.compile(optimizer=optimizer,\n",
    "                loss='categorical_crossentropy',\n",
    "                metrics=['categorical_accuracy'])\n",
    "# model.summary()\n",
    "\n",
    "history = model.fit(X_train, y_train, epochs=5, validation_data=(X_val, y_val))\n",
    "\n",
    "test_loss, test_accuracy = model.evaluate(X_test, y_test, verbose=2)\n",
    "test_accuracy"
   ]
  },
  {
   "cell_type": "code",
   "execution_count": 50,
   "metadata": {},
   "outputs": [],
   "source": [
    "def build_model(num_conv_layers=3, \n",
    "                conv_filters=[64, 128, 256],\n",
    "                conv_kernel_size=3,\n",
    "                conv_activation='relu',\n",
    "                pool_size=2,\n",
    "                dense_units=[256, 128, 64, 32, 16],\n",
    "                dense_activation='relu',\n",
    "                dropout_rate=0.5,\n",
    "                input_shape=(1000, 13),\n",
    "                num_classes=12,\n",
    "                optimizer='adam',\n",
    "                loss='categorical_crossentropy',\n",
    "                learning_rate = 0.01):\n",
    "    \n",
    "    model = models.Sequential()\n",
    "    \n",
    "    for i in range(num_conv_layers):\n",
    "        model.add(layers.Conv1D(conv_filters[i], conv_kernel_size, activation=conv_activation, input_shape=input_shape))\n",
    "        model.add(layers.MaxPooling1D(pool_size))\n",
    "    \n",
    "    model.add(layers.Flatten())\n",
    "    \n",
    "    for units in dense_units:\n",
    "        model.add(layers.Dense(units, activation=dense_activation))\n",
    "        model.add(layers.Dropout(dropout_rate))\n",
    "    \n",
    "    model.add(layers.Dense(num_classes, activation='softmax'))\n",
    "    \n",
    "    model.compile(optimizer=optimizer, loss=loss, metrics=['accuracy'])\n",
    "    \n",
    "    return model"
   ]
  },
  {
   "cell_type": "code",
   "execution_count": 51,
   "metadata": {
    "tags": []
   },
   "outputs": [
    {
     "name": "stdout",
     "output_type": "stream",
     "text": [
      "Epoch 1/3\n",
      "239/239 [==============================] - 3s 14ms/step - loss: 179.5631 - accuracy: 0.1970 - val_loss: 6588.6484 - val_accuracy: 0.0000e+00\n",
      "Epoch 2/3\n",
      "239/239 [==============================] - 3s 13ms/step - loss: 18372012032.0000 - accuracy: 0.1393 - val_loss: 69871714304.0000 - val_accuracy: 0.1952\n",
      "Epoch 3/3\n",
      "239/239 [==============================] - 3s 13ms/step - loss: 1726351933440.0000 - accuracy: 0.1266 - val_loss: 2817622278144.0000 - val_accuracy: 0.1952\n",
      "Epoch 1/3\n",
      "239/239 [==============================] - 4s 14ms/step - loss: 7362875904.0000 - accuracy: 0.0859 - val_loss: 66228355072.0000 - val_accuracy: 0.3919\n",
      "Epoch 2/3\n",
      "239/239 [==============================] - 3s 14ms/step - loss: 97739404738560.0000 - accuracy: 0.1240 - val_loss: 246015827378176.0000 - val_accuracy: 0.3919\n",
      "Epoch 3/3\n",
      "239/239 [==============================] - 3s 14ms/step - loss: 3930079222562816.0000 - accuracy: 0.1243 - val_loss: 6366140649439232.0000 - val_accuracy: 0.1952\n",
      "Epoch 1/3\n",
      "239/239 [==============================] - 4s 15ms/step - loss: 5848948736.0000 - accuracy: 0.0693 - val_loss: 89626583040.0000 - val_accuracy: 0.3919\n",
      "Epoch 2/3\n",
      "239/239 [==============================] - 3s 15ms/step - loss: 2586723510910976.0000 - accuracy: 0.1308 - val_loss: 10020626853003264.0000 - val_accuracy: 0.3919\n",
      "Epoch 3/3\n",
      "239/239 [==============================] - 4s 15ms/step - loss: 309220877759676416.0000 - accuracy: 0.1253 - val_loss: 528051213837533184.0000 - val_accuracy: 0.3919\n",
      "Epoch 1/3\n",
      "239/239 [==============================] - 4s 16ms/step - loss: 4396841959424.0000 - accuracy: 0.1267 - val_loss: 21705038757888.0000 - val_accuracy: 0.3919\n",
      "Epoch 2/3\n",
      "239/239 [==============================] - 4s 16ms/step - loss: 601776801374535680.0000 - accuracy: 0.1224 - val_loss: 1643962572937887744.0000 - val_accuracy: 0.1952\n",
      "Epoch 3/3\n",
      "239/239 [==============================] - 4s 18ms/step - loss: nan - accuracy: 0.3078 - val_loss: nan - val_accuracy: 0.3919\n",
      "Epoch 1/3\n",
      "239/239 [==============================] - 5s 21ms/step - loss: 4316455017381888.0000 - accuracy: 0.1309 - val_loss: 33635194565033984.0000 - val_accuracy: 0.3919\n",
      "Epoch 2/3\n",
      "239/239 [==============================] - 4s 18ms/step - loss: nan - accuracy: 0.2622 - val_loss: nan - val_accuracy: 0.3919\n",
      "Epoch 3/3\n",
      "239/239 [==============================] - 4s 19ms/step - loss: nan - accuracy: 0.4020 - val_loss: nan - val_accuracy: 0.3919\n"
     ]
    },
    {
     "data": {
      "image/png": "[encoded data removed]",
      "text/plain": [
       "<Figure size 1200x600 with 1 Axes>"
      ]
     },
     "metadata": {},
     "output_type": "display_data"
    }
   ],
   "source": [
    "def test_model_configurations(X_train, y_train, X_val, y_val):\n",
    "    \n",
    "    results = {}\n",
    "    \n",
    "    #parameters to test out\n",
    "    #[test_id, num_conv_layers, conv_filters, dense_units, dropout_rate, pool_size]\n",
    "    parameters = np.array([\n",
    "        [1, 1,[64],[256, 128, 64, 32, 16],0.5,2],\n",
    "        [2, 2,[64, 64],[256, 128, 64, 32, 16],0.5,2],\n",
    "        [3, 3,[64, 64, 64],[256, 128, 64, 32, 16],0.5,2],\n",
    "        [4, 4,[64, 64, 64, 64],[256, 128, 64, 32, 16],0.5,2],\n",
    "        [5, 5,[64, 64, 64, 64, 64],[256, 128, 64, 32, 16],0.5,2]\n",
    "    ])\n",
    "    \n",
    "    for parameter in parameters:\n",
    "        model = build_model(\n",
    "            num_conv_layers = parameter[1], \n",
    "            conv_filters = parameter[2],\n",
    "            dense_units = parameter[3],\n",
    "            dropout_rate = parameter[4],\n",
    "            pool_size = parameter[5]\n",
    "        )\n",
    "        history = model.fit(X_train, y_train, epochs=3, batch_size=32, validation_data=(X_val, y_val))\n",
    "        \n",
    "        results[str(parameter[0])] = {\n",
    "            'val_accuracy': history.history['val_accuracy'][-1],\n",
    "            'accuracy': history.history['accuracy'][-1]\n",
    "        }\n",
    "    \n",
    "    return results\n",
    "\n",
    "\n",
    "results = test_model_configurations(X_train, y_train, X_val, y_val)\n",
    "\n",
    "plt.figure(figsize=(12, 6))\n",
    "x = np.arange(len(results))\n",
    "width = 0.35\n",
    "\n",
    "plt.bar(x - width/2, [results[k]['val_accuracy'] for k in results], width, label='Validation Accuracy')\n",
    "plt.bar(x + width/2, [results[k]['accuracy'] for k in results], width, label='Accuracy')\n",
    "\n",
    "plt.xticks(x, results.keys())\n",
    "plt.xlabel('Model Configuration')\n",
    "plt.ylabel('Accuracy')\n",
    "plt.title('Model Performance Comparison')\n",
    "plt.legend()\n",
    "plt.show()"
   ]
  },
  {
   "cell_type": "code",
   "execution_count": null,
   "metadata": {
    "tags": []
   },
   "outputs": [],
   "source": [
    "def test_model_configurations(X_train, y_train, X_val, y_val):\n",
    "    \n",
    "    results = {}\n",
    "    \n",
    "    #parameters to test out\n",
    "    #[test_id, num_conv_layers, conv_filters, dense_units, dropout_rate, pool_size]\n",
    "    parameters = np.array([\n",
    "        [6, 3,[64, 128, 256],[256, 128, 64, 32, 16],0.5,2],\n",
    "        [7, 3,[128, 128, 128],[256, 128, 64, 32, 16],0.5,2],\n",
    "        [8, 3,[256, 256, 256],[256, 128, 64, 32, 16],0.5,2],\n",
    "        [9, 3,[256, 128, 64],[256, 128, 64, 32, 16],0.5,2],\n",
    "        [10, 3,[64, 64, 64],[256, 128, 64, 32, 16],0.5,2]\n",
    "    ])\n",
    "    \n",
    "    for parameter in parameters:\n",
    "        model = build_model(\n",
    "            num_conv_layers = parameter[1], \n",
    "            conv_filters = parameter[2],\n",
    "            dense_units = parameter[3],\n",
    "            dropout_rate = parameter[4],\n",
    "            pool_size = parameter[5]\n",
    "        )\n",
    "        history = model.fit(X_train, y_train, epochs=5, batch_size=32, validation_data=(X_val, y_val))\n",
    "        \n",
    "        results[str(parameter[0])] = {\n",
    "            'val_accuracy': history.history['val_accuracy'][-1],\n",
    "            'accuracy': history.history['accuracy'][-1]\n",
    "        }\n",
    "    \n",
    "    return results\n",
    "\n",
    "\n",
    "results = test_model_configurations(X_train, y_train, X_val, y_val)\n",
    "\n",
    "plt.figure(figsize=(12, 6))\n",
    "x = np.arange(len(results))\n",
    "width = 0.35\n",
    "\n",
    "plt.bar(x - width/2, [results[k]['val_accuracy'] for k in results], width, label='Validation Accuracy')\n",
    "plt.bar(x + width/2, [results[k]['accuracy'] for k in results], width, label='Accuracy')\n",
    "\n",
    "plt.xticks(x, results.keys())\n",
    "plt.xlabel('Model Configuration')\n",
    "plt.ylabel('Accuracy')\n",
    "plt.title('Model Performance Comparison')\n",
    "plt.legend()\n",
    "plt.show()  "
   ]
  },
  {
   "cell_type": "code",
   "execution_count": null,
   "metadata": {},
   "outputs": [],
   "source": [
    "def test_model_configurations(X_train, y_train, X_val, y_val):\n",
    "    \n",
    "    results = {}\n",
    "    \n",
    "    #parameters to test out\n",
    "    #[test_id, num_conv_layers, conv_filters, dense_units, dropout_rate, pool_size]\n",
    "    parameters = np.array([\n",
    "        [6, 3,[64, 128, 256],[256, 128, 64, 32, 16],0.5,1],\n",
    "        [7, 3,[128, 128, 128],[256, 128, 64, 32, 16],0.5,2],\n",
    "        [8, 3,[256, 256, 256],[256, 128, 64, 32, 16],0.5,3]\n",
    "    ])\n",
    "    \n",
    "    for parameter in parameters:\n",
    "        model = build_model(\n",
    "            num_conv_layers = parameter[1], \n",
    "            conv_filters = parameter[2],\n",
    "            dense_units = parameter[3],\n",
    "            dropout_rate = parameter[4],\n",
    "            pool_size = parameter[5]\n",
    "        )\n",
    "        history = model.fit(X_train, y_train, epochs=3, batch_size=32, validation_data=(X_val, y_val))\n",
    "        \n",
    "        results[str(parameter[0])] = {\n",
    "            'val_accuracy': history.history['val_accuracy'][-1],\n",
    "            'accuracy': history.history['accuracy'][-1]\n",
    "        }\n",
    "    \n",
    "    return results\n",
    "\n",
    "\n",
    "results = test_model_configurations(X_train, y_train, X_val, y_val)\n",
    "\n",
    "plt.figure(figsize=(12, 6))\n",
    "x = np.arange(len(results))\n",
    "width = 0.35\n",
    "\n",
    "plt.bar(x - width/2, [results[k]['val_accuracy'] for k in results], width, label='Validation Accuracy')\n",
    "plt.bar(x + width/2, [results[k]['accuracy'] for k in results], width, label='Accuracy')\n",
    "\n",
    "plt.xticks(x, results.keys())\n",
    "plt.xlabel('Model Configuration')\n",
    "plt.ylabel('Accuracy')\n",
    "plt.title('Model Performance Comparison')\n",
    "plt.legend()\n",
    "plt.show()  "
   ]
  },
  {
   "cell_type": "code",
   "execution_count": null,
   "metadata": {
    "tags": []
   },
   "outputs": [],
   "source": [
    "training_accuracies = np.array(training_accuracies)\n",
    "validation_accuracies = np.array(validation_accuracies)"
   ]
  },
  {
   "cell_type": "code",
   "execution_count": null,
   "metadata": {
    "tags": []
   },
   "outputs": [],
   "source": [
    "training_acc = training_accuracies[:, -1]\n",
    "validation_acc = validation_accuracies[:, -1]"
   ]
  },
  {
   "cell_type": "code",
   "execution_count": null,
   "metadata": {
    "tags": []
   },
   "outputs": [],
   "source": [
    "accuracy = np.stack((training_acc, validation_acc), axis =1)\n",
    "accuracy = pd.DataFrame(accuracy)"
   ]
  },
  {
   "cell_type": "code",
   "execution_count": null,
   "metadata": {
    "tags": []
   },
   "outputs": [],
   "source": [
    "plt.figure(figsize=(9, 5))\n",
    "plt.scatter(training_acc, validation_acc)\n",
    "\n",
    "plt.title('Training vs Validation Accuracy')\n",
    "plt.xlabel('Training Accuracy')\n",
    "plt.ylabel('Validation Accuracy')"
   ]
  },
  {
   "cell_type": "code",
   "execution_count": null,
   "metadata": {},
   "outputs": [],
   "source": [
    "plt.plot(history.history['accuracy'], label='Training Accuracy')\n",
    "plt.plot(history.history['val_accuracy'], label = 'Validation Accuracy')\n",
    "plt.xlabel('Epoch')\n",
    "plt.ylabel('Accuracy')\n",
    "plt.title('Accuracy Accross Epochs')\n",
    "plt.ylim([0, 1])\n",
    "plt.legend(loc='lower right')\n",
    "plt.show();"
   ]
  },
  {
   "cell_type": "code",
   "execution_count": null,
   "metadata": {},
   "outputs": [],
   "source": []
  }
 ],
 "metadata": {
  "kernelspec": {
   "display_name": "Python 3 (ipykernel)",
   "language": "python",
   "name": "python3"
  },
  "language_info": {
   "codemirror_mode": {
    "name": "ipython",
    "version": 3
   },
   "file_extension": ".py",
   "mimetype": "text/x-python",
   "name": "python",
   "nbconvert_exporter": "python",
   "pygments_lexer": "ipython3",
   "version": "3.11.5"
  }
 },
 "nbformat": 4,
 "nbformat_minor": 4
}
